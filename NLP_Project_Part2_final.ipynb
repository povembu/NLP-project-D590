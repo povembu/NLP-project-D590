{
  "cells": [
    {
      "cell_type": "markdown",
      "metadata": {
        "id": "view-in-github",
        "colab_type": "text"
      },
      "source": [
        "<a href=\"https://colab.research.google.com/github/povembu/NLP-project-D590/blob/main/NLP_Project_Part2_final.ipynb\" target=\"_parent\"><img src=\"https://colab.research.google.com/assets/colab-badge.svg\" alt=\"Open In Colab\"/></a>"
      ]
    },
    {
      "cell_type": "markdown",
      "source": [
        "# Final Project Part 2\n",
        "# Text Classification of Online Hate Speech\n",
        "\n",
        "## By Binh Bui, Pooja Rajan, and Alexander Watkins\n"
      ],
      "metadata": {
        "id": "zNo5tIYdT4Qw"
      },
      "id": "zNo5tIYdT4Qw"
    },
    {
      "cell_type": "markdown",
      "source": [
        "The purpose of this notebook is to create a model capable of classifying text as either hate speech or non hate speech. This process is broken down into 3 major steps:\n",
        "\n",
        "*   Preprocessing (dataset prep, train/test split, and text cleaning and normalization)\n",
        "*   Feature extraction (vectorization)\n",
        "*   Model creation (model creation, model evaluation, and classification tests)\n",
        "\n",
        "The preprocessing and feature extraction steps involved the standard procedures to prepare a dataset for NLP. For model creation we tested a variety of different models and feature extraction methods to determine which process best suited our data. The chosen model was then applied to sample texts to demonstrate its effectiveness."
      ],
      "metadata": {
        "id": "ZKj933UBBjV-"
      },
      "id": "ZKj933UBBjV-"
    },
    {
      "cell_type": "markdown",
      "source": [
        "## Dataset Prep"
      ],
      "metadata": {
        "id": "XFmA8faX_Ivn"
      },
      "id": "XFmA8faX_Ivn"
    },
    {
      "cell_type": "markdown",
      "source": [
        "### Dataset Loading"
      ],
      "metadata": {
        "id": "6hgPe-F2-_YN"
      },
      "id": "6hgPe-F2-_YN"
    },
    {
      "cell_type": "code",
      "source": [
        "!pip install datasets #install datasets library for HuggingFace"
      ],
      "metadata": {
        "colab": {
          "base_uri": "https://localhost:8080/"
        },
        "id": "SIPl-w9AUSQO",
        "outputId": "300d2745-644d-4d68-c9b2-e3bb37ad4f63",
        "collapsed": true
      },
      "id": "SIPl-w9AUSQO",
      "execution_count": null,
      "outputs": [
        {
          "output_type": "stream",
          "name": "stdout",
          "text": [
            "Collecting datasets\n",
            "  Downloading datasets-2.15.0-py3-none-any.whl (521 kB)\n",
            "\u001b[2K     \u001b[90m━━━━━━━━━━━━━━━━━━━━━━━━━━━━━━━━━━━━━━━━\u001b[0m \u001b[32m521.2/521.2 kB\u001b[0m \u001b[31m6.8 MB/s\u001b[0m eta \u001b[36m0:00:00\u001b[0m\n",
            "\u001b[?25hRequirement already satisfied: numpy>=1.17 in /usr/local/lib/python3.10/dist-packages (from datasets) (1.23.5)\n",
            "Requirement already satisfied: pyarrow>=8.0.0 in /usr/local/lib/python3.10/dist-packages (from datasets) (9.0.0)\n",
            "Collecting pyarrow-hotfix (from datasets)\n",
            "  Downloading pyarrow_hotfix-0.5-py3-none-any.whl (7.8 kB)\n",
            "Collecting dill<0.3.8,>=0.3.0 (from datasets)\n",
            "  Downloading dill-0.3.7-py3-none-any.whl (115 kB)\n",
            "\u001b[2K     \u001b[90m━━━━━━━━━━━━━━━━━━━━━━━━━━━━━━━━━━━━━━━━\u001b[0m \u001b[32m115.3/115.3 kB\u001b[0m \u001b[31m12.0 MB/s\u001b[0m eta \u001b[36m0:00:00\u001b[0m\n",
            "\u001b[?25hRequirement already satisfied: pandas in /usr/local/lib/python3.10/dist-packages (from datasets) (1.5.3)\n",
            "Requirement already satisfied: requests>=2.19.0 in /usr/local/lib/python3.10/dist-packages (from datasets) (2.31.0)\n",
            "Requirement already satisfied: tqdm>=4.62.1 in /usr/local/lib/python3.10/dist-packages (from datasets) (4.66.1)\n",
            "Requirement already satisfied: xxhash in /usr/local/lib/python3.10/dist-packages (from datasets) (3.4.1)\n",
            "Collecting multiprocess (from datasets)\n",
            "  Downloading multiprocess-0.70.15-py310-none-any.whl (134 kB)\n",
            "\u001b[2K     \u001b[90m━━━━━━━━━━━━━━━━━━━━━━━━━━━━━━━━━━━━━━━━\u001b[0m \u001b[32m134.8/134.8 kB\u001b[0m \u001b[31m15.1 MB/s\u001b[0m eta \u001b[36m0:00:00\u001b[0m\n",
            "\u001b[?25hRequirement already satisfied: fsspec[http]<=2023.10.0,>=2023.1.0 in /usr/local/lib/python3.10/dist-packages (from datasets) (2023.6.0)\n",
            "Requirement already satisfied: aiohttp in /usr/local/lib/python3.10/dist-packages (from datasets) (3.8.6)\n",
            "Requirement already satisfied: huggingface-hub>=0.18.0 in /usr/local/lib/python3.10/dist-packages (from datasets) (0.19.3)\n",
            "Requirement already satisfied: packaging in /usr/local/lib/python3.10/dist-packages (from datasets) (23.2)\n",
            "Requirement already satisfied: pyyaml>=5.1 in /usr/local/lib/python3.10/dist-packages (from datasets) (6.0.1)\n",
            "Requirement already satisfied: attrs>=17.3.0 in /usr/local/lib/python3.10/dist-packages (from aiohttp->datasets) (23.1.0)\n",
            "Requirement already satisfied: charset-normalizer<4.0,>=2.0 in /usr/local/lib/python3.10/dist-packages (from aiohttp->datasets) (3.3.2)\n",
            "Requirement already satisfied: multidict<7.0,>=4.5 in /usr/local/lib/python3.10/dist-packages (from aiohttp->datasets) (6.0.4)\n",
            "Requirement already satisfied: async-timeout<5.0,>=4.0.0a3 in /usr/local/lib/python3.10/dist-packages (from aiohttp->datasets) (4.0.3)\n",
            "Requirement already satisfied: yarl<2.0,>=1.0 in /usr/local/lib/python3.10/dist-packages (from aiohttp->datasets) (1.9.2)\n",
            "Requirement already satisfied: frozenlist>=1.1.1 in /usr/local/lib/python3.10/dist-packages (from aiohttp->datasets) (1.4.0)\n",
            "Requirement already satisfied: aiosignal>=1.1.2 in /usr/local/lib/python3.10/dist-packages (from aiohttp->datasets) (1.3.1)\n",
            "Requirement already satisfied: filelock in /usr/local/lib/python3.10/dist-packages (from huggingface-hub>=0.18.0->datasets) (3.13.1)\n",
            "Requirement already satisfied: typing-extensions>=3.7.4.3 in /usr/local/lib/python3.10/dist-packages (from huggingface-hub>=0.18.0->datasets) (4.5.0)\n",
            "Requirement already satisfied: idna<4,>=2.5 in /usr/local/lib/python3.10/dist-packages (from requests>=2.19.0->datasets) (3.4)\n",
            "Requirement already satisfied: urllib3<3,>=1.21.1 in /usr/local/lib/python3.10/dist-packages (from requests>=2.19.0->datasets) (2.0.7)\n",
            "Requirement already satisfied: certifi>=2017.4.17 in /usr/local/lib/python3.10/dist-packages (from requests>=2.19.0->datasets) (2023.7.22)\n",
            "Requirement already satisfied: python-dateutil>=2.8.1 in /usr/local/lib/python3.10/dist-packages (from pandas->datasets) (2.8.2)\n",
            "Requirement already satisfied: pytz>=2020.1 in /usr/local/lib/python3.10/dist-packages (from pandas->datasets) (2023.3.post1)\n",
            "Requirement already satisfied: six>=1.5 in /usr/local/lib/python3.10/dist-packages (from python-dateutil>=2.8.1->pandas->datasets) (1.16.0)\n",
            "Installing collected packages: pyarrow-hotfix, dill, multiprocess, datasets\n",
            "Successfully installed datasets-2.15.0 dill-0.3.7 multiprocess-0.70.15 pyarrow-hotfix-0.5\n"
          ]
        }
      ]
    },
    {
      "cell_type": "code",
      "source": [
        "from datasets import load_dataset\n",
        "import numpy as np\n",
        "import pandas as pd\n",
        "import spacy\n",
        "import unicodedata\n",
        "import re\n",
        "from nltk.corpus import wordnet\n",
        "from nltk.tokenize.toktok import ToktokTokenizer\n",
        "import nltk\n",
        "nltk.download('stopwords')"
      ],
      "metadata": {
        "colab": {
          "base_uri": "https://localhost:8080/"
        },
        "id": "TV6-20_4UUVv",
        "outputId": "5e30c478-e912-4f10-828a-eb011a4739ff"
      },
      "id": "TV6-20_4UUVv",
      "execution_count": null,
      "outputs": [
        {
          "output_type": "stream",
          "name": "stderr",
          "text": [
            "[nltk_data] Downloading package stopwords to /root/nltk_data...\n",
            "[nltk_data]   Unzipping corpora/stopwords.zip.\n"
          ]
        },
        {
          "output_type": "execute_result",
          "data": {
            "text/plain": [
              "True"
            ]
          },
          "metadata": {},
          "execution_count": 2
        }
      ]
    },
    {
      "cell_type": "code",
      "source": [
        "dataset = load_dataset('hate_speech18')"
      ],
      "metadata": {
        "id": "J892W-urUpxQ",
        "colab": {
          "base_uri": "https://localhost:8080/",
          "height": 177,
          "referenced_widgets": [
            "cf32a85595a3460c83cd67e745bcb579",
            "1fd58715fe87430fb681b459eeab2ec7",
            "4cd6278367254552ac855e30577abc5a",
            "c2bc5f5093ad45d3a265cbd88904aa9d",
            "2ef2e871a97e40caa92028e05be9903f",
            "dfd70226de044fe3b59574ca22dc2c55",
            "d3bc86b48b864023828a3d323bf52b47",
            "65140105b3ad438caf86a149d7791460",
            "8ae18c966c21436b8d7f02c2cf28470b",
            "a5ce8ee9b052414b9b762f545dc7d035",
            "77a2a152ec824af7b9bcaacb2a9976cd",
            "e9e4bf40f5e04ca4ab1a6ab320a3b859",
            "675d880def3e4c85b7b4d36b3842136d",
            "4c122dfd70a44bcc90ef507e408f59be",
            "eb64509b7fde4fb9a71a4d9aff2ff0e8",
            "74ec75ac7da54d00af773cab46852849",
            "5774c25c1d7246d588e43a853cabf695",
            "882c27573bba4c2d9744b8eab91eeb8a",
            "88aa90c73c1a44c293e7531b6d91b5b5",
            "e4ff98d57ae8426dbe5e51cc292345fe",
            "171a3d8b8d734fdd9643e1163549ab6f",
            "44616496433a4193b0f50175642d8873",
            "83374668902042beb36889aeec69fcbf",
            "2d9018b5d422440b884eb417384d7469",
            "3a1fbf08e3d4415db4bd1f90ca8507c4",
            "0682bb5b8bd24b629efac58ce1632534",
            "abd9fa5487554bb6b9db47bb1d4206a8",
            "93208433f376441e9dcb3d2df19d6b8f",
            "42b2821329f24e08b46246b470270989",
            "23b9ec4b73ab4504a0ea42fdb69d0a20",
            "9db8d6c046d24ba08d4cef00524c5704",
            "5738abdd758b4be59bc09b2ee84c084f",
            "9db47ddd4a7a4435a2b51c99e522b978",
            "ad04c9e67e1441fca3b56bde469c5adf",
            "3170c7121f2243b883b4076c1cf48f54",
            "9e91b8c1492d43e384d28ca1bb080e9c",
            "0905c4a066944b18bf3ff28c129e044a",
            "45ab91f294cc455f9d45f7df38011f63",
            "192a450dfe264736aaeec146dc5b76f4",
            "d27def55b85f46709ee6f9f2a6f8f998",
            "9c49e8ffd61a4d419ff559be8632cd55",
            "c9acb080e66f4a41bdc0d31d37ea8d9f",
            "5110f7a1a0e7431486bd4623abd23200",
            "995a14da72d74089b9b9c2a458aebba1",
            "90d93b555c3e45668622471882da6b17",
            "f84756c6f7b6454fb350a1643765cd2e",
            "e9864812860d43d6a313d8de54d699c0",
            "65726d5d803b4c76a47405bf908b2440",
            "b4981bc2158d4b13a74d813654bc8528",
            "801ac196e1d14c37b9fe5d0c0fd81d98",
            "5a05b2a9a0ef4aadac511eec22dd716b",
            "529c716e09594e48b99b49fba938ecc4",
            "479afb6f88f145ccae5000a698f3b3fa",
            "0c4e22c7ea31437da959dfc42a31a10f",
            "ded22a148167421bad56b6addcff7ba5"
          ]
        },
        "outputId": "cbabc5f7-5dac-400c-ab64-f9354eae3df7"
      },
      "id": "J892W-urUpxQ",
      "execution_count": null,
      "outputs": [
        {
          "output_type": "display_data",
          "data": {
            "text/plain": [
              "Downloading builder script:   0%|          | 0.00/3.41k [00:00<?, ?B/s]"
            ],
            "application/vnd.jupyter.widget-view+json": {
              "version_major": 2,
              "version_minor": 0,
              "model_id": "cf32a85595a3460c83cd67e745bcb579"
            }
          },
          "metadata": {}
        },
        {
          "output_type": "display_data",
          "data": {
            "text/plain": [
              "Downloading metadata:   0%|          | 0.00/2.04k [00:00<?, ?B/s]"
            ],
            "application/vnd.jupyter.widget-view+json": {
              "version_major": 2,
              "version_minor": 0,
              "model_id": "e9e4bf40f5e04ca4ab1a6ab320a3b859"
            }
          },
          "metadata": {}
        },
        {
          "output_type": "display_data",
          "data": {
            "text/plain": [
              "Downloading readme:   0%|          | 0.00/5.61k [00:00<?, ?B/s]"
            ],
            "application/vnd.jupyter.widget-view+json": {
              "version_major": 2,
              "version_minor": 0,
              "model_id": "83374668902042beb36889aeec69fcbf"
            }
          },
          "metadata": {}
        },
        {
          "output_type": "display_data",
          "data": {
            "text/plain": [
              "Downloading data:   0%|          | 0.00/3.19M [00:00<?, ?B/s]"
            ],
            "application/vnd.jupyter.widget-view+json": {
              "version_major": 2,
              "version_minor": 0,
              "model_id": "ad04c9e67e1441fca3b56bde469c5adf"
            }
          },
          "metadata": {}
        },
        {
          "output_type": "display_data",
          "data": {
            "text/plain": [
              "Generating train split:   0%|          | 0/10944 [00:00<?, ? examples/s]"
            ],
            "application/vnd.jupyter.widget-view+json": {
              "version_major": 2,
              "version_minor": 0,
              "model_id": "90d93b555c3e45668622471882da6b17"
            }
          },
          "metadata": {}
        }
      ]
    },
    {
      "cell_type": "markdown",
      "source": [
        "### Dataset Reformatting"
      ],
      "metadata": {
        "id": "Q0Zo6Qy-_d6L"
      },
      "id": "Q0Zo6Qy-_d6L"
    },
    {
      "cell_type": "code",
      "source": [
        "print(dataset)"
      ],
      "metadata": {
        "colab": {
          "base_uri": "https://localhost:8080/"
        },
        "id": "UIWwvBWNUtos",
        "outputId": "bdb9ffd8-4127-4611-d226-ee0ca435b2f2"
      },
      "id": "UIWwvBWNUtos",
      "execution_count": null,
      "outputs": [
        {
          "output_type": "stream",
          "name": "stdout",
          "text": [
            "DatasetDict({\n",
            "    train: Dataset({\n",
            "        features: ['text', 'user_id', 'subforum_id', 'num_contexts', 'label'],\n",
            "        num_rows: 10944\n",
            "    })\n",
            "})\n"
          ]
        }
      ]
    },
    {
      "cell_type": "code",
      "source": [
        "dataset.set_format(type='pandas',columns=['text', 'user_id', 'subforum_id', 'num_contexts', 'label'])"
      ],
      "metadata": {
        "id": "igyBiv2UV8mK"
      },
      "id": "igyBiv2UV8mK",
      "execution_count": null,
      "outputs": []
    },
    {
      "cell_type": "code",
      "source": [
        "hate_df = dataset['train'][:]\n",
        "hate_df.shape"
      ],
      "metadata": {
        "colab": {
          "base_uri": "https://localhost:8080/"
        },
        "id": "OdRoS6fMVGU2",
        "outputId": "f6d79ceb-2975-4d92-825f-b10e21ffa490"
      },
      "id": "OdRoS6fMVGU2",
      "execution_count": null,
      "outputs": [
        {
          "output_type": "execute_result",
          "data": {
            "text/plain": [
              "(10944, 5)"
            ]
          },
          "metadata": {},
          "execution_count": 6
        }
      ]
    },
    {
      "cell_type": "code",
      "source": [
        "hate_df.info()"
      ],
      "metadata": {
        "colab": {
          "base_uri": "https://localhost:8080/"
        },
        "id": "IVAOtfDJWCFK",
        "outputId": "d2ce1587-0720-47a7-f3f5-4f5835cdeeb0"
      },
      "id": "IVAOtfDJWCFK",
      "execution_count": null,
      "outputs": [
        {
          "output_type": "stream",
          "name": "stdout",
          "text": [
            "<class 'pandas.core.frame.DataFrame'>\n",
            "RangeIndex: 10944 entries, 0 to 10943\n",
            "Data columns (total 5 columns):\n",
            " #   Column        Non-Null Count  Dtype \n",
            "---  ------        --------------  ----- \n",
            " 0   text          10944 non-null  object\n",
            " 1   user_id       10944 non-null  int64 \n",
            " 2   subforum_id   10944 non-null  int64 \n",
            " 3   num_contexts  10944 non-null  int64 \n",
            " 4   label         10944 non-null  int64 \n",
            "dtypes: int64(4), object(1)\n",
            "memory usage: 427.6+ KB\n"
          ]
        }
      ]
    },
    {
      "cell_type": "markdown",
      "source": [
        "### Dataset Filtering"
      ],
      "metadata": {
        "id": "n6OLzWbL_k6e"
      },
      "id": "n6OLzWbL_k6e"
    },
    {
      "cell_type": "markdown",
      "source": [
        "These are the label values in the dataset and there corresponding meaning:\n"
      ],
      "metadata": {
        "id": "gmtEsmX5-NH5"
      },
      "id": "gmtEsmX5-NH5"
    },
    {
      "cell_type": "code",
      "source": [
        "hate_df['label'].unique()\n",
        "\n",
        "''' 0 - no hate\n",
        "    1 - hate speech\n",
        "    2 - idk/skip\n",
        "    3 - relation '''"
      ],
      "metadata": {
        "colab": {
          "base_uri": "https://localhost:8080/",
          "height": 35
        },
        "id": "QJ49FWfcWisW",
        "outputId": "9f08e0fa-07c0-436c-eaf2-35977f918476"
      },
      "id": "QJ49FWfcWisW",
      "execution_count": null,
      "outputs": [
        {
          "output_type": "execute_result",
          "data": {
            "text/plain": [
              "' 0 - no hate\\n    1 - hate speech\\n    2 - idk/skip\\n    3 - relation '"
            ],
            "application/vnd.google.colaboratory.intrinsic+json": {
              "type": "string"
            }
          },
          "metadata": {},
          "execution_count": 8
        }
      ]
    },
    {
      "cell_type": "code",
      "source": [
        "pd.options.display.max_colwidth = 200\n",
        "hate_df.loc[hate_df['label'] == 2].head()"
      ],
      "metadata": {
        "colab": {
          "base_uri": "https://localhost:8080/",
          "height": 206
        },
        "id": "n60H-asYWxhp",
        "outputId": "3ebf2933-e72c-443f-9a9d-a4c710761c81"
      },
      "id": "n60H-asYWxhp",
      "execution_count": null,
      "outputs": [
        {
          "output_type": "execute_result",
          "data": {
            "text/plain": [
              "                                                                                                      text  \\\n",
              "254                                                                                         Glædelig jul !   \n",
              "267                             Det er forresten en ting til Órkneyjar vil si deg , `` Tack så mycket . ''   \n",
              "292                   Jag har inte själv varit med någon gång men jag har stor respekt för de som deltar .   \n",
              "296                                                                                Suomalainen totta kai !   \n",
              "471  ApÃ © ro gÃ © ant : trois jeunes soupÃ § onnÃ © s de viol https : //www.stormfront.org/forum/t809905/   \n",
              "\n",
              "     user_id  subforum_id  num_contexts  label  \n",
              "254   573835         1393             0      2  \n",
              "267   572043         1393             0      2  \n",
              "292   589670         1393             1      2  \n",
              "296   581207         1393             0      2  \n",
              "471   579750         1383             0      2  "
            ],
            "text/html": [
              "\n",
              "  <div id=\"df-cb8705a1-4d96-4d40-851d-5a64a0053c73\" class=\"colab-df-container\">\n",
              "    <div>\n",
              "<style scoped>\n",
              "    .dataframe tbody tr th:only-of-type {\n",
              "        vertical-align: middle;\n",
              "    }\n",
              "\n",
              "    .dataframe tbody tr th {\n",
              "        vertical-align: top;\n",
              "    }\n",
              "\n",
              "    .dataframe thead th {\n",
              "        text-align: right;\n",
              "    }\n",
              "</style>\n",
              "<table border=\"1\" class=\"dataframe\">\n",
              "  <thead>\n",
              "    <tr style=\"text-align: right;\">\n",
              "      <th></th>\n",
              "      <th>text</th>\n",
              "      <th>user_id</th>\n",
              "      <th>subforum_id</th>\n",
              "      <th>num_contexts</th>\n",
              "      <th>label</th>\n",
              "    </tr>\n",
              "  </thead>\n",
              "  <tbody>\n",
              "    <tr>\n",
              "      <th>254</th>\n",
              "      <td>Glædelig jul !</td>\n",
              "      <td>573835</td>\n",
              "      <td>1393</td>\n",
              "      <td>0</td>\n",
              "      <td>2</td>\n",
              "    </tr>\n",
              "    <tr>\n",
              "      <th>267</th>\n",
              "      <td>Det er forresten en ting til Órkneyjar vil si deg , `` Tack så mycket . ''</td>\n",
              "      <td>572043</td>\n",
              "      <td>1393</td>\n",
              "      <td>0</td>\n",
              "      <td>2</td>\n",
              "    </tr>\n",
              "    <tr>\n",
              "      <th>292</th>\n",
              "      <td>Jag har inte själv varit med någon gång men jag har stor respekt för de som deltar .</td>\n",
              "      <td>589670</td>\n",
              "      <td>1393</td>\n",
              "      <td>1</td>\n",
              "      <td>2</td>\n",
              "    </tr>\n",
              "    <tr>\n",
              "      <th>296</th>\n",
              "      <td>Suomalainen totta kai !</td>\n",
              "      <td>581207</td>\n",
              "      <td>1393</td>\n",
              "      <td>0</td>\n",
              "      <td>2</td>\n",
              "    </tr>\n",
              "    <tr>\n",
              "      <th>471</th>\n",
              "      <td>ApÃ © ro gÃ © ant : trois jeunes soupÃ § onnÃ © s de viol https : //www.stormfront.org/forum/t809905/</td>\n",
              "      <td>579750</td>\n",
              "      <td>1383</td>\n",
              "      <td>0</td>\n",
              "      <td>2</td>\n",
              "    </tr>\n",
              "  </tbody>\n",
              "</table>\n",
              "</div>\n",
              "    <div class=\"colab-df-buttons\">\n",
              "\n",
              "  <div class=\"colab-df-container\">\n",
              "    <button class=\"colab-df-convert\" onclick=\"convertToInteractive('df-cb8705a1-4d96-4d40-851d-5a64a0053c73')\"\n",
              "            title=\"Convert this dataframe to an interactive table.\"\n",
              "            style=\"display:none;\">\n",
              "\n",
              "  <svg xmlns=\"http://www.w3.org/2000/svg\" height=\"24px\" viewBox=\"0 -960 960 960\">\n",
              "    <path d=\"M120-120v-720h720v720H120Zm60-500h600v-160H180v160Zm220 220h160v-160H400v160Zm0 220h160v-160H400v160ZM180-400h160v-160H180v160Zm440 0h160v-160H620v160ZM180-180h160v-160H180v160Zm440 0h160v-160H620v160Z\"/>\n",
              "  </svg>\n",
              "    </button>\n",
              "\n",
              "  <style>\n",
              "    .colab-df-container {\n",
              "      display:flex;\n",
              "      gap: 12px;\n",
              "    }\n",
              "\n",
              "    .colab-df-convert {\n",
              "      background-color: #E8F0FE;\n",
              "      border: none;\n",
              "      border-radius: 50%;\n",
              "      cursor: pointer;\n",
              "      display: none;\n",
              "      fill: #1967D2;\n",
              "      height: 32px;\n",
              "      padding: 0 0 0 0;\n",
              "      width: 32px;\n",
              "    }\n",
              "\n",
              "    .colab-df-convert:hover {\n",
              "      background-color: #E2EBFA;\n",
              "      box-shadow: 0px 1px 2px rgba(60, 64, 67, 0.3), 0px 1px 3px 1px rgba(60, 64, 67, 0.15);\n",
              "      fill: #174EA6;\n",
              "    }\n",
              "\n",
              "    .colab-df-buttons div {\n",
              "      margin-bottom: 4px;\n",
              "    }\n",
              "\n",
              "    [theme=dark] .colab-df-convert {\n",
              "      background-color: #3B4455;\n",
              "      fill: #D2E3FC;\n",
              "    }\n",
              "\n",
              "    [theme=dark] .colab-df-convert:hover {\n",
              "      background-color: #434B5C;\n",
              "      box-shadow: 0px 1px 3px 1px rgba(0, 0, 0, 0.15);\n",
              "      filter: drop-shadow(0px 1px 2px rgba(0, 0, 0, 0.3));\n",
              "      fill: #FFFFFF;\n",
              "    }\n",
              "  </style>\n",
              "\n",
              "    <script>\n",
              "      const buttonEl =\n",
              "        document.querySelector('#df-cb8705a1-4d96-4d40-851d-5a64a0053c73 button.colab-df-convert');\n",
              "      buttonEl.style.display =\n",
              "        google.colab.kernel.accessAllowed ? 'block' : 'none';\n",
              "\n",
              "      async function convertToInteractive(key) {\n",
              "        const element = document.querySelector('#df-cb8705a1-4d96-4d40-851d-5a64a0053c73');\n",
              "        const dataTable =\n",
              "          await google.colab.kernel.invokeFunction('convertToInteractive',\n",
              "                                                    [key], {});\n",
              "        if (!dataTable) return;\n",
              "\n",
              "        const docLinkHtml = 'Like what you see? Visit the ' +\n",
              "          '<a target=\"_blank\" href=https://colab.research.google.com/notebooks/data_table.ipynb>data table notebook</a>'\n",
              "          + ' to learn more about interactive tables.';\n",
              "        element.innerHTML = '';\n",
              "        dataTable['output_type'] = 'display_data';\n",
              "        await google.colab.output.renderOutput(dataTable, element);\n",
              "        const docLink = document.createElement('div');\n",
              "        docLink.innerHTML = docLinkHtml;\n",
              "        element.appendChild(docLink);\n",
              "      }\n",
              "    </script>\n",
              "  </div>\n",
              "\n",
              "\n",
              "<div id=\"df-a0c70bd5-72da-410e-b9c1-a7c0da35fbb6\">\n",
              "  <button class=\"colab-df-quickchart\" onclick=\"quickchart('df-a0c70bd5-72da-410e-b9c1-a7c0da35fbb6')\"\n",
              "            title=\"Suggest charts\"\n",
              "            style=\"display:none;\">\n",
              "\n",
              "<svg xmlns=\"http://www.w3.org/2000/svg\" height=\"24px\"viewBox=\"0 0 24 24\"\n",
              "     width=\"24px\">\n",
              "    <g>\n",
              "        <path d=\"M19 3H5c-1.1 0-2 .9-2 2v14c0 1.1.9 2 2 2h14c1.1 0 2-.9 2-2V5c0-1.1-.9-2-2-2zM9 17H7v-7h2v7zm4 0h-2V7h2v10zm4 0h-2v-4h2v4z\"/>\n",
              "    </g>\n",
              "</svg>\n",
              "  </button>\n",
              "\n",
              "<style>\n",
              "  .colab-df-quickchart {\n",
              "      --bg-color: #E8F0FE;\n",
              "      --fill-color: #1967D2;\n",
              "      --hover-bg-color: #E2EBFA;\n",
              "      --hover-fill-color: #174EA6;\n",
              "      --disabled-fill-color: #AAA;\n",
              "      --disabled-bg-color: #DDD;\n",
              "  }\n",
              "\n",
              "  [theme=dark] .colab-df-quickchart {\n",
              "      --bg-color: #3B4455;\n",
              "      --fill-color: #D2E3FC;\n",
              "      --hover-bg-color: #434B5C;\n",
              "      --hover-fill-color: #FFFFFF;\n",
              "      --disabled-bg-color: #3B4455;\n",
              "      --disabled-fill-color: #666;\n",
              "  }\n",
              "\n",
              "  .colab-df-quickchart {\n",
              "    background-color: var(--bg-color);\n",
              "    border: none;\n",
              "    border-radius: 50%;\n",
              "    cursor: pointer;\n",
              "    display: none;\n",
              "    fill: var(--fill-color);\n",
              "    height: 32px;\n",
              "    padding: 0;\n",
              "    width: 32px;\n",
              "  }\n",
              "\n",
              "  .colab-df-quickchart:hover {\n",
              "    background-color: var(--hover-bg-color);\n",
              "    box-shadow: 0 1px 2px rgba(60, 64, 67, 0.3), 0 1px 3px 1px rgba(60, 64, 67, 0.15);\n",
              "    fill: var(--button-hover-fill-color);\n",
              "  }\n",
              "\n",
              "  .colab-df-quickchart-complete:disabled,\n",
              "  .colab-df-quickchart-complete:disabled:hover {\n",
              "    background-color: var(--disabled-bg-color);\n",
              "    fill: var(--disabled-fill-color);\n",
              "    box-shadow: none;\n",
              "  }\n",
              "\n",
              "  .colab-df-spinner {\n",
              "    border: 2px solid var(--fill-color);\n",
              "    border-color: transparent;\n",
              "    border-bottom-color: var(--fill-color);\n",
              "    animation:\n",
              "      spin 1s steps(1) infinite;\n",
              "  }\n",
              "\n",
              "  @keyframes spin {\n",
              "    0% {\n",
              "      border-color: transparent;\n",
              "      border-bottom-color: var(--fill-color);\n",
              "      border-left-color: var(--fill-color);\n",
              "    }\n",
              "    20% {\n",
              "      border-color: transparent;\n",
              "      border-left-color: var(--fill-color);\n",
              "      border-top-color: var(--fill-color);\n",
              "    }\n",
              "    30% {\n",
              "      border-color: transparent;\n",
              "      border-left-color: var(--fill-color);\n",
              "      border-top-color: var(--fill-color);\n",
              "      border-right-color: var(--fill-color);\n",
              "    }\n",
              "    40% {\n",
              "      border-color: transparent;\n",
              "      border-right-color: var(--fill-color);\n",
              "      border-top-color: var(--fill-color);\n",
              "    }\n",
              "    60% {\n",
              "      border-color: transparent;\n",
              "      border-right-color: var(--fill-color);\n",
              "    }\n",
              "    80% {\n",
              "      border-color: transparent;\n",
              "      border-right-color: var(--fill-color);\n",
              "      border-bottom-color: var(--fill-color);\n",
              "    }\n",
              "    90% {\n",
              "      border-color: transparent;\n",
              "      border-bottom-color: var(--fill-color);\n",
              "    }\n",
              "  }\n",
              "</style>\n",
              "\n",
              "  <script>\n",
              "    async function quickchart(key) {\n",
              "      const quickchartButtonEl =\n",
              "        document.querySelector('#' + key + ' button');\n",
              "      quickchartButtonEl.disabled = true;  // To prevent multiple clicks.\n",
              "      quickchartButtonEl.classList.add('colab-df-spinner');\n",
              "      try {\n",
              "        const charts = await google.colab.kernel.invokeFunction(\n",
              "            'suggestCharts', [key], {});\n",
              "      } catch (error) {\n",
              "        console.error('Error during call to suggestCharts:', error);\n",
              "      }\n",
              "      quickchartButtonEl.classList.remove('colab-df-spinner');\n",
              "      quickchartButtonEl.classList.add('colab-df-quickchart-complete');\n",
              "    }\n",
              "    (() => {\n",
              "      let quickchartButtonEl =\n",
              "        document.querySelector('#df-a0c70bd5-72da-410e-b9c1-a7c0da35fbb6 button');\n",
              "      quickchartButtonEl.style.display =\n",
              "        google.colab.kernel.accessAllowed ? 'block' : 'none';\n",
              "    })();\n",
              "  </script>\n",
              "</div>\n",
              "    </div>\n",
              "  </div>\n"
            ]
          },
          "metadata": {},
          "execution_count": 9
        }
      ]
    },
    {
      "cell_type": "markdown",
      "source": [
        "2 and 3 target label don't make much sense.\n",
        "'idk/skip' - 2 is used wherever they are not sure of the sentiment of a comment. It could be a different language/some URLs\n",
        "'relation' - 3 seems like a constructive feedback/a normal comment on something."
      ],
      "metadata": {
        "id": "s0ouD_uiVajZ"
      },
      "id": "s0ouD_uiVajZ"
    },
    {
      "cell_type": "code",
      "source": [
        "hate_df['label'].value_counts()"
      ],
      "metadata": {
        "colab": {
          "base_uri": "https://localhost:8080/"
        },
        "id": "kE56Gdk9XIKT",
        "outputId": "bd523f6b-9358-4342-894f-29602d31fdde"
      },
      "id": "kE56Gdk9XIKT",
      "execution_count": null,
      "outputs": [
        {
          "output_type": "execute_result",
          "data": {
            "text/plain": [
              "0    9507\n",
              "1    1196\n",
              "3     168\n",
              "2      73\n",
              "Name: label, dtype: int64"
            ]
          },
          "metadata": {},
          "execution_count": 10
        }
      ]
    },
    {
      "cell_type": "markdown",
      "source": [
        "Given the focus of this project on the differentiation between hate speech/no hate speech and the limited number of occurences for labels 2 and 3, rows with labels 2 and 3 are removed."
      ],
      "metadata": {
        "id": "kkVBrBfb-Xaa"
      },
      "id": "kkVBrBfb-Xaa"
    },
    {
      "cell_type": "code",
      "source": [
        "hate_df = hate_df[hate_df['label']!=2]\n",
        "hate_df = hate_df[hate_df['label']!=3]"
      ],
      "metadata": {
        "id": "E9bpOHKOR1bh"
      },
      "id": "E9bpOHKOR1bh",
      "execution_count": null,
      "outputs": []
    },
    {
      "cell_type": "code",
      "source": [
        "hate_df['label'].value_counts()"
      ],
      "metadata": {
        "colab": {
          "base_uri": "https://localhost:8080/"
        },
        "id": "hOufL0fbTSrH",
        "outputId": "1b7d9e18-3559-485f-c89a-9eedafae74db"
      },
      "id": "hOufL0fbTSrH",
      "execution_count": null,
      "outputs": [
        {
          "output_type": "execute_result",
          "data": {
            "text/plain": [
              "0    9507\n",
              "1    1196\n",
              "Name: label, dtype: int64"
            ]
          },
          "metadata": {},
          "execution_count": 12
        }
      ]
    },
    {
      "cell_type": "code",
      "source": [
        "hate_df = hate_df[['text','label']]\n",
        "hate_df.head()"
      ],
      "metadata": {
        "colab": {
          "base_uri": "https://localhost:8080/",
          "height": 206
        },
        "id": "c_BiFT1cXMoU",
        "outputId": "e01b3cab-259a-4c02-f477-c379f6b3df91"
      },
      "id": "c_BiFT1cXMoU",
      "execution_count": null,
      "outputs": [
        {
          "output_type": "execute_result",
          "data": {
            "text/plain": [
              "                                                                                                                                                                                                      text  \\\n",
              "0                                                                                                               As of March 13th , 2014 , the booklet had been downloaded over 18,300 times and counting .   \n",
              "1  In order to help increase the booklets downloads , it would be great if all Stormfronters who had YouTube accounts , could display the following text in the description boxes of their uploaded You...   \n",
              "2                                                                                                                 ( Simply copy and paste the following text into your YouTube videos description boxes. )   \n",
              "3                                                  Click below for a FREE download of a colorfully illustrated 132 page e-book on the Zionist-engineered INTENTIONAL destruction of Western civilization .   \n",
              "4                                                                                                                                              Click on the `` DOWNLOAD ( 7.42 MB ) '' green banner link .   \n",
              "\n",
              "   label  \n",
              "0      0  \n",
              "1      0  \n",
              "2      0  \n",
              "3      1  \n",
              "4      0  "
            ],
            "text/html": [
              "\n",
              "  <div id=\"df-58f73d96-d25e-4aae-8e07-1136b33566ba\" class=\"colab-df-container\">\n",
              "    <div>\n",
              "<style scoped>\n",
              "    .dataframe tbody tr th:only-of-type {\n",
              "        vertical-align: middle;\n",
              "    }\n",
              "\n",
              "    .dataframe tbody tr th {\n",
              "        vertical-align: top;\n",
              "    }\n",
              "\n",
              "    .dataframe thead th {\n",
              "        text-align: right;\n",
              "    }\n",
              "</style>\n",
              "<table border=\"1\" class=\"dataframe\">\n",
              "  <thead>\n",
              "    <tr style=\"text-align: right;\">\n",
              "      <th></th>\n",
              "      <th>text</th>\n",
              "      <th>label</th>\n",
              "    </tr>\n",
              "  </thead>\n",
              "  <tbody>\n",
              "    <tr>\n",
              "      <th>0</th>\n",
              "      <td>As of March 13th , 2014 , the booklet had been downloaded over 18,300 times and counting .</td>\n",
              "      <td>0</td>\n",
              "    </tr>\n",
              "    <tr>\n",
              "      <th>1</th>\n",
              "      <td>In order to help increase the booklets downloads , it would be great if all Stormfronters who had YouTube accounts , could display the following text in the description boxes of their uploaded You...</td>\n",
              "      <td>0</td>\n",
              "    </tr>\n",
              "    <tr>\n",
              "      <th>2</th>\n",
              "      <td>( Simply copy and paste the following text into your YouTube videos description boxes. )</td>\n",
              "      <td>0</td>\n",
              "    </tr>\n",
              "    <tr>\n",
              "      <th>3</th>\n",
              "      <td>Click below for a FREE download of a colorfully illustrated 132 page e-book on the Zionist-engineered INTENTIONAL destruction of Western civilization .</td>\n",
              "      <td>1</td>\n",
              "    </tr>\n",
              "    <tr>\n",
              "      <th>4</th>\n",
              "      <td>Click on the `` DOWNLOAD ( 7.42 MB ) '' green banner link .</td>\n",
              "      <td>0</td>\n",
              "    </tr>\n",
              "  </tbody>\n",
              "</table>\n",
              "</div>\n",
              "    <div class=\"colab-df-buttons\">\n",
              "\n",
              "  <div class=\"colab-df-container\">\n",
              "    <button class=\"colab-df-convert\" onclick=\"convertToInteractive('df-58f73d96-d25e-4aae-8e07-1136b33566ba')\"\n",
              "            title=\"Convert this dataframe to an interactive table.\"\n",
              "            style=\"display:none;\">\n",
              "\n",
              "  <svg xmlns=\"http://www.w3.org/2000/svg\" height=\"24px\" viewBox=\"0 -960 960 960\">\n",
              "    <path d=\"M120-120v-720h720v720H120Zm60-500h600v-160H180v160Zm220 220h160v-160H400v160Zm0 220h160v-160H400v160ZM180-400h160v-160H180v160Zm440 0h160v-160H620v160ZM180-180h160v-160H180v160Zm440 0h160v-160H620v160Z\"/>\n",
              "  </svg>\n",
              "    </button>\n",
              "\n",
              "  <style>\n",
              "    .colab-df-container {\n",
              "      display:flex;\n",
              "      gap: 12px;\n",
              "    }\n",
              "\n",
              "    .colab-df-convert {\n",
              "      background-color: #E8F0FE;\n",
              "      border: none;\n",
              "      border-radius: 50%;\n",
              "      cursor: pointer;\n",
              "      display: none;\n",
              "      fill: #1967D2;\n",
              "      height: 32px;\n",
              "      padding: 0 0 0 0;\n",
              "      width: 32px;\n",
              "    }\n",
              "\n",
              "    .colab-df-convert:hover {\n",
              "      background-color: #E2EBFA;\n",
              "      box-shadow: 0px 1px 2px rgba(60, 64, 67, 0.3), 0px 1px 3px 1px rgba(60, 64, 67, 0.15);\n",
              "      fill: #174EA6;\n",
              "    }\n",
              "\n",
              "    .colab-df-buttons div {\n",
              "      margin-bottom: 4px;\n",
              "    }\n",
              "\n",
              "    [theme=dark] .colab-df-convert {\n",
              "      background-color: #3B4455;\n",
              "      fill: #D2E3FC;\n",
              "    }\n",
              "\n",
              "    [theme=dark] .colab-df-convert:hover {\n",
              "      background-color: #434B5C;\n",
              "      box-shadow: 0px 1px 3px 1px rgba(0, 0, 0, 0.15);\n",
              "      filter: drop-shadow(0px 1px 2px rgba(0, 0, 0, 0.3));\n",
              "      fill: #FFFFFF;\n",
              "    }\n",
              "  </style>\n",
              "\n",
              "    <script>\n",
              "      const buttonEl =\n",
              "        document.querySelector('#df-58f73d96-d25e-4aae-8e07-1136b33566ba button.colab-df-convert');\n",
              "      buttonEl.style.display =\n",
              "        google.colab.kernel.accessAllowed ? 'block' : 'none';\n",
              "\n",
              "      async function convertToInteractive(key) {\n",
              "        const element = document.querySelector('#df-58f73d96-d25e-4aae-8e07-1136b33566ba');\n",
              "        const dataTable =\n",
              "          await google.colab.kernel.invokeFunction('convertToInteractive',\n",
              "                                                    [key], {});\n",
              "        if (!dataTable) return;\n",
              "\n",
              "        const docLinkHtml = 'Like what you see? Visit the ' +\n",
              "          '<a target=\"_blank\" href=https://colab.research.google.com/notebooks/data_table.ipynb>data table notebook</a>'\n",
              "          + ' to learn more about interactive tables.';\n",
              "        element.innerHTML = '';\n",
              "        dataTable['output_type'] = 'display_data';\n",
              "        await google.colab.output.renderOutput(dataTable, element);\n",
              "        const docLink = document.createElement('div');\n",
              "        docLink.innerHTML = docLinkHtml;\n",
              "        element.appendChild(docLink);\n",
              "      }\n",
              "    </script>\n",
              "  </div>\n",
              "\n",
              "\n",
              "<div id=\"df-a5d091be-0d4f-4197-8eeb-7e3c7eb2630c\">\n",
              "  <button class=\"colab-df-quickchart\" onclick=\"quickchart('df-a5d091be-0d4f-4197-8eeb-7e3c7eb2630c')\"\n",
              "            title=\"Suggest charts\"\n",
              "            style=\"display:none;\">\n",
              "\n",
              "<svg xmlns=\"http://www.w3.org/2000/svg\" height=\"24px\"viewBox=\"0 0 24 24\"\n",
              "     width=\"24px\">\n",
              "    <g>\n",
              "        <path d=\"M19 3H5c-1.1 0-2 .9-2 2v14c0 1.1.9 2 2 2h14c1.1 0 2-.9 2-2V5c0-1.1-.9-2-2-2zM9 17H7v-7h2v7zm4 0h-2V7h2v10zm4 0h-2v-4h2v4z\"/>\n",
              "    </g>\n",
              "</svg>\n",
              "  </button>\n",
              "\n",
              "<style>\n",
              "  .colab-df-quickchart {\n",
              "      --bg-color: #E8F0FE;\n",
              "      --fill-color: #1967D2;\n",
              "      --hover-bg-color: #E2EBFA;\n",
              "      --hover-fill-color: #174EA6;\n",
              "      --disabled-fill-color: #AAA;\n",
              "      --disabled-bg-color: #DDD;\n",
              "  }\n",
              "\n",
              "  [theme=dark] .colab-df-quickchart {\n",
              "      --bg-color: #3B4455;\n",
              "      --fill-color: #D2E3FC;\n",
              "      --hover-bg-color: #434B5C;\n",
              "      --hover-fill-color: #FFFFFF;\n",
              "      --disabled-bg-color: #3B4455;\n",
              "      --disabled-fill-color: #666;\n",
              "  }\n",
              "\n",
              "  .colab-df-quickchart {\n",
              "    background-color: var(--bg-color);\n",
              "    border: none;\n",
              "    border-radius: 50%;\n",
              "    cursor: pointer;\n",
              "    display: none;\n",
              "    fill: var(--fill-color);\n",
              "    height: 32px;\n",
              "    padding: 0;\n",
              "    width: 32px;\n",
              "  }\n",
              "\n",
              "  .colab-df-quickchart:hover {\n",
              "    background-color: var(--hover-bg-color);\n",
              "    box-shadow: 0 1px 2px rgba(60, 64, 67, 0.3), 0 1px 3px 1px rgba(60, 64, 67, 0.15);\n",
              "    fill: var(--button-hover-fill-color);\n",
              "  }\n",
              "\n",
              "  .colab-df-quickchart-complete:disabled,\n",
              "  .colab-df-quickchart-complete:disabled:hover {\n",
              "    background-color: var(--disabled-bg-color);\n",
              "    fill: var(--disabled-fill-color);\n",
              "    box-shadow: none;\n",
              "  }\n",
              "\n",
              "  .colab-df-spinner {\n",
              "    border: 2px solid var(--fill-color);\n",
              "    border-color: transparent;\n",
              "    border-bottom-color: var(--fill-color);\n",
              "    animation:\n",
              "      spin 1s steps(1) infinite;\n",
              "  }\n",
              "\n",
              "  @keyframes spin {\n",
              "    0% {\n",
              "      border-color: transparent;\n",
              "      border-bottom-color: var(--fill-color);\n",
              "      border-left-color: var(--fill-color);\n",
              "    }\n",
              "    20% {\n",
              "      border-color: transparent;\n",
              "      border-left-color: var(--fill-color);\n",
              "      border-top-color: var(--fill-color);\n",
              "    }\n",
              "    30% {\n",
              "      border-color: transparent;\n",
              "      border-left-color: var(--fill-color);\n",
              "      border-top-color: var(--fill-color);\n",
              "      border-right-color: var(--fill-color);\n",
              "    }\n",
              "    40% {\n",
              "      border-color: transparent;\n",
              "      border-right-color: var(--fill-color);\n",
              "      border-top-color: var(--fill-color);\n",
              "    }\n",
              "    60% {\n",
              "      border-color: transparent;\n",
              "      border-right-color: var(--fill-color);\n",
              "    }\n",
              "    80% {\n",
              "      border-color: transparent;\n",
              "      border-right-color: var(--fill-color);\n",
              "      border-bottom-color: var(--fill-color);\n",
              "    }\n",
              "    90% {\n",
              "      border-color: transparent;\n",
              "      border-bottom-color: var(--fill-color);\n",
              "    }\n",
              "  }\n",
              "</style>\n",
              "\n",
              "  <script>\n",
              "    async function quickchart(key) {\n",
              "      const quickchartButtonEl =\n",
              "        document.querySelector('#' + key + ' button');\n",
              "      quickchartButtonEl.disabled = true;  // To prevent multiple clicks.\n",
              "      quickchartButtonEl.classList.add('colab-df-spinner');\n",
              "      try {\n",
              "        const charts = await google.colab.kernel.invokeFunction(\n",
              "            'suggestCharts', [key], {});\n",
              "      } catch (error) {\n",
              "        console.error('Error during call to suggestCharts:', error);\n",
              "      }\n",
              "      quickchartButtonEl.classList.remove('colab-df-spinner');\n",
              "      quickchartButtonEl.classList.add('colab-df-quickchart-complete');\n",
              "    }\n",
              "    (() => {\n",
              "      let quickchartButtonEl =\n",
              "        document.querySelector('#df-a5d091be-0d4f-4197-8eeb-7e3c7eb2630c button');\n",
              "      quickchartButtonEl.style.display =\n",
              "        google.colab.kernel.accessAllowed ? 'block' : 'none';\n",
              "    })();\n",
              "  </script>\n",
              "</div>\n",
              "    </div>\n",
              "  </div>\n"
            ]
          },
          "metadata": {},
          "execution_count": 13
        }
      ]
    },
    {
      "cell_type": "markdown",
      "source": [
        "### Dataset Exploration"
      ],
      "metadata": {
        "id": "9GO0IAjW_uPB"
      },
      "id": "9GO0IAjW_uPB"
    },
    {
      "cell_type": "markdown",
      "source": [
        "There are no null values in either column:"
      ],
      "metadata": {
        "id": "y_ZWftGD-0CE"
      },
      "id": "y_ZWftGD-0CE"
    },
    {
      "cell_type": "code",
      "source": [
        "total_nulls = hate_df[hate_df.text.str.strip() == ''].shape[0]\n",
        "print(\"Empty documents:\", total_nulls)"
      ],
      "metadata": {
        "colab": {
          "base_uri": "https://localhost:8080/"
        },
        "id": "-cdccLgCXS6E",
        "outputId": "17ec6d2d-135a-4d55-ac13-b17822c16d5f"
      },
      "id": "-cdccLgCXS6E",
      "execution_count": null,
      "outputs": [
        {
          "output_type": "stream",
          "name": "stdout",
          "text": [
            "Empty documents: 0\n"
          ]
        }
      ]
    },
    {
      "cell_type": "code",
      "source": [
        "hate_df['text'].str.len().hist() #number of characters present in each sentence"
      ],
      "metadata": {
        "colab": {
          "base_uri": "https://localhost:8080/",
          "height": 447
        },
        "id": "OLzB64y6XX1T",
        "outputId": "91153c8a-aad9-4c83-9a84-fd1871630e96"
      },
      "id": "OLzB64y6XX1T",
      "execution_count": null,
      "outputs": [
        {
          "output_type": "execute_result",
          "data": {
            "text/plain": [
              "<Axes: >"
            ]
          },
          "metadata": {},
          "execution_count": 15
        },
        {
          "output_type": "display_data",
          "data": {
            "text/plain": [
              "<Figure size 640x480 with 1 Axes>"
            ],
            "image/png": "[encoded data removed]"
          },
          "metadata": {}
        }
      ]
    },
    {
      "cell_type": "code",
      "source": [
        "hate_df['text'].str.split().map(lambda x: len(x)).hist() #number of words - has a range of 0-40"
      ],
      "metadata": {
        "colab": {
          "base_uri": "https://localhost:8080/",
          "height": 447
        },
        "id": "EiM-jJpEXVLb",
        "outputId": "07209a72-d3d6-448c-c218-d95c1ce5df03"
      },
      "id": "EiM-jJpEXVLb",
      "execution_count": null,
      "outputs": [
        {
          "output_type": "execute_result",
          "data": {
            "text/plain": [
              "<Axes: >"
            ]
          },
          "metadata": {},
          "execution_count": 16
        },
        {
          "output_type": "display_data",
          "data": {
            "text/plain": [
              "<Figure size 640x480 with 1 Axes>"
            ],
            "image/png": "[encoded data removed]"
          },
          "metadata": {}
        }
      ]
    },
    {
      "cell_type": "code",
      "source": [
        "hate_df['text'].str.split().apply(lambda x : [len(i) for i in x]).map(lambda x: np.mean(x)).hist() #avg word length - between 1 - 20"
      ],
      "metadata": {
        "colab": {
          "base_uri": "https://localhost:8080/",
          "height": 447
        },
        "id": "lchW4lKsXclD",
        "outputId": "0edae1a7-4bc4-4dfe-a486-70505fba2b84"
      },
      "id": "lchW4lKsXclD",
      "execution_count": null,
      "outputs": [
        {
          "output_type": "execute_result",
          "data": {
            "text/plain": [
              "<Axes: >"
            ]
          },
          "metadata": {},
          "execution_count": 17
        },
        {
          "output_type": "display_data",
          "data": {
            "text/plain": [
              "<Figure size 640x480 with 1 Axes>"
            ],
            "image/png": "[encoded data removed]"
          },
          "metadata": {}
        }
      ]
    },
    {
      "cell_type": "markdown",
      "source": [
        "## Train/test split"
      ],
      "metadata": {
        "id": "i7n8iCgfT4rd"
      },
      "id": "i7n8iCgfT4rd"
    },
    {
      "cell_type": "code",
      "source": [
        "from sklearn.model_selection import train_test_split\n",
        "\n",
        "X_train, X_test, y_train, y_test = train_test_split(hate_df['text'], hate_df['label'], test_size=0.2, random_state=42, stratify=hate_df['label'])"
      ],
      "metadata": {
        "id": "Cz7AgaaI3Ygr"
      },
      "id": "Cz7AgaaI3Ygr",
      "execution_count": null,
      "outputs": []
    },
    {
      "cell_type": "code",
      "source": [
        "train_X = np.array(X_train)\n",
        "test_X = np.array(X_test)\n",
        "train_y = np.array(y_train)\n",
        "test_y = np.array(y_test)"
      ],
      "metadata": {
        "id": "xV-g_vnFyOQa"
      },
      "id": "xV-g_vnFyOQa",
      "execution_count": null,
      "outputs": []
    },
    {
      "cell_type": "markdown",
      "source": [
        "## Text cleaning and normalization"
      ],
      "metadata": {
        "id": "bgeaFUYhXprC"
      },
      "id": "bgeaFUYhXprC"
    },
    {
      "cell_type": "code",
      "source": [
        "stop_words = nltk.corpus.stopwords.words('english')\n",
        "stop_words.remove('no')\n",
        "stop_words.remove('but')\n",
        "stop_words.remove('not')"
      ],
      "metadata": {
        "id": "VdfPKmjHXvEa"
      },
      "id": "VdfPKmjHXvEa",
      "execution_count": null,
      "outputs": []
    },
    {
      "cell_type": "code",
      "source": [
        "nlp = spacy.load('en_core_web_sm')\n",
        "tokenizer = ToktokTokenizer()"
      ],
      "metadata": {
        "id": "YGUNhUjwUip0"
      },
      "id": "YGUNhUjwUip0",
      "execution_count": null,
      "outputs": []
    },
    {
      "cell_type": "code",
      "source": [
        "def simple_porter_stemming(text):\n",
        "    ps = nltk.porter.PorterStemmer()\n",
        "    text = ' '.join([ps.stem(word) for word in text.split()])\n",
        "    return text\n",
        "\n",
        "def lemmatize_text(text):\n",
        "    text = nlp(text)\n",
        "    text = ' '.join([word.lemma_ if word.lemma_ != '-PRON-' else word.text for word in text])\n",
        "    return text\n",
        "\n",
        "def remove_special_characters(text, remove_digits=False):\n",
        "    pattern = r'[^a-zA-Z0-9\\s]|\\[|\\]' if not remove_digits else r'[^a-zA-Z\\s]|\\[|\\]'\n",
        "    text = re.sub(pattern, '', text)\n",
        "    return text\n",
        "\n",
        "def remove_stopwords(text, is_lower_case=False, stopwords=stop_words):\n",
        "    tokens = tokenizer.tokenize(text)\n",
        "    tokens = [token.strip() for token in tokens]\n",
        "    if is_lower_case:\n",
        "        filtered_tokens = [token for token in tokens if token not in stopwords]\n",
        "    else:\n",
        "        filtered_tokens = [token for token in tokens if token.lower() not in stopwords]\n",
        "    filtered_text = ' '.join(filtered_tokens)\n",
        "    return filtered_text\n",
        "\n",
        "def normalize_text(corpus, text_lower_case=True,\n",
        "                     text_stemming=False, text_lemmatization=True,\n",
        "                     special_char_removal=True, remove_digits=True,\n",
        "                     stopword_removal=True,stopwords=stop_words):\n",
        "\n",
        "    normalized_corpus = []\n",
        "    # normalize each document in the corpus\n",
        "    for doc in corpus:\n",
        "\n",
        "        # remove extra newlines\n",
        "        doc = doc.translate(doc.maketrans(\"\\n\\t\\r\", \"   \"))\n",
        "\n",
        "        # lemmatize text\n",
        "        if text_lemmatization:\n",
        "          doc = lemmatize_text(doc)\n",
        "\n",
        "        # stem text\n",
        "        if text_stemming and not text_lemmatization:\n",
        "          doc = simple_porter_stemming(doc)\n",
        "\n",
        "        # remove special characters and\\or digits\n",
        "        if special_char_removal:\n",
        "          # insert spaces between special characters to isolate them\n",
        "          special_char_pattern = re.compile(r'([{.(-)!}])')\n",
        "          doc = special_char_pattern.sub(\" \\\\1 \", doc)\n",
        "          doc = remove_special_characters(doc, remove_digits=remove_digits)\n",
        "\n",
        "        # remove extra whitespace\n",
        "        doc = re.sub(' +', ' ', doc)\n",
        "\n",
        "         # lowercase the text\n",
        "        if text_lower_case:\n",
        "          doc = doc.lower()\n",
        "\n",
        "        # remove stopwords\n",
        "        if stopword_removal:\n",
        "          doc = remove_stopwords(doc, is_lower_case=text_lower_case, stopwords=stopwords)\n",
        "\n",
        "        # remove extra whitespace\n",
        "        doc = re.sub(' +', ' ', doc)\n",
        "        doc = doc.strip()\n",
        "\n",
        "        normalized_corpus.append(doc)\n",
        "\n",
        "    return normalized_corpus"
      ],
      "metadata": {
        "id": "n842mmBJUomA"
      },
      "id": "n842mmBJUomA",
      "execution_count": null,
      "outputs": []
    },
    {
      "cell_type": "code",
      "source": [
        "norm_train_X = normalize_text(train_X, stopwords=stop_words)\n",
        "norm_test_X = normalize_text(test_X, stopwords=stop_words)"
      ],
      "metadata": {
        "id": "gR9iLdU0Yv7Q"
      },
      "id": "gR9iLdU0Yv7Q",
      "execution_count": null,
      "outputs": []
    },
    {
      "cell_type": "code",
      "source": [
        "norm_train_X[:5]"
      ],
      "metadata": {
        "colab": {
          "base_uri": "https://localhost:8080/"
        },
        "id": "zgiGLueNZghp",
        "outputId": "c0546d72-e9a3-47dc-f4e7-caa03354f7c8"
      },
      "id": "zgiGLueNZghp",
      "execution_count": null,
      "outputs": [
        {
          "output_type": "execute_result",
          "data": {
            "text/plain": [
              "['rampage productions welcome blood honour forum',\n",
              " 'refer primate evolution process little bit high evolutionary chain make dangerous white animalistic cousin',\n",
              " 'hungarian academy sciences semmelweis university institute forensic medicine budapest hungary e mail bujgyoigaz sote hu hey look even year csabi hungarian music popularity romania except case exact source specify documentation contact material not sensationalist newspaper but hungarian universities',\n",
              " 'worried not well',\n",
              " 'noble idea but would rather stay mostly white missouri move black south carolina']"
            ]
          },
          "metadata": {},
          "execution_count": 24
        }
      ]
    },
    {
      "cell_type": "markdown",
      "source": [
        "## Vectorization"
      ],
      "metadata": {
        "id": "XO6VeU_X_3FF"
      },
      "id": "XO6VeU_X_3FF"
    },
    {
      "cell_type": "markdown",
      "source": [
        "### Word2Vec\n",
        "Best suit for semantic analysis. It is great for capturing context of words.\n",
        "\n",
        "Word embeddings are the modern way of representing words as vectors. The objective of word embeddings is to redefine the high dimensional word features into low dimensional feature vectors by preserving the contextual similarity in the corpus.[3]"
      ],
      "metadata": {
        "id": "wf-kTFipdImc"
      },
      "id": "wf-kTFipdImc"
    },
    {
      "cell_type": "code",
      "source": [
        "df_norm_train_X = pd.DataFrame(norm_train_X, columns=['X'])\n",
        "df_norm_train_X.head()"
      ],
      "metadata": {
        "colab": {
          "base_uri": "https://localhost:8080/",
          "height": 206
        },
        "id": "bI8G8CrUaA20",
        "outputId": "df431c83-59c1-40c7-f4b2-1bba4d0c0dcb"
      },
      "id": "bI8G8CrUaA20",
      "execution_count": null,
      "outputs": [
        {
          "output_type": "execute_result",
          "data": {
            "text/plain": [
              "                                                                                                                                                                                                         X\n",
              "0                                                                                                                                                           rampage productions welcome blood honour forum\n",
              "1                                                                                               refer primate evolution process little bit high evolutionary chain make dangerous white animalistic cousin\n",
              "2  hungarian academy sciences semmelweis university institute forensic medicine budapest hungary e mail bujgyoigaz sote hu hey look even year csabi hungarian music popularity romania except case exac...\n",
              "3                                                                                                                                                                                         worried not well\n",
              "4                                                                                                                         noble idea but would rather stay mostly white missouri move black south carolina"
            ],
            "text/html": [
              "\n",
              "  <div id=\"df-3edfca81-86b9-40e5-8b13-3d803487ef29\" class=\"colab-df-container\">\n",
              "    <div>\n",
              "<style scoped>\n",
              "    .dataframe tbody tr th:only-of-type {\n",
              "        vertical-align: middle;\n",
              "    }\n",
              "\n",
              "    .dataframe tbody tr th {\n",
              "        vertical-align: top;\n",
              "    }\n",
              "\n",
              "    .dataframe thead th {\n",
              "        text-align: right;\n",
              "    }\n",
              "</style>\n",
              "<table border=\"1\" class=\"dataframe\">\n",
              "  <thead>\n",
              "    <tr style=\"text-align: right;\">\n",
              "      <th></th>\n",
              "      <th>X</th>\n",
              "    </tr>\n",
              "  </thead>\n",
              "  <tbody>\n",
              "    <tr>\n",
              "      <th>0</th>\n",
              "      <td>rampage productions welcome blood honour forum</td>\n",
              "    </tr>\n",
              "    <tr>\n",
              "      <th>1</th>\n",
              "      <td>refer primate evolution process little bit high evolutionary chain make dangerous white animalistic cousin</td>\n",
              "    </tr>\n",
              "    <tr>\n",
              "      <th>2</th>\n",
              "      <td>hungarian academy sciences semmelweis university institute forensic medicine budapest hungary e mail bujgyoigaz sote hu hey look even year csabi hungarian music popularity romania except case exac...</td>\n",
              "    </tr>\n",
              "    <tr>\n",
              "      <th>3</th>\n",
              "      <td>worried not well</td>\n",
              "    </tr>\n",
              "    <tr>\n",
              "      <th>4</th>\n",
              "      <td>noble idea but would rather stay mostly white missouri move black south carolina</td>\n",
              "    </tr>\n",
              "  </tbody>\n",
              "</table>\n",
              "</div>\n",
              "    <div class=\"colab-df-buttons\">\n",
              "\n",
              "  <div class=\"colab-df-container\">\n",
              "    <button class=\"colab-df-convert\" onclick=\"convertToInteractive('df-3edfca81-86b9-40e5-8b13-3d803487ef29')\"\n",
              "            title=\"Convert this dataframe to an interactive table.\"\n",
              "            style=\"display:none;\">\n",
              "\n",
              "  <svg xmlns=\"http://www.w3.org/2000/svg\" height=\"24px\" viewBox=\"0 -960 960 960\">\n",
              "    <path d=\"M120-120v-720h720v720H120Zm60-500h600v-160H180v160Zm220 220h160v-160H400v160Zm0 220h160v-160H400v160ZM180-400h160v-160H180v160Zm440 0h160v-160H620v160ZM180-180h160v-160H180v160Zm440 0h160v-160H620v160Z\"/>\n",
              "  </svg>\n",
              "    </button>\n",
              "\n",
              "  <style>\n",
              "    .colab-df-container {\n",
              "      display:flex;\n",
              "      gap: 12px;\n",
              "    }\n",
              "\n",
              "    .colab-df-convert {\n",
              "      background-color: #E8F0FE;\n",
              "      border: none;\n",
              "      border-radius: 50%;\n",
              "      cursor: pointer;\n",
              "      display: none;\n",
              "      fill: #1967D2;\n",
              "      height: 32px;\n",
              "      padding: 0 0 0 0;\n",
              "      width: 32px;\n",
              "    }\n",
              "\n",
              "    .colab-df-convert:hover {\n",
              "      background-color: #E2EBFA;\n",
              "      box-shadow: 0px 1px 2px rgba(60, 64, 67, 0.3), 0px 1px 3px 1px rgba(60, 64, 67, 0.15);\n",
              "      fill: #174EA6;\n",
              "    }\n",
              "\n",
              "    .colab-df-buttons div {\n",
              "      margin-bottom: 4px;\n",
              "    }\n",
              "\n",
              "    [theme=dark] .colab-df-convert {\n",
              "      background-color: #3B4455;\n",
              "      fill: #D2E3FC;\n",
              "    }\n",
              "\n",
              "    [theme=dark] .colab-df-convert:hover {\n",
              "      background-color: #434B5C;\n",
              "      box-shadow: 0px 1px 3px 1px rgba(0, 0, 0, 0.15);\n",
              "      filter: drop-shadow(0px 1px 2px rgba(0, 0, 0, 0.3));\n",
              "      fill: #FFFFFF;\n",
              "    }\n",
              "  </style>\n",
              "\n",
              "    <script>\n",
              "      const buttonEl =\n",
              "        document.querySelector('#df-3edfca81-86b9-40e5-8b13-3d803487ef29 button.colab-df-convert');\n",
              "      buttonEl.style.display =\n",
              "        google.colab.kernel.accessAllowed ? 'block' : 'none';\n",
              "\n",
              "      async function convertToInteractive(key) {\n",
              "        const element = document.querySelector('#df-3edfca81-86b9-40e5-8b13-3d803487ef29');\n",
              "        const dataTable =\n",
              "          await google.colab.kernel.invokeFunction('convertToInteractive',\n",
              "                                                    [key], {});\n",
              "        if (!dataTable) return;\n",
              "\n",
              "        const docLinkHtml = 'Like what you see? Visit the ' +\n",
              "          '<a target=\"_blank\" href=https://colab.research.google.com/notebooks/data_table.ipynb>data table notebook</a>'\n",
              "          + ' to learn more about interactive tables.';\n",
              "        element.innerHTML = '';\n",
              "        dataTable['output_type'] = 'display_data';\n",
              "        await google.colab.output.renderOutput(dataTable, element);\n",
              "        const docLink = document.createElement('div');\n",
              "        docLink.innerHTML = docLinkHtml;\n",
              "        element.appendChild(docLink);\n",
              "      }\n",
              "    </script>\n",
              "  </div>\n",
              "\n",
              "\n",
              "<div id=\"df-03e78868-da0c-431c-adbb-0bec33b79333\">\n",
              "  <button class=\"colab-df-quickchart\" onclick=\"quickchart('df-03e78868-da0c-431c-adbb-0bec33b79333')\"\n",
              "            title=\"Suggest charts\"\n",
              "            style=\"display:none;\">\n",
              "\n",
              "<svg xmlns=\"http://www.w3.org/2000/svg\" height=\"24px\"viewBox=\"0 0 24 24\"\n",
              "     width=\"24px\">\n",
              "    <g>\n",
              "        <path d=\"M19 3H5c-1.1 0-2 .9-2 2v14c0 1.1.9 2 2 2h14c1.1 0 2-.9 2-2V5c0-1.1-.9-2-2-2zM9 17H7v-7h2v7zm4 0h-2V7h2v10zm4 0h-2v-4h2v4z\"/>\n",
              "    </g>\n",
              "</svg>\n",
              "  </button>\n",
              "\n",
              "<style>\n",
              "  .colab-df-quickchart {\n",
              "      --bg-color: #E8F0FE;\n",
              "      --fill-color: #1967D2;\n",
              "      --hover-bg-color: #E2EBFA;\n",
              "      --hover-fill-color: #174EA6;\n",
              "      --disabled-fill-color: #AAA;\n",
              "      --disabled-bg-color: #DDD;\n",
              "  }\n",
              "\n",
              "  [theme=dark] .colab-df-quickchart {\n",
              "      --bg-color: #3B4455;\n",
              "      --fill-color: #D2E3FC;\n",
              "      --hover-bg-color: #434B5C;\n",
              "      --hover-fill-color: #FFFFFF;\n",
              "      --disabled-bg-color: #3B4455;\n",
              "      --disabled-fill-color: #666;\n",
              "  }\n",
              "\n",
              "  .colab-df-quickchart {\n",
              "    background-color: var(--bg-color);\n",
              "    border: none;\n",
              "    border-radius: 50%;\n",
              "    cursor: pointer;\n",
              "    display: none;\n",
              "    fill: var(--fill-color);\n",
              "    height: 32px;\n",
              "    padding: 0;\n",
              "    width: 32px;\n",
              "  }\n",
              "\n",
              "  .colab-df-quickchart:hover {\n",
              "    background-color: var(--hover-bg-color);\n",
              "    box-shadow: 0 1px 2px rgba(60, 64, 67, 0.3), 0 1px 3px 1px rgba(60, 64, 67, 0.15);\n",
              "    fill: var(--button-hover-fill-color);\n",
              "  }\n",
              "\n",
              "  .colab-df-quickchart-complete:disabled,\n",
              "  .colab-df-quickchart-complete:disabled:hover {\n",
              "    background-color: var(--disabled-bg-color);\n",
              "    fill: var(--disabled-fill-color);\n",
              "    box-shadow: none;\n",
              "  }\n",
              "\n",
              "  .colab-df-spinner {\n",
              "    border: 2px solid var(--fill-color);\n",
              "    border-color: transparent;\n",
              "    border-bottom-color: var(--fill-color);\n",
              "    animation:\n",
              "      spin 1s steps(1) infinite;\n",
              "  }\n",
              "\n",
              "  @keyframes spin {\n",
              "    0% {\n",
              "      border-color: transparent;\n",
              "      border-bottom-color: var(--fill-color);\n",
              "      border-left-color: var(--fill-color);\n",
              "    }\n",
              "    20% {\n",
              "      border-color: transparent;\n",
              "      border-left-color: var(--fill-color);\n",
              "      border-top-color: var(--fill-color);\n",
              "    }\n",
              "    30% {\n",
              "      border-color: transparent;\n",
              "      border-left-color: var(--fill-color);\n",
              "      border-top-color: var(--fill-color);\n",
              "      border-right-color: var(--fill-color);\n",
              "    }\n",
              "    40% {\n",
              "      border-color: transparent;\n",
              "      border-right-color: var(--fill-color);\n",
              "      border-top-color: var(--fill-color);\n",
              "    }\n",
              "    60% {\n",
              "      border-color: transparent;\n",
              "      border-right-color: var(--fill-color);\n",
              "    }\n",
              "    80% {\n",
              "      border-color: transparent;\n",
              "      border-right-color: var(--fill-color);\n",
              "      border-bottom-color: var(--fill-color);\n",
              "    }\n",
              "    90% {\n",
              "      border-color: transparent;\n",
              "      border-bottom-color: var(--fill-color);\n",
              "    }\n",
              "  }\n",
              "</style>\n",
              "\n",
              "  <script>\n",
              "    async function quickchart(key) {\n",
              "      const quickchartButtonEl =\n",
              "        document.querySelector('#' + key + ' button');\n",
              "      quickchartButtonEl.disabled = true;  // To prevent multiple clicks.\n",
              "      quickchartButtonEl.classList.add('colab-df-spinner');\n",
              "      try {\n",
              "        const charts = await google.colab.kernel.invokeFunction(\n",
              "            'suggestCharts', [key], {});\n",
              "      } catch (error) {\n",
              "        console.error('Error during call to suggestCharts:', error);\n",
              "      }\n",
              "      quickchartButtonEl.classList.remove('colab-df-spinner');\n",
              "      quickchartButtonEl.classList.add('colab-df-quickchart-complete');\n",
              "    }\n",
              "    (() => {\n",
              "      let quickchartButtonEl =\n",
              "        document.querySelector('#df-03e78868-da0c-431c-adbb-0bec33b79333 button');\n",
              "      quickchartButtonEl.style.display =\n",
              "        google.colab.kernel.accessAllowed ? 'block' : 'none';\n",
              "    })();\n",
              "  </script>\n",
              "</div>\n",
              "    </div>\n",
              "  </div>\n"
            ]
          },
          "metadata": {},
          "execution_count": 25
        }
      ]
    },
    {
      "cell_type": "code",
      "source": [
        "df_norm_test_X = pd.DataFrame(norm_test_X, columns=['X'])\n",
        "df_norm_test_X.head()"
      ],
      "metadata": {
        "colab": {
          "base_uri": "https://localhost:8080/",
          "height": 206
        },
        "id": "xA5mUhLo0ayx",
        "outputId": "e26bc88c-53db-4285-9c69-1f4596acfaf5"
      },
      "id": "xA5mUhLo0ayx",
      "execution_count": null,
      "outputs": [
        {
          "output_type": "execute_result",
          "data": {
            "text/plain": [
              "                                                                                             X\n",
              "0                                                                sound like heavenly community\n",
              "1                                                     year go dog two friend go ghost mail man\n",
              "2                                                                                          not\n",
              "3                                                                                             \n",
              "4  see opp know name stand congrat nice looking boyfriend read opp awhile see take pic yet put"
            ],
            "text/html": [
              "\n",
              "  <div id=\"df-5712e96d-c366-4321-b728-7654c49bb53d\" class=\"colab-df-container\">\n",
              "    <div>\n",
              "<style scoped>\n",
              "    .dataframe tbody tr th:only-of-type {\n",
              "        vertical-align: middle;\n",
              "    }\n",
              "\n",
              "    .dataframe tbody tr th {\n",
              "        vertical-align: top;\n",
              "    }\n",
              "\n",
              "    .dataframe thead th {\n",
              "        text-align: right;\n",
              "    }\n",
              "</style>\n",
              "<table border=\"1\" class=\"dataframe\">\n",
              "  <thead>\n",
              "    <tr style=\"text-align: right;\">\n",
              "      <th></th>\n",
              "      <th>X</th>\n",
              "    </tr>\n",
              "  </thead>\n",
              "  <tbody>\n",
              "    <tr>\n",
              "      <th>0</th>\n",
              "      <td>sound like heavenly community</td>\n",
              "    </tr>\n",
              "    <tr>\n",
              "      <th>1</th>\n",
              "      <td>year go dog two friend go ghost mail man</td>\n",
              "    </tr>\n",
              "    <tr>\n",
              "      <th>2</th>\n",
              "      <td>not</td>\n",
              "    </tr>\n",
              "    <tr>\n",
              "      <th>3</th>\n",
              "      <td></td>\n",
              "    </tr>\n",
              "    <tr>\n",
              "      <th>4</th>\n",
              "      <td>see opp know name stand congrat nice looking boyfriend read opp awhile see take pic yet put</td>\n",
              "    </tr>\n",
              "  </tbody>\n",
              "</table>\n",
              "</div>\n",
              "    <div class=\"colab-df-buttons\">\n",
              "\n",
              "  <div class=\"colab-df-container\">\n",
              "    <button class=\"colab-df-convert\" onclick=\"convertToInteractive('df-5712e96d-c366-4321-b728-7654c49bb53d')\"\n",
              "            title=\"Convert this dataframe to an interactive table.\"\n",
              "            style=\"display:none;\">\n",
              "\n",
              "  <svg xmlns=\"http://www.w3.org/2000/svg\" height=\"24px\" viewBox=\"0 -960 960 960\">\n",
              "    <path d=\"M120-120v-720h720v720H120Zm60-500h600v-160H180v160Zm220 220h160v-160H400v160Zm0 220h160v-160H400v160ZM180-400h160v-160H180v160Zm440 0h160v-160H620v160ZM180-180h160v-160H180v160Zm440 0h160v-160H620v160Z\"/>\n",
              "  </svg>\n",
              "    </button>\n",
              "\n",
              "  <style>\n",
              "    .colab-df-container {\n",
              "      display:flex;\n",
              "      gap: 12px;\n",
              "    }\n",
              "\n",
              "    .colab-df-convert {\n",
              "      background-color: #E8F0FE;\n",
              "      border: none;\n",
              "      border-radius: 50%;\n",
              "      cursor: pointer;\n",
              "      display: none;\n",
              "      fill: #1967D2;\n",
              "      height: 32px;\n",
              "      padding: 0 0 0 0;\n",
              "      width: 32px;\n",
              "    }\n",
              "\n",
              "    .colab-df-convert:hover {\n",
              "      background-color: #E2EBFA;\n",
              "      box-shadow: 0px 1px 2px rgba(60, 64, 67, 0.3), 0px 1px 3px 1px rgba(60, 64, 67, 0.15);\n",
              "      fill: #174EA6;\n",
              "    }\n",
              "\n",
              "    .colab-df-buttons div {\n",
              "      margin-bottom: 4px;\n",
              "    }\n",
              "\n",
              "    [theme=dark] .colab-df-convert {\n",
              "      background-color: #3B4455;\n",
              "      fill: #D2E3FC;\n",
              "    }\n",
              "\n",
              "    [theme=dark] .colab-df-convert:hover {\n",
              "      background-color: #434B5C;\n",
              "      box-shadow: 0px 1px 3px 1px rgba(0, 0, 0, 0.15);\n",
              "      filter: drop-shadow(0px 1px 2px rgba(0, 0, 0, 0.3));\n",
              "      fill: #FFFFFF;\n",
              "    }\n",
              "  </style>\n",
              "\n",
              "    <script>\n",
              "      const buttonEl =\n",
              "        document.querySelector('#df-5712e96d-c366-4321-b728-7654c49bb53d button.colab-df-convert');\n",
              "      buttonEl.style.display =\n",
              "        google.colab.kernel.accessAllowed ? 'block' : 'none';\n",
              "\n",
              "      async function convertToInteractive(key) {\n",
              "        const element = document.querySelector('#df-5712e96d-c366-4321-b728-7654c49bb53d');\n",
              "        const dataTable =\n",
              "          await google.colab.kernel.invokeFunction('convertToInteractive',\n",
              "                                                    [key], {});\n",
              "        if (!dataTable) return;\n",
              "\n",
              "        const docLinkHtml = 'Like what you see? Visit the ' +\n",
              "          '<a target=\"_blank\" href=https://colab.research.google.com/notebooks/data_table.ipynb>data table notebook</a>'\n",
              "          + ' to learn more about interactive tables.';\n",
              "        element.innerHTML = '';\n",
              "        dataTable['output_type'] = 'display_data';\n",
              "        await google.colab.output.renderOutput(dataTable, element);\n",
              "        const docLink = document.createElement('div');\n",
              "        docLink.innerHTML = docLinkHtml;\n",
              "        element.appendChild(docLink);\n",
              "      }\n",
              "    </script>\n",
              "  </div>\n",
              "\n",
              "\n",
              "<div id=\"df-70113752-814b-42f0-b75d-a5aa6e0b6d8f\">\n",
              "  <button class=\"colab-df-quickchart\" onclick=\"quickchart('df-70113752-814b-42f0-b75d-a5aa6e0b6d8f')\"\n",
              "            title=\"Suggest charts\"\n",
              "            style=\"display:none;\">\n",
              "\n",
              "<svg xmlns=\"http://www.w3.org/2000/svg\" height=\"24px\"viewBox=\"0 0 24 24\"\n",
              "     width=\"24px\">\n",
              "    <g>\n",
              "        <path d=\"M19 3H5c-1.1 0-2 .9-2 2v14c0 1.1.9 2 2 2h14c1.1 0 2-.9 2-2V5c0-1.1-.9-2-2-2zM9 17H7v-7h2v7zm4 0h-2V7h2v10zm4 0h-2v-4h2v4z\"/>\n",
              "    </g>\n",
              "</svg>\n",
              "  </button>\n",
              "\n",
              "<style>\n",
              "  .colab-df-quickchart {\n",
              "      --bg-color: #E8F0FE;\n",
              "      --fill-color: #1967D2;\n",
              "      --hover-bg-color: #E2EBFA;\n",
              "      --hover-fill-color: #174EA6;\n",
              "      --disabled-fill-color: #AAA;\n",
              "      --disabled-bg-color: #DDD;\n",
              "  }\n",
              "\n",
              "  [theme=dark] .colab-df-quickchart {\n",
              "      --bg-color: #3B4455;\n",
              "      --fill-color: #D2E3FC;\n",
              "      --hover-bg-color: #434B5C;\n",
              "      --hover-fill-color: #FFFFFF;\n",
              "      --disabled-bg-color: #3B4455;\n",
              "      --disabled-fill-color: #666;\n",
              "  }\n",
              "\n",
              "  .colab-df-quickchart {\n",
              "    background-color: var(--bg-color);\n",
              "    border: none;\n",
              "    border-radius: 50%;\n",
              "    cursor: pointer;\n",
              "    display: none;\n",
              "    fill: var(--fill-color);\n",
              "    height: 32px;\n",
              "    padding: 0;\n",
              "    width: 32px;\n",
              "  }\n",
              "\n",
              "  .colab-df-quickchart:hover {\n",
              "    background-color: var(--hover-bg-color);\n",
              "    box-shadow: 0 1px 2px rgba(60, 64, 67, 0.3), 0 1px 3px 1px rgba(60, 64, 67, 0.15);\n",
              "    fill: var(--button-hover-fill-color);\n",
              "  }\n",
              "\n",
              "  .colab-df-quickchart-complete:disabled,\n",
              "  .colab-df-quickchart-complete:disabled:hover {\n",
              "    background-color: var(--disabled-bg-color);\n",
              "    fill: var(--disabled-fill-color);\n",
              "    box-shadow: none;\n",
              "  }\n",
              "\n",
              "  .colab-df-spinner {\n",
              "    border: 2px solid var(--fill-color);\n",
              "    border-color: transparent;\n",
              "    border-bottom-color: var(--fill-color);\n",
              "    animation:\n",
              "      spin 1s steps(1) infinite;\n",
              "  }\n",
              "\n",
              "  @keyframes spin {\n",
              "    0% {\n",
              "      border-color: transparent;\n",
              "      border-bottom-color: var(--fill-color);\n",
              "      border-left-color: var(--fill-color);\n",
              "    }\n",
              "    20% {\n",
              "      border-color: transparent;\n",
              "      border-left-color: var(--fill-color);\n",
              "      border-top-color: var(--fill-color);\n",
              "    }\n",
              "    30% {\n",
              "      border-color: transparent;\n",
              "      border-left-color: var(--fill-color);\n",
              "      border-top-color: var(--fill-color);\n",
              "      border-right-color: var(--fill-color);\n",
              "    }\n",
              "    40% {\n",
              "      border-color: transparent;\n",
              "      border-right-color: var(--fill-color);\n",
              "      border-top-color: var(--fill-color);\n",
              "    }\n",
              "    60% {\n",
              "      border-color: transparent;\n",
              "      border-right-color: var(--fill-color);\n",
              "    }\n",
              "    80% {\n",
              "      border-color: transparent;\n",
              "      border-right-color: var(--fill-color);\n",
              "      border-bottom-color: var(--fill-color);\n",
              "    }\n",
              "    90% {\n",
              "      border-color: transparent;\n",
              "      border-bottom-color: var(--fill-color);\n",
              "    }\n",
              "  }\n",
              "</style>\n",
              "\n",
              "  <script>\n",
              "    async function quickchart(key) {\n",
              "      const quickchartButtonEl =\n",
              "        document.querySelector('#' + key + ' button');\n",
              "      quickchartButtonEl.disabled = true;  // To prevent multiple clicks.\n",
              "      quickchartButtonEl.classList.add('colab-df-spinner');\n",
              "      try {\n",
              "        const charts = await google.colab.kernel.invokeFunction(\n",
              "            'suggestCharts', [key], {});\n",
              "      } catch (error) {\n",
              "        console.error('Error during call to suggestCharts:', error);\n",
              "      }\n",
              "      quickchartButtonEl.classList.remove('colab-df-spinner');\n",
              "      quickchartButtonEl.classList.add('colab-df-quickchart-complete');\n",
              "    }\n",
              "    (() => {\n",
              "      let quickchartButtonEl =\n",
              "        document.querySelector('#df-70113752-814b-42f0-b75d-a5aa6e0b6d8f button');\n",
              "      quickchartButtonEl.style.display =\n",
              "        google.colab.kernel.accessAllowed ? 'block' : 'none';\n",
              "    })();\n",
              "  </script>\n",
              "</div>\n",
              "    </div>\n",
              "  </div>\n"
            ]
          },
          "metadata": {},
          "execution_count": 26
        }
      ]
    },
    {
      "cell_type": "code",
      "source": [
        "import gensim\n",
        "from gensim.models import Word2Vec\n",
        "\n",
        "norm_train_X_token = df_norm_train_X.X.apply(gensim.utils.simple_preprocess)\n",
        "norm_train_X_token.head()"
      ],
      "metadata": {
        "colab": {
          "base_uri": "https://localhost:8080/"
        },
        "id": "YBTtYPlTaRTi",
        "outputId": "1c2a6195-8e7d-4967-c5e2-0ef0bee6ca78"
      },
      "id": "YBTtYPlTaRTi",
      "execution_count": null,
      "outputs": [
        {
          "output_type": "execute_result",
          "data": {
            "text/plain": [
              "0                                                                                                                                                      [rampage, productions, welcome, blood, honour, forum]\n",
              "1                                                                                  [refer, primate, evolution, process, little, bit, high, evolutionary, chain, make, dangerous, white, animalistic, cousin]\n",
              "2    [hungarian, academy, sciences, semmelweis, university, institute, forensic, medicine, budapest, hungary, mail, bujgyoigaz, sote, hu, hey, look, even, year, csabi, hungarian, music, popularity, rom...\n",
              "3                                                                                                                                                                                       [worried, not, well]\n",
              "4                                                                                                             [noble, idea, but, would, rather, stay, mostly, white, missouri, move, black, south, carolina]\n",
              "Name: X, dtype: object"
            ]
          },
          "metadata": {},
          "execution_count": 27
        }
      ]
    },
    {
      "cell_type": "code",
      "source": [
        "norm_test_X_token = df_norm_test_X.X.apply(gensim.utils.simple_preprocess)\n",
        "norm_test_X_token.head()"
      ],
      "metadata": {
        "colab": {
          "base_uri": "https://localhost:8080/"
        },
        "id": "3CwD1A5j0uBu",
        "outputId": "89ec28f1-235d-4527-a4eb-aab860396eac"
      },
      "id": "3CwD1A5j0uBu",
      "execution_count": null,
      "outputs": [
        {
          "output_type": "execute_result",
          "data": {
            "text/plain": [
              "0                                                                               [sound, like, heavenly, community]\n",
              "1                                                               [year, go, dog, two, friend, go, ghost, mail, man]\n",
              "2                                                                                                            [not]\n",
              "3                                                                                                               []\n",
              "4    [see, opp, know, name, stand, congrat, nice, looking, boyfriend, read, opp, awhile, see, take, pic, yet, put]\n",
              "Name: X, dtype: object"
            ]
          },
          "metadata": {},
          "execution_count": 28
        }
      ]
    },
    {
      "cell_type": "code",
      "source": [
        "model=Word2Vec(norm_train_X_token,window=5, min_count=2, workers=4, sg=0)\n",
        "\n",
        "model.build_vocab(norm_train_X_token, progress_per=1000)\n",
        "model.train(norm_train_X_token, total_examples=model.corpus_count, epochs=model.epochs)\n",
        "\n",
        "model.save(\"./speech.model\")"
      ],
      "metadata": {
        "colab": {
          "base_uri": "https://localhost:8080/"
        },
        "id": "fGdbXEbxamnp",
        "outputId": "ae2bbaf2-a5a0-458e-d980-cde3ca883b4f"
      },
      "id": "fGdbXEbxamnp",
      "execution_count": null,
      "outputs": [
        {
          "output_type": "stream",
          "name": "stderr",
          "text": [
            "WARNING:gensim.models.keyedvectors:sorting after vectors have been allocated is expensive & error-prone\n",
            "WARNING:gensim.models.word2vec:Effective 'alpha' higher than previous training cycles\n"
          ]
        }
      ]
    },
    {
      "cell_type": "code",
      "source": [
        "def get_text2vec(words):\n",
        "  vectors = [model.wv[word] for word in words if word in model.wv]\n",
        "  if vectors:\n",
        "    return np.mean(vectors, axis=0)\n",
        "  else:\n",
        "    return np.zeros(model.vector_size)"
      ],
      "metadata": {
        "id": "hzMecARJa195"
      },
      "id": "hzMecARJa195",
      "execution_count": null,
      "outputs": []
    },
    {
      "cell_type": "code",
      "source": [
        "text2vec_train_X = norm_train_X_token.apply(get_text2vec)\n",
        "text2vec_train_X.head()"
      ],
      "metadata": {
        "colab": {
          "base_uri": "https://localhost:8080/"
        },
        "id": "fdVkGXGia6nQ",
        "outputId": "a5d96577-9e56-4ea4-d7a0-ebb9ae9a8ae1"
      },
      "id": "fdVkGXGia6nQ",
      "execution_count": null,
      "outputs": [
        {
          "output_type": "execute_result",
          "data": {
            "text/plain": [
              "0    [-0.48775142, 0.6396986, 0.14451051, 0.1167997, 0.013007507, -1.1527827, 0.2438913, 1.4444444, -0.78290343, -0.38593635, -0.27375004, -1.106189, 0.082522765, 0.24266881, 0.23394598, -0.3943703, 0....\n",
              "1    [-0.46496695, 0.58949316, 0.12547493, 0.10579297, 0.013193502, -1.1037709, 0.2083459, 1.3838875, -0.7574176, -0.34780473, -0.27059358, -1.0451251, 0.067125574, 0.23532969, 0.21623573, -0.36311784,...\n",
              "2    [-0.42584985, 0.5420371, 0.114479564, 0.095968015, 0.009440796, -1.016321, 0.19437012, 1.2726414, -0.69343346, -0.32181507, -0.24864802, -0.96153265, 0.07149881, 0.21983486, 0.19960132, -0.3391650...\n",
              "3    [-0.4132925, 0.51534754, 0.09437259, 0.08421069, 0.022393892, -0.9691539, 0.18175776, 1.2188643, -0.67192954, -0.2927345, -0.23833513, -0.9129006, 0.058776546, 0.20067048, 0.18613923, -0.31653225,...\n",
              "4    [-0.39733645, 0.504473, 0.1037347, 0.09399637, 0.008614858, -0.9503581, 0.17836922, 1.1920578, -0.65476394, -0.29732198, -0.23729481, -0.8907795, 0.05811841, 0.20396689, 0.18650804, -0.31345525, 0...\n",
              "Name: X, dtype: object"
            ]
          },
          "metadata": {},
          "execution_count": 31
        }
      ]
    },
    {
      "cell_type": "code",
      "source": [
        "text2vec_test_X = norm_test_X_token.apply(get_text2vec)\n",
        "text2vec_test_X.head()"
      ],
      "metadata": {
        "colab": {
          "base_uri": "https://localhost:8080/"
        },
        "id": "3BCoM3Gq1ay4",
        "outputId": "3c90f80c-0072-4092-ac9a-1f30b55e2d8e"
      },
      "id": "3BCoM3Gq1ay4",
      "execution_count": null,
      "outputs": [
        {
          "output_type": "execute_result",
          "data": {
            "text/plain": [
              "0    [-0.31405357, 0.39183918, 0.07683793, 0.064100325, 0.017815081, -0.74382734, 0.1325689, 0.92545366, -0.51276094, -0.23559053, -0.1798477, -0.6914106, 0.04096299, 0.15535639, 0.1495097, -0.24096864...\n",
              "1    [-0.35207304, 0.44533914, 0.09824843, 0.07904472, 0.0067117345, -0.8479407, 0.15197743, 1.0505259, -0.57292277, -0.2677572, -0.20505728, -0.7973081, 0.059302792, 0.18111694, 0.17124811, -0.2812855...\n",
              "2    [-0.3964781, 0.4953035, 0.077224754, 0.07639645, 0.027609717, -0.95989376, 0.18022387, 1.1988236, -0.65342474, -0.2829197, -0.21762162, -0.8779726, 0.04010674, 0.19459428, 0.17721741, -0.30059576,...\n",
              "3    [0.0, 0.0, 0.0, 0.0, 0.0, 0.0, 0.0, 0.0, 0.0, 0.0, 0.0, 0.0, 0.0, 0.0, 0.0, 0.0, 0.0, 0.0, 0.0, 0.0, 0.0, 0.0, 0.0, 0.0, 0.0, 0.0, 0.0, 0.0, 0.0, 0.0, 0.0, 0.0, 0.0, 0.0, 0.0, 0.0, 0.0, 0.0, 0.0, ...\n",
              "4    [-0.30123737, 0.38457, 0.07804428, 0.06606511, 0.008812682, -0.7155181, 0.13110875, 0.8971039, -0.4861974, -0.21923031, -0.17853393, -0.6719507, 0.04214304, 0.15359637, 0.14647429, -0.23376957, 0....\n",
              "Name: X, dtype: object"
            ]
          },
          "metadata": {},
          "execution_count": 32
        }
      ]
    },
    {
      "cell_type": "markdown",
      "source": [
        "### CountVectorizer and TfidVectorizer"
      ],
      "metadata": {
        "id": "Rfm3d6yN9RV-"
      },
      "id": "Rfm3d6yN9RV-"
    },
    {
      "cell_type": "markdown",
      "source": [
        "\n",
        "Count Vectorizer is a way to convert a given set of strings into a frequency representation. Count Vectorizers can be helpful in understanding the type of text by the frequency of words in it. [2]\n",
        "\n",
        "\n",
        "---------------------\n",
        "\n",
        "TFIDF is based on the logic that words that are too abundant in a corpus and words that are too rare are both not statistically important for finding a pattern. The Logarithmic factor in tfidf mathematically penalizes the words that are too abundant or too rare in the corpus by giving them low tfidf scores.\n",
        "Higher value of tfidf signifies higher importance of the words in the corpus while lower values represent lower importance.[2]"
      ],
      "metadata": {
        "id": "2_Jvrp8NBTIs"
      },
      "id": "2_Jvrp8NBTIs"
    },
    {
      "cell_type": "code",
      "source": [
        "from sklearn.feature_extraction.text import CountVectorizer, TfidfVectorizer\n",
        "\n",
        "# build BOW features on train text\n",
        "cv = CountVectorizer(ngram_range=(1,2),stop_words=stop_words).fit(norm_train_X)\n",
        "cv_train_features = cv.transform(norm_train_X)\n",
        "# build TFIDF features on train text\n",
        "tv = TfidfVectorizer(ngram_range=(1,2),stop_words=stop_words).fit(norm_train_X)\n",
        "tv_train_features = tv.transform(norm_train_X)"
      ],
      "metadata": {
        "id": "DrjjDy0aEUUB"
      },
      "id": "DrjjDy0aEUUB",
      "execution_count": null,
      "outputs": []
    },
    {
      "cell_type": "code",
      "source": [
        "# transform test reviews into features\n",
        "cv_test_features = cv.transform(norm_test_X)\n",
        "tv_test_features = tv.transform(norm_test_X)"
      ],
      "metadata": {
        "id": "s0Bomzud_YCN"
      },
      "id": "s0Bomzud_YCN",
      "execution_count": null,
      "outputs": []
    },
    {
      "cell_type": "code",
      "source": [
        "cv_train_X = pd.DataFrame(cv_train_features.toarray(), columns=cv.get_feature_names_out())\n",
        "cv_test_X = pd.DataFrame(cv_test_features.toarray(), columns=cv.get_feature_names_out())\n",
        "tv_train_X = pd.DataFrame(tv_train_features.toarray(), columns=tv.get_feature_names_out())\n",
        "tv_test_X = pd.DataFrame(tv_test_features.toarray(), columns=tv.get_feature_names_out())"
      ],
      "metadata": {
        "id": "3NBUbDzSEwNn"
      },
      "id": "3NBUbDzSEwNn",
      "execution_count": null,
      "outputs": []
    },
    {
      "cell_type": "markdown",
      "source": [
        "## Model Creation\n",
        "- X:\n",
        "  * Word2Vec: text2vec_train_X, text2vec_test_X\n",
        "  * CountVectorizer: cv_train_X, cv_test_X\n",
        "  * TfidVectorizer: tv_train_X, tv_test_X\n",
        "- y: train_y, test_y"
      ],
      "metadata": {
        "id": "utdqEJJzCZmK"
      },
      "id": "utdqEJJzCZmK"
    },
    {
      "cell_type": "code",
      "source": [
        "from sklearn.naive_bayes import MultinomialNB\n",
        "from sklearn.linear_model import SGDClassifier\n",
        "from sklearn.svm import LinearSVC\n",
        "from sklearn.linear_model import LogisticRegression\n",
        "\n",
        "from sklearn import metrics\n",
        "from sklearn.model_selection import cross_val_score\n",
        "from sklearn.model_selection import GridSearchCV"
      ],
      "metadata": {
        "id": "-9SGapvzKmAY"
      },
      "id": "-9SGapvzKmAY",
      "execution_count": null,
      "outputs": []
    },
    {
      "cell_type": "markdown",
      "source": [
        "During the model creation process various strategies were employed to determine which format worked best for our dataset. In some cases a grid search was used to determine the best hyperparameters for certain model types. This process takes a significant amount of time to run, so the code is commented out. Instead, the parameters determined by the search are manually assigned after the commented code."
      ],
      "metadata": {
        "id": "_hYzpeyfBenn"
      },
      "id": "_hYzpeyfBenn"
    },
    {
      "cell_type": "markdown",
      "source": [
        "### MultinomialNB Model"
      ],
      "metadata": {
        "id": "94-g52I9FqfS"
      },
      "id": "94-g52I9FqfS"
    },
    {
      "cell_type": "markdown",
      "source": [
        "#### Using CountVectorizer"
      ],
      "metadata": {
        "id": "yipMLQx3FvHR"
      },
      "id": "yipMLQx3FvHR"
    },
    {
      "cell_type": "code",
      "source": [
        "#mnb_cv = MultinomialNB(alpha=1)"
      ],
      "metadata": {
        "id": "sshcv9WR9kCQ"
      },
      "id": "sshcv9WR9kCQ",
      "execution_count": null,
      "outputs": []
    },
    {
      "cell_type": "code",
      "source": [
        "#mnb_parameters = {\n",
        "#    'alpha': (1e-1,1e-3,1e-5,1e-7,1e-9,1e-10)\n",
        "#}"
      ],
      "metadata": {
        "id": "vgCUgnPOCYXX"
      },
      "id": "vgCUgnPOCYXX",
      "execution_count": null,
      "outputs": []
    },
    {
      "cell_type": "code",
      "source": [
        "#gs_mnbcv = GridSearchCV(mnb_cv, mnb_parameters, cv=5)"
      ],
      "metadata": {
        "id": "CpNuRIWBCg2Q"
      },
      "id": "CpNuRIWBCg2Q",
      "execution_count": null,
      "outputs": []
    },
    {
      "cell_type": "code",
      "source": [
        "#gs_mnbcv = gs_mnbcv.fit(cv_train_X, train_y)"
      ],
      "metadata": {
        "id": "dquxZjU2CrTB"
      },
      "id": "dquxZjU2CrTB",
      "execution_count": null,
      "outputs": []
    },
    {
      "cell_type": "code",
      "source": [
        "#gs_mnbcv.best_score_"
      ],
      "metadata": {
        "id": "9Pvq679uDrz1"
      },
      "id": "9Pvq679uDrz1",
      "execution_count": null,
      "outputs": []
    },
    {
      "cell_type": "code",
      "source": [
        "#gs_mnbcv.best_params_"
      ],
      "metadata": {
        "id": "qM4jiECUDuhv"
      },
      "id": "qM4jiECUDuhv",
      "execution_count": null,
      "outputs": []
    },
    {
      "cell_type": "code",
      "source": [
        "#param_a = gs_mnbcv.best_params_['alpha']"
      ],
      "metadata": {
        "id": "T47gMIEIHw2a"
      },
      "id": "T47gMIEIHw2a",
      "execution_count": null,
      "outputs": []
    },
    {
      "cell_type": "code",
      "source": [
        "param_a = 1e-10"
      ],
      "metadata": {
        "id": "h1IslS9UXrKx"
      },
      "id": "h1IslS9UXrKx",
      "execution_count": null,
      "outputs": []
    },
    {
      "cell_type": "markdown",
      "source": [
        "Creates model using best value for alpha"
      ],
      "metadata": {
        "id": "32J3wKHOMGcC"
      },
      "id": "32J3wKHOMGcC"
    },
    {
      "cell_type": "code",
      "source": [
        "mnb_cv = MultinomialNB(alpha=param_a)\n",
        "mnb_cv.fit(cv_train_X, y_train)"
      ],
      "metadata": {
        "colab": {
          "base_uri": "https://localhost:8080/",
          "height": 75
        },
        "id": "TO80nzznH1U6",
        "outputId": "2eb8b9c8-79a5-43a1-b2e4-ad90a5e65a2a"
      },
      "id": "TO80nzznH1U6",
      "execution_count": null,
      "outputs": [
        {
          "output_type": "execute_result",
          "data": {
            "text/plain": [
              "MultinomialNB(alpha=1e-10)"
            ],
            "text/html": [
              "<style>#sk-container-id-1 {color: black;background-color: white;}#sk-container-id-1 pre{padding: 0;}#sk-container-id-1 div.sk-toggleable {background-color: white;}#sk-container-id-1 label.sk-toggleable__label {cursor: pointer;display: block;width: 100%;margin-bottom: 0;padding: 0.3em;box-sizing: border-box;text-align: center;}#sk-container-id-1 label.sk-toggleable__label-arrow:before {content: \"▸\";float: left;margin-right: 0.25em;color: #696969;}#sk-container-id-1 label.sk-toggleable__label-arrow:hover:before {color: black;}#sk-container-id-1 div.sk-estimator:hover label.sk-toggleable__label-arrow:before {color: black;}#sk-container-id-1 div.sk-toggleable__content {max-height: 0;max-width: 0;overflow: hidden;text-align: left;background-color: #f0f8ff;}#sk-container-id-1 div.sk-toggleable__content pre {margin: 0.2em;color: black;border-radius: 0.25em;background-color: #f0f8ff;}#sk-container-id-1 input.sk-toggleable__control:checked~div.sk-toggleable__content {max-height: 200px;max-width: 100%;overflow: auto;}#sk-container-id-1 input.sk-toggleable__control:checked~label.sk-toggleable__label-arrow:before {content: \"▾\";}#sk-container-id-1 div.sk-estimator input.sk-toggleable__control:checked~label.sk-toggleable__label {background-color: #d4ebff;}#sk-container-id-1 div.sk-label input.sk-toggleable__control:checked~label.sk-toggleable__label {background-color: #d4ebff;}#sk-container-id-1 input.sk-hidden--visually {border: 0;clip: rect(1px 1px 1px 1px);clip: rect(1px, 1px, 1px, 1px);height: 1px;margin: -1px;overflow: hidden;padding: 0;position: absolute;width: 1px;}#sk-container-id-1 div.sk-estimator {font-family: monospace;background-color: #f0f8ff;border: 1px dotted black;border-radius: 0.25em;box-sizing: border-box;margin-bottom: 0.5em;}#sk-container-id-1 div.sk-estimator:hover {background-color: #d4ebff;}#sk-container-id-1 div.sk-parallel-item::after {content: \"\";width: 100%;border-bottom: 1px solid gray;flex-grow: 1;}#sk-container-id-1 div.sk-label:hover label.sk-toggleable__label {background-color: #d4ebff;}#sk-container-id-1 div.sk-serial::before {content: \"\";position: absolute;border-left: 1px solid gray;box-sizing: border-box;top: 0;bottom: 0;left: 50%;z-index: 0;}#sk-container-id-1 div.sk-serial {display: flex;flex-direction: column;align-items: center;background-color: white;padding-right: 0.2em;padding-left: 0.2em;position: relative;}#sk-container-id-1 div.sk-item {position: relative;z-index: 1;}#sk-container-id-1 div.sk-parallel {display: flex;align-items: stretch;justify-content: center;background-color: white;position: relative;}#sk-container-id-1 div.sk-item::before, #sk-container-id-1 div.sk-parallel-item::before {content: \"\";position: absolute;border-left: 1px solid gray;box-sizing: border-box;top: 0;bottom: 0;left: 50%;z-index: -1;}#sk-container-id-1 div.sk-parallel-item {display: flex;flex-direction: column;z-index: 1;position: relative;background-color: white;}#sk-container-id-1 div.sk-parallel-item:first-child::after {align-self: flex-end;width: 50%;}#sk-container-id-1 div.sk-parallel-item:last-child::after {align-self: flex-start;width: 50%;}#sk-container-id-1 div.sk-parallel-item:only-child::after {width: 0;}#sk-container-id-1 div.sk-dashed-wrapped {border: 1px dashed gray;margin: 0 0.4em 0.5em 0.4em;box-sizing: border-box;padding-bottom: 0.4em;background-color: white;}#sk-container-id-1 div.sk-label label {font-family: monospace;font-weight: bold;display: inline-block;line-height: 1.2em;}#sk-container-id-1 div.sk-label-container {text-align: center;}#sk-container-id-1 div.sk-container {/* jupyter's `normalize.less` sets `[hidden] { display: none; }` but bootstrap.min.css set `[hidden] { display: none !important; }` so we also need the `!important` here to be able to override the default hidden behavior on the sphinx rendered scikit-learn.org. See: https://github.com/scikit-learn/scikit-learn/issues/21755 */display: inline-block !important;position: relative;}#sk-container-id-1 div.sk-text-repr-fallback {display: none;}</style><div id=\"sk-container-id-1\" class=\"sk-top-container\"><div class=\"sk-text-repr-fallback\"><pre>MultinomialNB(alpha=1e-10)</pre><b>In a Jupyter environment, please rerun this cell to show the HTML representation or trust the notebook. <br />On GitHub, the HTML representation is unable to render, please try loading this page with nbviewer.org.</b></div><div class=\"sk-container\" hidden><div class=\"sk-item\"><div class=\"sk-estimator sk-toggleable\"><input class=\"sk-toggleable__control sk-hidden--visually\" id=\"sk-estimator-id-1\" type=\"checkbox\" checked><label for=\"sk-estimator-id-1\" class=\"sk-toggleable__label sk-toggleable__label-arrow\">MultinomialNB</label><div class=\"sk-toggleable__content\"><pre>MultinomialNB(alpha=1e-10)</pre></div></div></div></div></div>"
            ]
          },
          "metadata": {},
          "execution_count": 45
        }
      ]
    },
    {
      "cell_type": "markdown",
      "source": [
        "Predicts labels on train/test data"
      ],
      "metadata": {
        "id": "dFAx5xokMLaM"
      },
      "id": "dFAx5xokMLaM"
    },
    {
      "cell_type": "code",
      "source": [
        "mnb_cv_test_predict = mnb_cv.predict(cv_test_X)\n",
        "mnb_cv_train_predict = mnb_cv.predict(cv_train_X)\n",
        "np.mean(mnb_cv_test_predict == y_test) # % correct predictions on test data"
      ],
      "metadata": {
        "id": "Lzs3wwzkIqQ5",
        "colab": {
          "base_uri": "https://localhost:8080/"
        },
        "outputId": "cb5ceab1-3a70-4206-f529-35295f4a1aa9"
      },
      "id": "Lzs3wwzkIqQ5",
      "execution_count": null,
      "outputs": [
        {
          "output_type": "execute_result",
          "data": {
            "text/plain": [
              "0.8664175618869687"
            ]
          },
          "metadata": {},
          "execution_count": 46
        }
      ]
    },
    {
      "cell_type": "markdown",
      "source": [
        "Calculate model evaluation stats"
      ],
      "metadata": {
        "id": "OslNjGjiMabi"
      },
      "id": "OslNjGjiMabi"
    },
    {
      "cell_type": "code",
      "source": [
        "mnb_cv_test_report = metrics.classification_report(y_test,mnb_cv_test_predict,labels=[0,1])\n",
        "mnb_cv_train_report = metrics.classification_report(y_train,mnb_cv_train_predict,labels=[0,1])"
      ],
      "metadata": {
        "id": "4d6patrQItpn"
      },
      "id": "4d6patrQItpn",
      "execution_count": null,
      "outputs": []
    },
    {
      "cell_type": "code",
      "source": [
        "print(mnb_cv_train_report)"
      ],
      "metadata": {
        "colab": {
          "base_uri": "https://localhost:8080/"
        },
        "id": "h1TL7424FbyF",
        "outputId": "feb1a2a6-3ce8-4a53-8074-7a45c8eaded5"
      },
      "id": "h1TL7424FbyF",
      "execution_count": null,
      "outputs": [
        {
          "output_type": "stream",
          "name": "stdout",
          "text": [
            "              precision    recall  f1-score   support\n",
            "\n",
            "           0       1.00      1.00      1.00      7605\n",
            "           1       0.99      1.00      0.99       957\n",
            "\n",
            "    accuracy                           1.00      8562\n",
            "   macro avg       0.99      1.00      1.00      8562\n",
            "weighted avg       1.00      1.00      1.00      8562\n",
            "\n"
          ]
        }
      ]
    },
    {
      "cell_type": "code",
      "source": [
        "print(mnb_cv_test_report)"
      ],
      "metadata": {
        "colab": {
          "base_uri": "https://localhost:8080/"
        },
        "id": "5s-qbjegFetZ",
        "outputId": "bff022c7-8c43-4c4b-d5bf-d5127710d103"
      },
      "id": "5s-qbjegFetZ",
      "execution_count": null,
      "outputs": [
        {
          "output_type": "stream",
          "name": "stdout",
          "text": [
            "              precision    recall  f1-score   support\n",
            "\n",
            "           0       0.91      0.95      0.93      1902\n",
            "           1       0.35      0.24      0.29       239\n",
            "\n",
            "    accuracy                           0.87      2141\n",
            "   macro avg       0.63      0.59      0.61      2141\n",
            "weighted avg       0.85      0.87      0.85      2141\n",
            "\n"
          ]
        }
      ]
    },
    {
      "cell_type": "markdown",
      "source": [
        "#### Using Tfidf"
      ],
      "metadata": {
        "id": "loHGcNI8F-K2"
      },
      "id": "loHGcNI8F-K2"
    },
    {
      "cell_type": "code",
      "source": [
        "mnb_tf = MultinomialNB(alpha = param_a)\n",
        "mnb_tf.fit(tv_train_X, y_train)"
      ],
      "metadata": {
        "colab": {
          "base_uri": "https://localhost:8080/",
          "height": 75
        },
        "id": "3bTVXVgpGA39",
        "outputId": "a424243b-2cd0-4645-82f5-856e95c0ea62"
      },
      "id": "3bTVXVgpGA39",
      "execution_count": null,
      "outputs": [
        {
          "output_type": "execute_result",
          "data": {
            "text/plain": [
              "MultinomialNB(alpha=1e-10)"
            ],
            "text/html": [
              "<style>#sk-container-id-2 {color: black;background-color: white;}#sk-container-id-2 pre{padding: 0;}#sk-container-id-2 div.sk-toggleable {background-color: white;}#sk-container-id-2 label.sk-toggleable__label {cursor: pointer;display: block;width: 100%;margin-bottom: 0;padding: 0.3em;box-sizing: border-box;text-align: center;}#sk-container-id-2 label.sk-toggleable__label-arrow:before {content: \"▸\";float: left;margin-right: 0.25em;color: #696969;}#sk-container-id-2 label.sk-toggleable__label-arrow:hover:before {color: black;}#sk-container-id-2 div.sk-estimator:hover label.sk-toggleable__label-arrow:before {color: black;}#sk-container-id-2 div.sk-toggleable__content {max-height: 0;max-width: 0;overflow: hidden;text-align: left;background-color: #f0f8ff;}#sk-container-id-2 div.sk-toggleable__content pre {margin: 0.2em;color: black;border-radius: 0.25em;background-color: #f0f8ff;}#sk-container-id-2 input.sk-toggleable__control:checked~div.sk-toggleable__content {max-height: 200px;max-width: 100%;overflow: auto;}#sk-container-id-2 input.sk-toggleable__control:checked~label.sk-toggleable__label-arrow:before {content: \"▾\";}#sk-container-id-2 div.sk-estimator input.sk-toggleable__control:checked~label.sk-toggleable__label {background-color: #d4ebff;}#sk-container-id-2 div.sk-label input.sk-toggleable__control:checked~label.sk-toggleable__label {background-color: #d4ebff;}#sk-container-id-2 input.sk-hidden--visually {border: 0;clip: rect(1px 1px 1px 1px);clip: rect(1px, 1px, 1px, 1px);height: 1px;margin: -1px;overflow: hidden;padding: 0;position: absolute;width: 1px;}#sk-container-id-2 div.sk-estimator {font-family: monospace;background-color: #f0f8ff;border: 1px dotted black;border-radius: 0.25em;box-sizing: border-box;margin-bottom: 0.5em;}#sk-container-id-2 div.sk-estimator:hover {background-color: #d4ebff;}#sk-container-id-2 div.sk-parallel-item::after {content: \"\";width: 100%;border-bottom: 1px solid gray;flex-grow: 1;}#sk-container-id-2 div.sk-label:hover label.sk-toggleable__label {background-color: #d4ebff;}#sk-container-id-2 div.sk-serial::before {content: \"\";position: absolute;border-left: 1px solid gray;box-sizing: border-box;top: 0;bottom: 0;left: 50%;z-index: 0;}#sk-container-id-2 div.sk-serial {display: flex;flex-direction: column;align-items: center;background-color: white;padding-right: 0.2em;padding-left: 0.2em;position: relative;}#sk-container-id-2 div.sk-item {position: relative;z-index: 1;}#sk-container-id-2 div.sk-parallel {display: flex;align-items: stretch;justify-content: center;background-color: white;position: relative;}#sk-container-id-2 div.sk-item::before, #sk-container-id-2 div.sk-parallel-item::before {content: \"\";position: absolute;border-left: 1px solid gray;box-sizing: border-box;top: 0;bottom: 0;left: 50%;z-index: -1;}#sk-container-id-2 div.sk-parallel-item {display: flex;flex-direction: column;z-index: 1;position: relative;background-color: white;}#sk-container-id-2 div.sk-parallel-item:first-child::after {align-self: flex-end;width: 50%;}#sk-container-id-2 div.sk-parallel-item:last-child::after {align-self: flex-start;width: 50%;}#sk-container-id-2 div.sk-parallel-item:only-child::after {width: 0;}#sk-container-id-2 div.sk-dashed-wrapped {border: 1px dashed gray;margin: 0 0.4em 0.5em 0.4em;box-sizing: border-box;padding-bottom: 0.4em;background-color: white;}#sk-container-id-2 div.sk-label label {font-family: monospace;font-weight: bold;display: inline-block;line-height: 1.2em;}#sk-container-id-2 div.sk-label-container {text-align: center;}#sk-container-id-2 div.sk-container {/* jupyter's `normalize.less` sets `[hidden] { display: none; }` but bootstrap.min.css set `[hidden] { display: none !important; }` so we also need the `!important` here to be able to override the default hidden behavior on the sphinx rendered scikit-learn.org. See: https://github.com/scikit-learn/scikit-learn/issues/21755 */display: inline-block !important;position: relative;}#sk-container-id-2 div.sk-text-repr-fallback {display: none;}</style><div id=\"sk-container-id-2\" class=\"sk-top-container\"><div class=\"sk-text-repr-fallback\"><pre>MultinomialNB(alpha=1e-10)</pre><b>In a Jupyter environment, please rerun this cell to show the HTML representation or trust the notebook. <br />On GitHub, the HTML representation is unable to render, please try loading this page with nbviewer.org.</b></div><div class=\"sk-container\" hidden><div class=\"sk-item\"><div class=\"sk-estimator sk-toggleable\"><input class=\"sk-toggleable__control sk-hidden--visually\" id=\"sk-estimator-id-2\" type=\"checkbox\" checked><label for=\"sk-estimator-id-2\" class=\"sk-toggleable__label sk-toggleable__label-arrow\">MultinomialNB</label><div class=\"sk-toggleable__content\"><pre>MultinomialNB(alpha=1e-10)</pre></div></div></div></div></div>"
            ]
          },
          "metadata": {},
          "execution_count": 50
        }
      ]
    },
    {
      "cell_type": "code",
      "source": [
        "mnb_tf_test_predict = mnb_tf.predict(tv_test_X)\n",
        "mnb_tf_train_predict = mnb_tf.predict(tv_train_X)\n",
        "np.mean(mnb_tf_test_predict == y_test)"
      ],
      "metadata": {
        "id": "Hcu6mXcuGUeY",
        "colab": {
          "base_uri": "https://localhost:8080/"
        },
        "outputId": "2a0a20c4-ed15-4112-ab60-4b9b73fe6e6e"
      },
      "id": "Hcu6mXcuGUeY",
      "execution_count": null,
      "outputs": [
        {
          "output_type": "execute_result",
          "data": {
            "text/plain": [
              "0.8762260625875758"
            ]
          },
          "metadata": {},
          "execution_count": 51
        }
      ]
    },
    {
      "cell_type": "code",
      "source": [
        "mnb_tv_test_report = metrics.classification_report(y_test,mnb_tf_test_predict,labels=[0,1])\n",
        "mnb_tv_train_report = metrics.classification_report(y_train,mnb_tf_train_predict,labels=[0,1])"
      ],
      "metadata": {
        "id": "YrKzlKceGpff"
      },
      "id": "YrKzlKceGpff",
      "execution_count": null,
      "outputs": []
    },
    {
      "cell_type": "code",
      "source": [
        "print(mnb_tv_train_report)"
      ],
      "metadata": {
        "colab": {
          "base_uri": "https://localhost:8080/"
        },
        "id": "gbMtTaAkFTAd",
        "outputId": "e0fc6878-31e9-468c-d403-3df03e2f8053"
      },
      "id": "gbMtTaAkFTAd",
      "execution_count": null,
      "outputs": [
        {
          "output_type": "stream",
          "name": "stdout",
          "text": [
            "              precision    recall  f1-score   support\n",
            "\n",
            "           0       1.00      1.00      1.00      7605\n",
            "           1       1.00      1.00      1.00       957\n",
            "\n",
            "    accuracy                           1.00      8562\n",
            "   macro avg       1.00      1.00      1.00      8562\n",
            "weighted avg       1.00      1.00      1.00      8562\n",
            "\n"
          ]
        }
      ]
    },
    {
      "cell_type": "code",
      "source": [
        "print(mnb_tv_test_report)"
      ],
      "metadata": {
        "colab": {
          "base_uri": "https://localhost:8080/"
        },
        "id": "hO1rTj0qFVoY",
        "outputId": "f8beb0a6-b104-4ca3-912c-54ff45a8deeb"
      },
      "id": "hO1rTj0qFVoY",
      "execution_count": null,
      "outputs": [
        {
          "output_type": "stream",
          "name": "stdout",
          "text": [
            "              precision    recall  f1-score   support\n",
            "\n",
            "           0       0.90      0.97      0.93      1902\n",
            "           1       0.38      0.16      0.23       239\n",
            "\n",
            "    accuracy                           0.88      2141\n",
            "   macro avg       0.64      0.56      0.58      2141\n",
            "weighted avg       0.84      0.88      0.85      2141\n",
            "\n"
          ]
        }
      ]
    },
    {
      "cell_type": "markdown",
      "source": [
        "### SGDC Model"
      ],
      "metadata": {
        "id": "LH9uPW9VGBBp"
      },
      "id": "LH9uPW9VGBBp"
    },
    {
      "cell_type": "markdown",
      "source": [
        "#### Using CountVectorizer"
      ],
      "metadata": {
        "id": "eX6J-wZ-GDKf"
      },
      "id": "eX6J-wZ-GDKf"
    },
    {
      "cell_type": "code",
      "source": [
        "#sgdc_cv = SGDClassifier(max_iter = 10000,\n",
        "#                         tol = 1e-3,\n",
        "#                         penalty = 'l2',\n",
        "#                         loss = 'log_loss',\n",
        "#                         alpha = 0.0000001,\n",
        "#                         random_state = 117)"
      ],
      "metadata": {
        "id": "kpA82gXeUW57"
      },
      "id": "kpA82gXeUW57",
      "execution_count": null,
      "outputs": []
    },
    {
      "cell_type": "code",
      "source": [
        "#sgdc_parameters = {\n",
        "#    'alpha': (1e-1,1e-3,1e-5,1e-7,1e-9),\n",
        "#    'tol': (1e-1,1e-3,1e-5,1e-7,1e-9),\n",
        "#    'max_iter': (50,100,500,1000)\n",
        "#}"
      ],
      "metadata": {
        "id": "VljZJdywTGTM"
      },
      "id": "VljZJdywTGTM",
      "execution_count": null,
      "outputs": []
    },
    {
      "cell_type": "code",
      "source": [
        "#gs_sgdc = GridSearchCV(sgdc_cv, sgdc_parameters, cv=5)\n",
        "#gs_sgdc = gs_sgdc.fit(cv_train_X, train_y)"
      ],
      "metadata": {
        "id": "QSKubT26TfBF",
        "collapsed": true
      },
      "id": "QSKubT26TfBF",
      "execution_count": null,
      "outputs": []
    },
    {
      "cell_type": "code",
      "source": [
        "#gs_sgdc.best_score_"
      ],
      "metadata": {
        "id": "COqiAknZTq-z"
      },
      "id": "COqiAknZTq-z",
      "execution_count": null,
      "outputs": []
    },
    {
      "cell_type": "code",
      "source": [
        "#gs_sgdc.best_params_"
      ],
      "metadata": {
        "id": "PT8WhgOcTrBY"
      },
      "id": "PT8WhgOcTrBY",
      "execution_count": null,
      "outputs": []
    },
    {
      "cell_type": "code",
      "source": [
        "#param_a = gs_sgdc.best_params_['alpha']\n",
        "#param_tol = gs_sgdc.best_params_['tol']\n",
        "#param_iter = gs_sgdc.best_params_['max_iter']"
      ],
      "metadata": {
        "id": "42aR46G2UNC6"
      },
      "id": "42aR46G2UNC6",
      "execution_count": null,
      "outputs": []
    },
    {
      "cell_type": "markdown",
      "source": [
        "The grid search takes a while, so manually setting the parameters for subsequent runs"
      ],
      "metadata": {
        "id": "5DaeY32UxNcT"
      },
      "id": "5DaeY32UxNcT"
    },
    {
      "cell_type": "code",
      "source": [
        "param_a = 1e-9\n",
        "param_tol = 1e-9\n",
        "param_iter = 10000"
      ],
      "metadata": {
        "id": "3uErTYO8xMyE"
      },
      "id": "3uErTYO8xMyE",
      "execution_count": null,
      "outputs": []
    },
    {
      "cell_type": "code",
      "source": [
        "sgdc_cv = SGDClassifier(max_iter = param_iter,\n",
        "                         tol = param_tol,\n",
        "                         penalty = 'l2',\n",
        "                         loss = 'log_loss',\n",
        "                         alpha = param_a,\n",
        "                         random_state = 117)"
      ],
      "metadata": {
        "id": "CLz9L8z6PtVt"
      },
      "id": "CLz9L8z6PtVt",
      "execution_count": null,
      "outputs": []
    },
    {
      "cell_type": "code",
      "source": [
        "sgdc_cv.fit(cv_train_X, y_train)"
      ],
      "metadata": {
        "id": "8VgXu_uBRYpv",
        "colab": {
          "base_uri": "https://localhost:8080/",
          "height": 92
        },
        "outputId": "e97be6e5-ed3e-4851-a112-10b6ce8ec155"
      },
      "id": "8VgXu_uBRYpv",
      "execution_count": null,
      "outputs": [
        {
          "output_type": "execute_result",
          "data": {
            "text/plain": [
              "SGDClassifier(alpha=1e-09, loss='log_loss', max_iter=10000, random_state=117,\n",
              "              tol=1e-09)"
            ],
            "text/html": [
              "<style>#sk-container-id-3 {color: black;background-color: white;}#sk-container-id-3 pre{padding: 0;}#sk-container-id-3 div.sk-toggleable {background-color: white;}#sk-container-id-3 label.sk-toggleable__label {cursor: pointer;display: block;width: 100%;margin-bottom: 0;padding: 0.3em;box-sizing: border-box;text-align: center;}#sk-container-id-3 label.sk-toggleable__label-arrow:before {content: \"▸\";float: left;margin-right: 0.25em;color: #696969;}#sk-container-id-3 label.sk-toggleable__label-arrow:hover:before {color: black;}#sk-container-id-3 div.sk-estimator:hover label.sk-toggleable__label-arrow:before {color: black;}#sk-container-id-3 div.sk-toggleable__content {max-height: 0;max-width: 0;overflow: hidden;text-align: left;background-color: #f0f8ff;}#sk-container-id-3 div.sk-toggleable__content pre {margin: 0.2em;color: black;border-radius: 0.25em;background-color: #f0f8ff;}#sk-container-id-3 input.sk-toggleable__control:checked~div.sk-toggleable__content {max-height: 200px;max-width: 100%;overflow: auto;}#sk-container-id-3 input.sk-toggleable__control:checked~label.sk-toggleable__label-arrow:before {content: \"▾\";}#sk-container-id-3 div.sk-estimator input.sk-toggleable__control:checked~label.sk-toggleable__label {background-color: #d4ebff;}#sk-container-id-3 div.sk-label input.sk-toggleable__control:checked~label.sk-toggleable__label {background-color: #d4ebff;}#sk-container-id-3 input.sk-hidden--visually {border: 0;clip: rect(1px 1px 1px 1px);clip: rect(1px, 1px, 1px, 1px);height: 1px;margin: -1px;overflow: hidden;padding: 0;position: absolute;width: 1px;}#sk-container-id-3 div.sk-estimator {font-family: monospace;background-color: #f0f8ff;border: 1px dotted black;border-radius: 0.25em;box-sizing: border-box;margin-bottom: 0.5em;}#sk-container-id-3 div.sk-estimator:hover {background-color: #d4ebff;}#sk-container-id-3 div.sk-parallel-item::after {content: \"\";width: 100%;border-bottom: 1px solid gray;flex-grow: 1;}#sk-container-id-3 div.sk-label:hover label.sk-toggleable__label {background-color: #d4ebff;}#sk-container-id-3 div.sk-serial::before {content: \"\";position: absolute;border-left: 1px solid gray;box-sizing: border-box;top: 0;bottom: 0;left: 50%;z-index: 0;}#sk-container-id-3 div.sk-serial {display: flex;flex-direction: column;align-items: center;background-color: white;padding-right: 0.2em;padding-left: 0.2em;position: relative;}#sk-container-id-3 div.sk-item {position: relative;z-index: 1;}#sk-container-id-3 div.sk-parallel {display: flex;align-items: stretch;justify-content: center;background-color: white;position: relative;}#sk-container-id-3 div.sk-item::before, #sk-container-id-3 div.sk-parallel-item::before {content: \"\";position: absolute;border-left: 1px solid gray;box-sizing: border-box;top: 0;bottom: 0;left: 50%;z-index: -1;}#sk-container-id-3 div.sk-parallel-item {display: flex;flex-direction: column;z-index: 1;position: relative;background-color: white;}#sk-container-id-3 div.sk-parallel-item:first-child::after {align-self: flex-end;width: 50%;}#sk-container-id-3 div.sk-parallel-item:last-child::after {align-self: flex-start;width: 50%;}#sk-container-id-3 div.sk-parallel-item:only-child::after {width: 0;}#sk-container-id-3 div.sk-dashed-wrapped {border: 1px dashed gray;margin: 0 0.4em 0.5em 0.4em;box-sizing: border-box;padding-bottom: 0.4em;background-color: white;}#sk-container-id-3 div.sk-label label {font-family: monospace;font-weight: bold;display: inline-block;line-height: 1.2em;}#sk-container-id-3 div.sk-label-container {text-align: center;}#sk-container-id-3 div.sk-container {/* jupyter's `normalize.less` sets `[hidden] { display: none; }` but bootstrap.min.css set `[hidden] { display: none !important; }` so we also need the `!important` here to be able to override the default hidden behavior on the sphinx rendered scikit-learn.org. See: https://github.com/scikit-learn/scikit-learn/issues/21755 */display: inline-block !important;position: relative;}#sk-container-id-3 div.sk-text-repr-fallback {display: none;}</style><div id=\"sk-container-id-3\" class=\"sk-top-container\"><div class=\"sk-text-repr-fallback\"><pre>SGDClassifier(alpha=1e-09, loss=&#x27;log_loss&#x27;, max_iter=10000, random_state=117,\n",
              "              tol=1e-09)</pre><b>In a Jupyter environment, please rerun this cell to show the HTML representation or trust the notebook. <br />On GitHub, the HTML representation is unable to render, please try loading this page with nbviewer.org.</b></div><div class=\"sk-container\" hidden><div class=\"sk-item\"><div class=\"sk-estimator sk-toggleable\"><input class=\"sk-toggleable__control sk-hidden--visually\" id=\"sk-estimator-id-3\" type=\"checkbox\" checked><label for=\"sk-estimator-id-3\" class=\"sk-toggleable__label sk-toggleable__label-arrow\">SGDClassifier</label><div class=\"sk-toggleable__content\"><pre>SGDClassifier(alpha=1e-09, loss=&#x27;log_loss&#x27;, max_iter=10000, random_state=117,\n",
              "              tol=1e-09)</pre></div></div></div></div></div>"
            ]
          },
          "metadata": {},
          "execution_count": 63
        }
      ]
    },
    {
      "cell_type": "code",
      "source": [
        "sgdc_cv_test_predict = sgdc_cv.predict(cv_test_X)\n",
        "sgdc_cv_train_predict = sgdc_cv.predict(cv_train_X)"
      ],
      "metadata": {
        "id": "5hh7mphKRoWr"
      },
      "id": "5hh7mphKRoWr",
      "execution_count": null,
      "outputs": []
    },
    {
      "cell_type": "code",
      "source": [
        "sgdc_cv_test_report = metrics.classification_report(y_test,sgdc_cv_test_predict,labels=[0,1])\n",
        "sgdc_cv_train_report = metrics.classification_report(y_train,sgdc_cv_train_predict,labels=[0,1])"
      ],
      "metadata": {
        "id": "W6OaqERqR0qA"
      },
      "id": "W6OaqERqR0qA",
      "execution_count": null,
      "outputs": []
    },
    {
      "cell_type": "code",
      "source": [
        "print(sgdc_cv_train_report)"
      ],
      "metadata": {
        "colab": {
          "base_uri": "https://localhost:8080/"
        },
        "id": "PU594igSFiZr",
        "outputId": "b7f0a384-d108-42b6-c72a-a4e8d4215dbd"
      },
      "id": "PU594igSFiZr",
      "execution_count": null,
      "outputs": [
        {
          "output_type": "stream",
          "name": "stdout",
          "text": [
            "              precision    recall  f1-score   support\n",
            "\n",
            "           0       1.00      1.00      1.00      7605\n",
            "           1       0.98      1.00      0.99       957\n",
            "\n",
            "    accuracy                           1.00      8562\n",
            "   macro avg       0.99      1.00      0.99      8562\n",
            "weighted avg       1.00      1.00      1.00      8562\n",
            "\n"
          ]
        }
      ]
    },
    {
      "cell_type": "code",
      "source": [
        "print(sgdc_cv_test_report)"
      ],
      "metadata": {
        "colab": {
          "base_uri": "https://localhost:8080/"
        },
        "id": "SYV8AT0HFkgB",
        "outputId": "6dc33137-a2c4-4589-9100-f6e6484ac309"
      },
      "id": "SYV8AT0HFkgB",
      "execution_count": null,
      "outputs": [
        {
          "output_type": "stream",
          "name": "stdout",
          "text": [
            "              precision    recall  f1-score   support\n",
            "\n",
            "           0       0.92      0.96      0.94      1902\n",
            "           1       0.53      0.34      0.41       239\n",
            "\n",
            "    accuracy                           0.89      2141\n",
            "   macro avg       0.72      0.65      0.68      2141\n",
            "weighted avg       0.88      0.89      0.88      2141\n",
            "\n"
          ]
        }
      ]
    },
    {
      "cell_type": "markdown",
      "source": [
        "#### Using Tfidf"
      ],
      "metadata": {
        "id": "ShRSqU99UrLL"
      },
      "id": "ShRSqU99UrLL"
    },
    {
      "cell_type": "code",
      "source": [
        "#sgdc_tv = SGDClassifier(max_iter = 10000,\n",
        "#                         tol = 1e-3,\n",
        "#                         penalty = 'l2',\n",
        "#                         loss = 'log_loss',\n",
        "#                         alpha = 0.0000001,\n",
        "#                         random_state = 117)"
      ],
      "metadata": {
        "id": "MBeygNSHVBly"
      },
      "execution_count": null,
      "outputs": [],
      "id": "MBeygNSHVBly"
    },
    {
      "cell_type": "code",
      "source": [
        "#sgdc_parameters = {\n",
        "#    'alpha': (1e-1,1e-10)\n",
        "#}"
      ],
      "metadata": {
        "id": "PGT9GaBZVBl4"
      },
      "execution_count": null,
      "outputs": [],
      "id": "PGT9GaBZVBl4"
    },
    {
      "cell_type": "code",
      "source": [
        "#gs_sgdc = GridSearchCV(sgdc_tv, sgdc_parameters, cv=5)\n",
        "#gs_sgdc = gs_sgdc.fit(tv_train_X, train_y)"
      ],
      "metadata": {
        "id": "zc9UkYkLVBl4"
      },
      "execution_count": null,
      "outputs": [],
      "id": "zc9UkYkLVBl4"
    },
    {
      "cell_type": "code",
      "source": [
        "#gs_sgdc.best_score_"
      ],
      "metadata": {
        "id": "OYoCBLsXVBl4"
      },
      "execution_count": null,
      "outputs": [],
      "id": "OYoCBLsXVBl4"
    },
    {
      "cell_type": "code",
      "source": [
        "#gs_sgdc.best_params_"
      ],
      "metadata": {
        "id": "SwhhIv48VBl4"
      },
      "execution_count": null,
      "outputs": [],
      "id": "SwhhIv48VBl4"
    },
    {
      "cell_type": "code",
      "source": [
        "#param_a = gs_sgdc.best_params_['alpha']"
      ],
      "metadata": {
        "id": "SLgx8lf3VBl5"
      },
      "execution_count": null,
      "outputs": [],
      "id": "SLgx8lf3VBl5"
    },
    {
      "cell_type": "code",
      "source": [
        "sgdc_tv = SGDClassifier(max_iter = param_iter,\n",
        "                         tol = param_tol,\n",
        "                         penalty = 'l2',\n",
        "                         loss = 'log_loss',\n",
        "                         alpha = param_a,\n",
        "                         random_state = 117)"
      ],
      "metadata": {
        "id": "O0gAFeclVBl5"
      },
      "execution_count": null,
      "outputs": [],
      "id": "O0gAFeclVBl5"
    },
    {
      "cell_type": "code",
      "source": [
        "sgdc_tv.fit(tv_train_X, y_train)"
      ],
      "metadata": {
        "colab": {
          "base_uri": "https://localhost:8080/",
          "height": 92
        },
        "outputId": "b2d98a8f-a2f4-4a6a-9994-e1a6532ab63a",
        "id": "J43_CQ3sVBl5"
      },
      "execution_count": null,
      "outputs": [
        {
          "output_type": "execute_result",
          "data": {
            "text/plain": [
              "SGDClassifier(alpha=1e-09, loss='log_loss', max_iter=10000, random_state=117,\n",
              "              tol=1e-09)"
            ],
            "text/html": [
              "<style>#sk-container-id-4 {color: black;background-color: white;}#sk-container-id-4 pre{padding: 0;}#sk-container-id-4 div.sk-toggleable {background-color: white;}#sk-container-id-4 label.sk-toggleable__label {cursor: pointer;display: block;width: 100%;margin-bottom: 0;padding: 0.3em;box-sizing: border-box;text-align: center;}#sk-container-id-4 label.sk-toggleable__label-arrow:before {content: \"▸\";float: left;margin-right: 0.25em;color: #696969;}#sk-container-id-4 label.sk-toggleable__label-arrow:hover:before {color: black;}#sk-container-id-4 div.sk-estimator:hover label.sk-toggleable__label-arrow:before {color: black;}#sk-container-id-4 div.sk-toggleable__content {max-height: 0;max-width: 0;overflow: hidden;text-align: left;background-color: #f0f8ff;}#sk-container-id-4 div.sk-toggleable__content pre {margin: 0.2em;color: black;border-radius: 0.25em;background-color: #f0f8ff;}#sk-container-id-4 input.sk-toggleable__control:checked~div.sk-toggleable__content {max-height: 200px;max-width: 100%;overflow: auto;}#sk-container-id-4 input.sk-toggleable__control:checked~label.sk-toggleable__label-arrow:before {content: \"▾\";}#sk-container-id-4 div.sk-estimator input.sk-toggleable__control:checked~label.sk-toggleable__label {background-color: #d4ebff;}#sk-container-id-4 div.sk-label input.sk-toggleable__control:checked~label.sk-toggleable__label {background-color: #d4ebff;}#sk-container-id-4 input.sk-hidden--visually {border: 0;clip: rect(1px 1px 1px 1px);clip: rect(1px, 1px, 1px, 1px);height: 1px;margin: -1px;overflow: hidden;padding: 0;position: absolute;width: 1px;}#sk-container-id-4 div.sk-estimator {font-family: monospace;background-color: #f0f8ff;border: 1px dotted black;border-radius: 0.25em;box-sizing: border-box;margin-bottom: 0.5em;}#sk-container-id-4 div.sk-estimator:hover {background-color: #d4ebff;}#sk-container-id-4 div.sk-parallel-item::after {content: \"\";width: 100%;border-bottom: 1px solid gray;flex-grow: 1;}#sk-container-id-4 div.sk-label:hover label.sk-toggleable__label {background-color: #d4ebff;}#sk-container-id-4 div.sk-serial::before {content: \"\";position: absolute;border-left: 1px solid gray;box-sizing: border-box;top: 0;bottom: 0;left: 50%;z-index: 0;}#sk-container-id-4 div.sk-serial {display: flex;flex-direction: column;align-items: center;background-color: white;padding-right: 0.2em;padding-left: 0.2em;position: relative;}#sk-container-id-4 div.sk-item {position: relative;z-index: 1;}#sk-container-id-4 div.sk-parallel {display: flex;align-items: stretch;justify-content: center;background-color: white;position: relative;}#sk-container-id-4 div.sk-item::before, #sk-container-id-4 div.sk-parallel-item::before {content: \"\";position: absolute;border-left: 1px solid gray;box-sizing: border-box;top: 0;bottom: 0;left: 50%;z-index: -1;}#sk-container-id-4 div.sk-parallel-item {display: flex;flex-direction: column;z-index: 1;position: relative;background-color: white;}#sk-container-id-4 div.sk-parallel-item:first-child::after {align-self: flex-end;width: 50%;}#sk-container-id-4 div.sk-parallel-item:last-child::after {align-self: flex-start;width: 50%;}#sk-container-id-4 div.sk-parallel-item:only-child::after {width: 0;}#sk-container-id-4 div.sk-dashed-wrapped {border: 1px dashed gray;margin: 0 0.4em 0.5em 0.4em;box-sizing: border-box;padding-bottom: 0.4em;background-color: white;}#sk-container-id-4 div.sk-label label {font-family: monospace;font-weight: bold;display: inline-block;line-height: 1.2em;}#sk-container-id-4 div.sk-label-container {text-align: center;}#sk-container-id-4 div.sk-container {/* jupyter's `normalize.less` sets `[hidden] { display: none; }` but bootstrap.min.css set `[hidden] { display: none !important; }` so we also need the `!important` here to be able to override the default hidden behavior on the sphinx rendered scikit-learn.org. See: https://github.com/scikit-learn/scikit-learn/issues/21755 */display: inline-block !important;position: relative;}#sk-container-id-4 div.sk-text-repr-fallback {display: none;}</style><div id=\"sk-container-id-4\" class=\"sk-top-container\"><div class=\"sk-text-repr-fallback\"><pre>SGDClassifier(alpha=1e-09, loss=&#x27;log_loss&#x27;, max_iter=10000, random_state=117,\n",
              "              tol=1e-09)</pre><b>In a Jupyter environment, please rerun this cell to show the HTML representation or trust the notebook. <br />On GitHub, the HTML representation is unable to render, please try loading this page with nbviewer.org.</b></div><div class=\"sk-container\" hidden><div class=\"sk-item\"><div class=\"sk-estimator sk-toggleable\"><input class=\"sk-toggleable__control sk-hidden--visually\" id=\"sk-estimator-id-4\" type=\"checkbox\" checked><label for=\"sk-estimator-id-4\" class=\"sk-toggleable__label sk-toggleable__label-arrow\">SGDClassifier</label><div class=\"sk-toggleable__content\"><pre>SGDClassifier(alpha=1e-09, loss=&#x27;log_loss&#x27;, max_iter=10000, random_state=117,\n",
              "              tol=1e-09)</pre></div></div></div></div></div>"
            ]
          },
          "metadata": {},
          "execution_count": 75
        }
      ],
      "id": "J43_CQ3sVBl5"
    },
    {
      "cell_type": "code",
      "source": [
        "sgdc_tv_test_predict = sgdc_tv.predict(tv_test_X)\n",
        "sgdc_tv_train_predict = sgdc_tv.predict(tv_train_X)"
      ],
      "metadata": {
        "id": "MQ8UjfcPVBl5"
      },
      "execution_count": null,
      "outputs": [],
      "id": "MQ8UjfcPVBl5"
    },
    {
      "cell_type": "code",
      "source": [
        "sgdc_tv_test_report = metrics.classification_report(y_test,sgdc_tv_test_predict,labels=[0,1])\n",
        "sgdc_tv_train_report = metrics.classification_report(y_train,sgdc_tv_train_predict,labels=[0,1])"
      ],
      "metadata": {
        "id": "9uc9c_zvVBl5"
      },
      "execution_count": null,
      "outputs": [],
      "id": "9uc9c_zvVBl5"
    },
    {
      "cell_type": "code",
      "source": [
        "print(sgdc_tv_train_report)"
      ],
      "metadata": {
        "colab": {
          "base_uri": "https://localhost:8080/"
        },
        "outputId": "52d8685b-bbc4-4205-b9cd-f9cab69d0318",
        "id": "WG5VfyIMVBl5"
      },
      "execution_count": null,
      "outputs": [
        {
          "output_type": "stream",
          "name": "stdout",
          "text": [
            "              precision    recall  f1-score   support\n",
            "\n",
            "           0       1.00      1.00      1.00      7605\n",
            "           1       0.99      1.00      1.00       957\n",
            "\n",
            "    accuracy                           1.00      8562\n",
            "   macro avg       1.00      1.00      1.00      8562\n",
            "weighted avg       1.00      1.00      1.00      8562\n",
            "\n"
          ]
        }
      ],
      "id": "WG5VfyIMVBl5"
    },
    {
      "cell_type": "code",
      "source": [
        "print(sgdc_tv_test_report)"
      ],
      "metadata": {
        "colab": {
          "base_uri": "https://localhost:8080/"
        },
        "outputId": "b7eba5da-7699-41a0-899c-22522173b0c0",
        "id": "t3fJkGvzVBl5"
      },
      "execution_count": null,
      "outputs": [
        {
          "output_type": "stream",
          "name": "stdout",
          "text": [
            "              precision    recall  f1-score   support\n",
            "\n",
            "           0       0.93      0.92      0.93      1902\n",
            "           1       0.41      0.43      0.42       239\n",
            "\n",
            "    accuracy                           0.87      2141\n",
            "   macro avg       0.67      0.68      0.67      2141\n",
            "weighted avg       0.87      0.87      0.87      2141\n",
            "\n"
          ]
        }
      ],
      "id": "t3fJkGvzVBl5"
    },
    {
      "cell_type": "markdown",
      "source": [
        "### SVC"
      ],
      "metadata": {
        "id": "sho3NvvGWaAi"
      },
      "id": "sho3NvvGWaAi"
    },
    {
      "cell_type": "code",
      "source": [
        "#svc = LinearSVC(fit_intercept=True,\n",
        "#                random_state = 117,\n",
        "#                max_iter = 10000,\n",
        "#                penalty = 'l2')"
      ],
      "metadata": {
        "id": "jA9WYu2knBrA"
      },
      "execution_count": null,
      "outputs": [],
      "id": "jA9WYu2knBrA"
    },
    {
      "cell_type": "markdown",
      "source": [
        "Uses grid search to tune hyperparameter value(s)"
      ],
      "metadata": {
        "id": "BJZ6XOmYnBrA"
      },
      "id": "BJZ6XOmYnBrA"
    },
    {
      "cell_type": "code",
      "source": [
        "#svc_parameters = {\n",
        "#    'tol': (1e-1,1e-8),\n",
        "#    'C': [0.5,1,1.5,5],\n",
        "#    'intercept_scaling': [1, 5, 10]\n",
        "#}"
      ],
      "metadata": {
        "id": "RVcmRoJTnBrA"
      },
      "execution_count": null,
      "outputs": [],
      "id": "RVcmRoJTnBrA"
    },
    {
      "cell_type": "code",
      "source": [
        "#gs_svc = GridSearchCV(svc, svc_parameters, cv=5)"
      ],
      "metadata": {
        "id": "LcY5IgMZnBrB"
      },
      "execution_count": null,
      "outputs": [],
      "id": "LcY5IgMZnBrB"
    },
    {
      "cell_type": "code",
      "source": [
        "#gs_svc = gs_svc.fit(cv_train_X, train_y)"
      ],
      "metadata": {
        "id": "XPVMOg5nnBrB",
        "collapsed": true
      },
      "execution_count": null,
      "outputs": [],
      "id": "XPVMOg5nnBrB"
    },
    {
      "cell_type": "code",
      "source": [
        "#gs_svc.best_score_"
      ],
      "metadata": {
        "id": "8IVuYXdCnBrB"
      },
      "execution_count": null,
      "outputs": [],
      "id": "8IVuYXdCnBrB"
    },
    {
      "cell_type": "code",
      "source": [
        "#gs_svc.best_params_"
      ],
      "metadata": {
        "id": "qvg_v882nBrB"
      },
      "execution_count": null,
      "outputs": [],
      "id": "qvg_v882nBrB"
    },
    {
      "cell_type": "code",
      "source": [
        "#param_tol = gs_svc.best_params_['tol']\n",
        "#param_c = gs_svc.best_params_['C']\n",
        "#param_int = gs_svc.best_params_['intercept_scaling']"
      ],
      "metadata": {
        "id": "V7780lcdnBrB"
      },
      "execution_count": null,
      "outputs": [],
      "id": "V7780lcdnBrB"
    },
    {
      "cell_type": "code",
      "source": [
        "param_tol = 1e-8\n",
        "param_c = 1\n",
        "param_int = 1"
      ],
      "metadata": {
        "id": "Vld18gUayBH7"
      },
      "id": "Vld18gUayBH7",
      "execution_count": null,
      "outputs": []
    },
    {
      "cell_type": "code",
      "source": [
        "svc = LinearSVC(fit_intercept=True,\n",
        "                random_state = 117,\n",
        "                max_iter = 10000,\n",
        "                penalty = 'l2',\n",
        "                C = param_c,\n",
        "                tol = param_tol,\n",
        "                intercept_scaling = param_int)"
      ],
      "metadata": {
        "id": "v8DKLOX4r5_t"
      },
      "id": "v8DKLOX4r5_t",
      "execution_count": null,
      "outputs": []
    },
    {
      "cell_type": "markdown",
      "source": [
        "Creates model using best value for alpha"
      ],
      "metadata": {
        "id": "kzzbqbYVnBrB"
      },
      "id": "kzzbqbYVnBrB"
    },
    {
      "cell_type": "code",
      "source": [
        "svc.fit(cv_train_X, y_train)"
      ],
      "metadata": {
        "colab": {
          "base_uri": "https://localhost:8080/",
          "height": 75
        },
        "outputId": "a66a1827-48cc-48e9-a008-46d578eb1737",
        "id": "Q6-tQjwAnBrB"
      },
      "execution_count": null,
      "outputs": [
        {
          "output_type": "execute_result",
          "data": {
            "text/plain": [
              "LinearSVC(C=1, max_iter=10000, random_state=117, tol=1e-08)"
            ],
            "text/html": [
              "<style>#sk-container-id-5 {color: black;background-color: white;}#sk-container-id-5 pre{padding: 0;}#sk-container-id-5 div.sk-toggleable {background-color: white;}#sk-container-id-5 label.sk-toggleable__label {cursor: pointer;display: block;width: 100%;margin-bottom: 0;padding: 0.3em;box-sizing: border-box;text-align: center;}#sk-container-id-5 label.sk-toggleable__label-arrow:before {content: \"▸\";float: left;margin-right: 0.25em;color: #696969;}#sk-container-id-5 label.sk-toggleable__label-arrow:hover:before {color: black;}#sk-container-id-5 div.sk-estimator:hover label.sk-toggleable__label-arrow:before {color: black;}#sk-container-id-5 div.sk-toggleable__content {max-height: 0;max-width: 0;overflow: hidden;text-align: left;background-color: #f0f8ff;}#sk-container-id-5 div.sk-toggleable__content pre {margin: 0.2em;color: black;border-radius: 0.25em;background-color: #f0f8ff;}#sk-container-id-5 input.sk-toggleable__control:checked~div.sk-toggleable__content {max-height: 200px;max-width: 100%;overflow: auto;}#sk-container-id-5 input.sk-toggleable__control:checked~label.sk-toggleable__label-arrow:before {content: \"▾\";}#sk-container-id-5 div.sk-estimator input.sk-toggleable__control:checked~label.sk-toggleable__label {background-color: #d4ebff;}#sk-container-id-5 div.sk-label input.sk-toggleable__control:checked~label.sk-toggleable__label {background-color: #d4ebff;}#sk-container-id-5 input.sk-hidden--visually {border: 0;clip: rect(1px 1px 1px 1px);clip: rect(1px, 1px, 1px, 1px);height: 1px;margin: -1px;overflow: hidden;padding: 0;position: absolute;width: 1px;}#sk-container-id-5 div.sk-estimator {font-family: monospace;background-color: #f0f8ff;border: 1px dotted black;border-radius: 0.25em;box-sizing: border-box;margin-bottom: 0.5em;}#sk-container-id-5 div.sk-estimator:hover {background-color: #d4ebff;}#sk-container-id-5 div.sk-parallel-item::after {content: \"\";width: 100%;border-bottom: 1px solid gray;flex-grow: 1;}#sk-container-id-5 div.sk-label:hover label.sk-toggleable__label {background-color: #d4ebff;}#sk-container-id-5 div.sk-serial::before {content: \"\";position: absolute;border-left: 1px solid gray;box-sizing: border-box;top: 0;bottom: 0;left: 50%;z-index: 0;}#sk-container-id-5 div.sk-serial {display: flex;flex-direction: column;align-items: center;background-color: white;padding-right: 0.2em;padding-left: 0.2em;position: relative;}#sk-container-id-5 div.sk-item {position: relative;z-index: 1;}#sk-container-id-5 div.sk-parallel {display: flex;align-items: stretch;justify-content: center;background-color: white;position: relative;}#sk-container-id-5 div.sk-item::before, #sk-container-id-5 div.sk-parallel-item::before {content: \"\";position: absolute;border-left: 1px solid gray;box-sizing: border-box;top: 0;bottom: 0;left: 50%;z-index: -1;}#sk-container-id-5 div.sk-parallel-item {display: flex;flex-direction: column;z-index: 1;position: relative;background-color: white;}#sk-container-id-5 div.sk-parallel-item:first-child::after {align-self: flex-end;width: 50%;}#sk-container-id-5 div.sk-parallel-item:last-child::after {align-self: flex-start;width: 50%;}#sk-container-id-5 div.sk-parallel-item:only-child::after {width: 0;}#sk-container-id-5 div.sk-dashed-wrapped {border: 1px dashed gray;margin: 0 0.4em 0.5em 0.4em;box-sizing: border-box;padding-bottom: 0.4em;background-color: white;}#sk-container-id-5 div.sk-label label {font-family: monospace;font-weight: bold;display: inline-block;line-height: 1.2em;}#sk-container-id-5 div.sk-label-container {text-align: center;}#sk-container-id-5 div.sk-container {/* jupyter's `normalize.less` sets `[hidden] { display: none; }` but bootstrap.min.css set `[hidden] { display: none !important; }` so we also need the `!important` here to be able to override the default hidden behavior on the sphinx rendered scikit-learn.org. See: https://github.com/scikit-learn/scikit-learn/issues/21755 */display: inline-block !important;position: relative;}#sk-container-id-5 div.sk-text-repr-fallback {display: none;}</style><div id=\"sk-container-id-5\" class=\"sk-top-container\"><div class=\"sk-text-repr-fallback\"><pre>LinearSVC(C=1, max_iter=10000, random_state=117, tol=1e-08)</pre><b>In a Jupyter environment, please rerun this cell to show the HTML representation or trust the notebook. <br />On GitHub, the HTML representation is unable to render, please try loading this page with nbviewer.org.</b></div><div class=\"sk-container\" hidden><div class=\"sk-item\"><div class=\"sk-estimator sk-toggleable\"><input class=\"sk-toggleable__control sk-hidden--visually\" id=\"sk-estimator-id-5\" type=\"checkbox\" checked><label for=\"sk-estimator-id-5\" class=\"sk-toggleable__label sk-toggleable__label-arrow\">LinearSVC</label><div class=\"sk-toggleable__content\"><pre>LinearSVC(C=1, max_iter=10000, random_state=117, tol=1e-08)</pre></div></div></div></div></div>"
            ]
          },
          "metadata": {},
          "execution_count": 89
        }
      ],
      "id": "Q6-tQjwAnBrB"
    },
    {
      "cell_type": "markdown",
      "source": [
        "Predicts labels on train/test data"
      ],
      "metadata": {
        "id": "rsCzDi7FnBrB"
      },
      "id": "rsCzDi7FnBrB"
    },
    {
      "cell_type": "code",
      "source": [
        "svc_test_predict = svc.predict(cv_test_X)\n",
        "svc_train_predict = svc.predict(cv_train_X)\n",
        "np.mean(svc_test_predict == y_test) # % correct predictions on test data"
      ],
      "metadata": {
        "id": "CJ7ZHR_nnBrB",
        "colab": {
          "base_uri": "https://localhost:8080/"
        },
        "outputId": "17b9bb26-4bae-44bc-a15c-4a36db236fc2"
      },
      "execution_count": null,
      "outputs": [
        {
          "output_type": "execute_result",
          "data": {
            "text/plain": [
              "0.9047174217655302"
            ]
          },
          "metadata": {},
          "execution_count": 90
        }
      ],
      "id": "CJ7ZHR_nnBrB"
    },
    {
      "cell_type": "code",
      "source": [
        "svc_test_report = metrics.classification_report(y_test,svc_test_predict,labels=[0,1])\n",
        "svc_train_report = metrics.classification_report(y_train,svc_train_predict,labels=[0,1])"
      ],
      "metadata": {
        "id": "FO6JlIjCnBrC"
      },
      "execution_count": null,
      "outputs": [],
      "id": "FO6JlIjCnBrC"
    },
    {
      "cell_type": "code",
      "source": [
        "print(svc_train_report)"
      ],
      "metadata": {
        "colab": {
          "base_uri": "https://localhost:8080/"
        },
        "outputId": "5bf49b70-5946-4646-d4cb-4fa1f4304a7c",
        "id": "tRaQfqdFnBrC"
      },
      "execution_count": null,
      "outputs": [
        {
          "output_type": "stream",
          "name": "stdout",
          "text": [
            "              precision    recall  f1-score   support\n",
            "\n",
            "           0       1.00      1.00      1.00      7605\n",
            "           1       1.00      1.00      1.00       957\n",
            "\n",
            "    accuracy                           1.00      8562\n",
            "   macro avg       1.00      1.00      1.00      8562\n",
            "weighted avg       1.00      1.00      1.00      8562\n",
            "\n"
          ]
        }
      ],
      "id": "tRaQfqdFnBrC"
    },
    {
      "cell_type": "code",
      "source": [
        "print(svc_test_report)"
      ],
      "metadata": {
        "colab": {
          "base_uri": "https://localhost:8080/"
        },
        "outputId": "385443f9-e633-43e6-9e52-f7c3c2c21dfb",
        "id": "6AJvdfo3nBrC"
      },
      "execution_count": null,
      "outputs": [
        {
          "output_type": "stream",
          "name": "stdout",
          "text": [
            "              precision    recall  f1-score   support\n",
            "\n",
            "           0       0.92      0.98      0.95      1902\n",
            "           1       0.68      0.28      0.39       239\n",
            "\n",
            "    accuracy                           0.90      2141\n",
            "   macro avg       0.80      0.63      0.67      2141\n",
            "weighted avg       0.89      0.90      0.89      2141\n",
            "\n"
          ]
        }
      ],
      "id": "6AJvdfo3nBrC"
    },
    {
      "cell_type": "markdown",
      "source": [
        "### Logistic Regression (Intial tests)"
      ],
      "metadata": {
        "id": "9EVu8HKFu3ge"
      },
      "id": "9EVu8HKFu3ge"
    },
    {
      "cell_type": "markdown",
      "source": [
        "#### Count Vectorizer"
      ],
      "metadata": {
        "id": "PdEO6HYR8rMw"
      },
      "id": "PdEO6HYR8rMw"
    },
    {
      "cell_type": "code",
      "source": [
        "#lr = LogisticRegression()\n",
        "#lr = LogisticRegression(penalty='l2', max_iter=1000, C=1, random_state=117)"
      ],
      "metadata": {
        "id": "TPRLS6Onu56g"
      },
      "execution_count": null,
      "outputs": [],
      "id": "TPRLS6Onu56g"
    },
    {
      "cell_type": "code",
      "source": [
        "#lr_parameters = {\n",
        "#    'penalty': ('l1','l2','elasticnet'),\n",
        "#    'tol': (1e-1,1e-3,1e-5,1e-7),\n",
        "#    #'C': (0.5,1,5,10),\n",
        "#    #'max_iter': (50,100, 500, 1000)\n",
        "#}"
      ],
      "metadata": {
        "id": "nxCF0b5xu56g"
      },
      "execution_count": null,
      "outputs": [],
      "id": "nxCF0b5xu56g"
    },
    {
      "cell_type": "code",
      "source": [
        "#gs_lr = GridSearchCV(lr, lr_parameters, cv=5)\n",
        "#gs_lr = gs_lr.fit(cv_train_X, train_y)"
      ],
      "metadata": {
        "id": "JEtkeqcxu56g"
      },
      "execution_count": null,
      "outputs": [],
      "id": "JEtkeqcxu56g"
    },
    {
      "cell_type": "code",
      "source": [
        "#gs_lr.best_score_"
      ],
      "metadata": {
        "id": "VQpU28GJu56g"
      },
      "execution_count": null,
      "outputs": [],
      "id": "VQpU28GJu56g"
    },
    {
      "cell_type": "code",
      "source": [
        "#gs_lr.best_params_"
      ],
      "metadata": {
        "id": "EdTpkCHcu56g"
      },
      "execution_count": null,
      "outputs": [],
      "id": "EdTpkCHcu56g"
    },
    {
      "cell_type": "code",
      "source": [
        "#param_pen = gs_sgdc.best_params_['penalty']\n",
        "#param_tol = gs_sgdc.best_params_['tol']\n",
        "#param_c = gs_sgdc.best_params_['C']\n",
        "#param_iter = gs_sgdc.best_params_['max_iter']"
      ],
      "metadata": {
        "id": "1iBkm44fu56g"
      },
      "execution_count": null,
      "outputs": [],
      "id": "1iBkm44fu56g"
    },
    {
      "cell_type": "code",
      "source": [
        "param_pen = 'l1'\n",
        "param_tol = 1e-10\n",
        "param_c = 1\n",
        "param_iter = 10000"
      ],
      "metadata": {
        "id": "QOHZnCrS78lj"
      },
      "id": "QOHZnCrS78lj",
      "execution_count": null,
      "outputs": []
    },
    {
      "cell_type": "code",
      "source": [
        "lr = LogisticRegression(max_iter = param_iter,\n",
        "                        tol = param_tol,\n",
        "                         penalty = param_pen,\n",
        "                         C = param_c,\n",
        "                         solver = 'liblinear',\n",
        "                         random_state = 117)"
      ],
      "metadata": {
        "id": "lRsOxoCWu56g"
      },
      "execution_count": null,
      "outputs": [],
      "id": "lRsOxoCWu56g"
    },
    {
      "cell_type": "code",
      "source": [
        "lr.fit(cv_train_X, y_train)"
      ],
      "metadata": {
        "colab": {
          "base_uri": "https://localhost:8080/",
          "height": 127
        },
        "outputId": "591a330e-a265-47d5-87c0-1fac3b0fd791",
        "id": "xr6idCbFu56g"
      },
      "execution_count": null,
      "outputs": [
        {
          "output_type": "stream",
          "name": "stderr",
          "text": [
            "/usr/local/lib/python3.10/dist-packages/sklearn/svm/_base.py:1244: ConvergenceWarning: Liblinear failed to converge, increase the number of iterations.\n",
            "  warnings.warn(\n"
          ]
        },
        {
          "output_type": "execute_result",
          "data": {
            "text/plain": [
              "LogisticRegression(C=1, max_iter=10000, penalty='l1', random_state=117,\n",
              "                   solver='liblinear', tol=1e-10)"
            ],
            "text/html": [
              "<style>#sk-container-id-6 {color: black;background-color: white;}#sk-container-id-6 pre{padding: 0;}#sk-container-id-6 div.sk-toggleable {background-color: white;}#sk-container-id-6 label.sk-toggleable__label {cursor: pointer;display: block;width: 100%;margin-bottom: 0;padding: 0.3em;box-sizing: border-box;text-align: center;}#sk-container-id-6 label.sk-toggleable__label-arrow:before {content: \"▸\";float: left;margin-right: 0.25em;color: #696969;}#sk-container-id-6 label.sk-toggleable__label-arrow:hover:before {color: black;}#sk-container-id-6 div.sk-estimator:hover label.sk-toggleable__label-arrow:before {color: black;}#sk-container-id-6 div.sk-toggleable__content {max-height: 0;max-width: 0;overflow: hidden;text-align: left;background-color: #f0f8ff;}#sk-container-id-6 div.sk-toggleable__content pre {margin: 0.2em;color: black;border-radius: 0.25em;background-color: #f0f8ff;}#sk-container-id-6 input.sk-toggleable__control:checked~div.sk-toggleable__content {max-height: 200px;max-width: 100%;overflow: auto;}#sk-container-id-6 input.sk-toggleable__control:checked~label.sk-toggleable__label-arrow:before {content: \"▾\";}#sk-container-id-6 div.sk-estimator input.sk-toggleable__control:checked~label.sk-toggleable__label {background-color: #d4ebff;}#sk-container-id-6 div.sk-label input.sk-toggleable__control:checked~label.sk-toggleable__label {background-color: #d4ebff;}#sk-container-id-6 input.sk-hidden--visually {border: 0;clip: rect(1px 1px 1px 1px);clip: rect(1px, 1px, 1px, 1px);height: 1px;margin: -1px;overflow: hidden;padding: 0;position: absolute;width: 1px;}#sk-container-id-6 div.sk-estimator {font-family: monospace;background-color: #f0f8ff;border: 1px dotted black;border-radius: 0.25em;box-sizing: border-box;margin-bottom: 0.5em;}#sk-container-id-6 div.sk-estimator:hover {background-color: #d4ebff;}#sk-container-id-6 div.sk-parallel-item::after {content: \"\";width: 100%;border-bottom: 1px solid gray;flex-grow: 1;}#sk-container-id-6 div.sk-label:hover label.sk-toggleable__label {background-color: #d4ebff;}#sk-container-id-6 div.sk-serial::before {content: \"\";position: absolute;border-left: 1px solid gray;box-sizing: border-box;top: 0;bottom: 0;left: 50%;z-index: 0;}#sk-container-id-6 div.sk-serial {display: flex;flex-direction: column;align-items: center;background-color: white;padding-right: 0.2em;padding-left: 0.2em;position: relative;}#sk-container-id-6 div.sk-item {position: relative;z-index: 1;}#sk-container-id-6 div.sk-parallel {display: flex;align-items: stretch;justify-content: center;background-color: white;position: relative;}#sk-container-id-6 div.sk-item::before, #sk-container-id-6 div.sk-parallel-item::before {content: \"\";position: absolute;border-left: 1px solid gray;box-sizing: border-box;top: 0;bottom: 0;left: 50%;z-index: -1;}#sk-container-id-6 div.sk-parallel-item {display: flex;flex-direction: column;z-index: 1;position: relative;background-color: white;}#sk-container-id-6 div.sk-parallel-item:first-child::after {align-self: flex-end;width: 50%;}#sk-container-id-6 div.sk-parallel-item:last-child::after {align-self: flex-start;width: 50%;}#sk-container-id-6 div.sk-parallel-item:only-child::after {width: 0;}#sk-container-id-6 div.sk-dashed-wrapped {border: 1px dashed gray;margin: 0 0.4em 0.5em 0.4em;box-sizing: border-box;padding-bottom: 0.4em;background-color: white;}#sk-container-id-6 div.sk-label label {font-family: monospace;font-weight: bold;display: inline-block;line-height: 1.2em;}#sk-container-id-6 div.sk-label-container {text-align: center;}#sk-container-id-6 div.sk-container {/* jupyter's `normalize.less` sets `[hidden] { display: none; }` but bootstrap.min.css set `[hidden] { display: none !important; }` so we also need the `!important` here to be able to override the default hidden behavior on the sphinx rendered scikit-learn.org. See: https://github.com/scikit-learn/scikit-learn/issues/21755 */display: inline-block !important;position: relative;}#sk-container-id-6 div.sk-text-repr-fallback {display: none;}</style><div id=\"sk-container-id-6\" class=\"sk-top-container\"><div class=\"sk-text-repr-fallback\"><pre>LogisticRegression(C=1, max_iter=10000, penalty=&#x27;l1&#x27;, random_state=117,\n",
              "                   solver=&#x27;liblinear&#x27;, tol=1e-10)</pre><b>In a Jupyter environment, please rerun this cell to show the HTML representation or trust the notebook. <br />On GitHub, the HTML representation is unable to render, please try loading this page with nbviewer.org.</b></div><div class=\"sk-container\" hidden><div class=\"sk-item\"><div class=\"sk-estimator sk-toggleable\"><input class=\"sk-toggleable__control sk-hidden--visually\" id=\"sk-estimator-id-6\" type=\"checkbox\" checked><label for=\"sk-estimator-id-6\" class=\"sk-toggleable__label sk-toggleable__label-arrow\">LogisticRegression</label><div class=\"sk-toggleable__content\"><pre>LogisticRegression(C=1, max_iter=10000, penalty=&#x27;l1&#x27;, random_state=117,\n",
              "                   solver=&#x27;liblinear&#x27;, tol=1e-10)</pre></div></div></div></div></div>"
            ]
          },
          "metadata": {},
          "execution_count": 102
        }
      ],
      "id": "xr6idCbFu56g"
    },
    {
      "cell_type": "code",
      "source": [
        "lr_test_predict = lr.predict(cv_test_X)"
      ],
      "metadata": {
        "id": "etjOTpXAu56h"
      },
      "execution_count": null,
      "outputs": [],
      "id": "etjOTpXAu56h"
    },
    {
      "cell_type": "code",
      "source": [
        "lr_test_report = metrics.classification_report(y_test,lr_test_predict,labels=[0,1])"
      ],
      "metadata": {
        "id": "nggu1i2uu56h"
      },
      "execution_count": null,
      "outputs": [],
      "id": "nggu1i2uu56h"
    },
    {
      "cell_type": "code",
      "source": [
        "print(lr_test_report)"
      ],
      "metadata": {
        "colab": {
          "base_uri": "https://localhost:8080/"
        },
        "outputId": "6f4e2fdf-233e-4c1c-e55d-2996795aa1ab",
        "id": "5kvuP4Wju56h"
      },
      "execution_count": null,
      "outputs": [
        {
          "output_type": "stream",
          "name": "stdout",
          "text": [
            "              precision    recall  f1-score   support\n",
            "\n",
            "           0       0.92      0.98      0.95      1902\n",
            "           1       0.65      0.30      0.41       239\n",
            "\n",
            "    accuracy                           0.90      2141\n",
            "   macro avg       0.78      0.64      0.68      2141\n",
            "weighted avg       0.89      0.90      0.89      2141\n",
            "\n"
          ]
        }
      ],
      "id": "5kvuP4Wju56h"
    },
    {
      "cell_type": "markdown",
      "source": [
        "#### Tfidf"
      ],
      "metadata": {
        "id": "EZr5LPQH8m3V"
      },
      "id": "EZr5LPQH8m3V"
    },
    {
      "cell_type": "code",
      "source": [
        "lr_tf = LogisticRegression(max_iter = 10000,\n",
        "                         tol = 1e-10,\n",
        "                         penalty = 'l2',\n",
        "                         C = 1,\n",
        "                         random_state = 117)"
      ],
      "metadata": {
        "id": "R0JJZXXI9fFI"
      },
      "id": "R0JJZXXI9fFI",
      "execution_count": null,
      "outputs": []
    },
    {
      "cell_type": "code",
      "source": [
        "lr_tf.fit(tv_train_X, y_train)"
      ],
      "metadata": {
        "colab": {
          "base_uri": "https://localhost:8080/",
          "height": 75
        },
        "id": "ae0pr7Ce9jCs",
        "outputId": "5df25ca6-1b04-4b5d-de27-79fca5348515"
      },
      "id": "ae0pr7Ce9jCs",
      "execution_count": null,
      "outputs": [
        {
          "output_type": "execute_result",
          "data": {
            "text/plain": [
              "LogisticRegression(C=1, max_iter=10000, random_state=117, tol=1e-10)"
            ],
            "text/html": [
              "<style>#sk-container-id-7 {color: black;background-color: white;}#sk-container-id-7 pre{padding: 0;}#sk-container-id-7 div.sk-toggleable {background-color: white;}#sk-container-id-7 label.sk-toggleable__label {cursor: pointer;display: block;width: 100%;margin-bottom: 0;padding: 0.3em;box-sizing: border-box;text-align: center;}#sk-container-id-7 label.sk-toggleable__label-arrow:before {content: \"▸\";float: left;margin-right: 0.25em;color: #696969;}#sk-container-id-7 label.sk-toggleable__label-arrow:hover:before {color: black;}#sk-container-id-7 div.sk-estimator:hover label.sk-toggleable__label-arrow:before {color: black;}#sk-container-id-7 div.sk-toggleable__content {max-height: 0;max-width: 0;overflow: hidden;text-align: left;background-color: #f0f8ff;}#sk-container-id-7 div.sk-toggleable__content pre {margin: 0.2em;color: black;border-radius: 0.25em;background-color: #f0f8ff;}#sk-container-id-7 input.sk-toggleable__control:checked~div.sk-toggleable__content {max-height: 200px;max-width: 100%;overflow: auto;}#sk-container-id-7 input.sk-toggleable__control:checked~label.sk-toggleable__label-arrow:before {content: \"▾\";}#sk-container-id-7 div.sk-estimator input.sk-toggleable__control:checked~label.sk-toggleable__label {background-color: #d4ebff;}#sk-container-id-7 div.sk-label input.sk-toggleable__control:checked~label.sk-toggleable__label {background-color: #d4ebff;}#sk-container-id-7 input.sk-hidden--visually {border: 0;clip: rect(1px 1px 1px 1px);clip: rect(1px, 1px, 1px, 1px);height: 1px;margin: -1px;overflow: hidden;padding: 0;position: absolute;width: 1px;}#sk-container-id-7 div.sk-estimator {font-family: monospace;background-color: #f0f8ff;border: 1px dotted black;border-radius: 0.25em;box-sizing: border-box;margin-bottom: 0.5em;}#sk-container-id-7 div.sk-estimator:hover {background-color: #d4ebff;}#sk-container-id-7 div.sk-parallel-item::after {content: \"\";width: 100%;border-bottom: 1px solid gray;flex-grow: 1;}#sk-container-id-7 div.sk-label:hover label.sk-toggleable__label {background-color: #d4ebff;}#sk-container-id-7 div.sk-serial::before {content: \"\";position: absolute;border-left: 1px solid gray;box-sizing: border-box;top: 0;bottom: 0;left: 50%;z-index: 0;}#sk-container-id-7 div.sk-serial {display: flex;flex-direction: column;align-items: center;background-color: white;padding-right: 0.2em;padding-left: 0.2em;position: relative;}#sk-container-id-7 div.sk-item {position: relative;z-index: 1;}#sk-container-id-7 div.sk-parallel {display: flex;align-items: stretch;justify-content: center;background-color: white;position: relative;}#sk-container-id-7 div.sk-item::before, #sk-container-id-7 div.sk-parallel-item::before {content: \"\";position: absolute;border-left: 1px solid gray;box-sizing: border-box;top: 0;bottom: 0;left: 50%;z-index: -1;}#sk-container-id-7 div.sk-parallel-item {display: flex;flex-direction: column;z-index: 1;position: relative;background-color: white;}#sk-container-id-7 div.sk-parallel-item:first-child::after {align-self: flex-end;width: 50%;}#sk-container-id-7 div.sk-parallel-item:last-child::after {align-self: flex-start;width: 50%;}#sk-container-id-7 div.sk-parallel-item:only-child::after {width: 0;}#sk-container-id-7 div.sk-dashed-wrapped {border: 1px dashed gray;margin: 0 0.4em 0.5em 0.4em;box-sizing: border-box;padding-bottom: 0.4em;background-color: white;}#sk-container-id-7 div.sk-label label {font-family: monospace;font-weight: bold;display: inline-block;line-height: 1.2em;}#sk-container-id-7 div.sk-label-container {text-align: center;}#sk-container-id-7 div.sk-container {/* jupyter's `normalize.less` sets `[hidden] { display: none; }` but bootstrap.min.css set `[hidden] { display: none !important; }` so we also need the `!important` here to be able to override the default hidden behavior on the sphinx rendered scikit-learn.org. See: https://github.com/scikit-learn/scikit-learn/issues/21755 */display: inline-block !important;position: relative;}#sk-container-id-7 div.sk-text-repr-fallback {display: none;}</style><div id=\"sk-container-id-7\" class=\"sk-top-container\"><div class=\"sk-text-repr-fallback\"><pre>LogisticRegression(C=1, max_iter=10000, random_state=117, tol=1e-10)</pre><b>In a Jupyter environment, please rerun this cell to show the HTML representation or trust the notebook. <br />On GitHub, the HTML representation is unable to render, please try loading this page with nbviewer.org.</b></div><div class=\"sk-container\" hidden><div class=\"sk-item\"><div class=\"sk-estimator sk-toggleable\"><input class=\"sk-toggleable__control sk-hidden--visually\" id=\"sk-estimator-id-7\" type=\"checkbox\" checked><label for=\"sk-estimator-id-7\" class=\"sk-toggleable__label sk-toggleable__label-arrow\">LogisticRegression</label><div class=\"sk-toggleable__content\"><pre>LogisticRegression(C=1, max_iter=10000, random_state=117, tol=1e-10)</pre></div></div></div></div></div>"
            ]
          },
          "metadata": {},
          "execution_count": 107
        }
      ]
    },
    {
      "cell_type": "code",
      "source": [
        "lr_tf_test_predict = lr_tf.predict(tv_test_X)"
      ],
      "metadata": {
        "id": "QSrHXVs4-Exc"
      },
      "execution_count": null,
      "outputs": [],
      "id": "QSrHXVs4-Exc"
    },
    {
      "cell_type": "code",
      "source": [
        "lr_tf_test_report = metrics.classification_report(y_test,lr_tf_test_predict,labels=[0,1])"
      ],
      "metadata": {
        "id": "B-afFDBJ-Exd"
      },
      "execution_count": null,
      "outputs": [],
      "id": "B-afFDBJ-Exd"
    },
    {
      "cell_type": "code",
      "source": [
        "print(lr_tf_test_report)"
      ],
      "metadata": {
        "colab": {
          "base_uri": "https://localhost:8080/"
        },
        "outputId": "0a4b5c56-0f13-47c0-f980-46032857ea66",
        "id": "VIg2iUco-Exd"
      },
      "execution_count": null,
      "outputs": [
        {
          "output_type": "stream",
          "name": "stdout",
          "text": [
            "              precision    recall  f1-score   support\n",
            "\n",
            "           0       0.89      1.00      0.94      1902\n",
            "           1       0.43      0.01      0.02       239\n",
            "\n",
            "    accuracy                           0.89      2141\n",
            "   macro avg       0.66      0.51      0.48      2141\n",
            "weighted avg       0.84      0.89      0.84      2141\n",
            "\n"
          ]
        }
      ],
      "id": "VIg2iUco-Exd"
    },
    {
      "cell_type": "markdown",
      "source": [
        "### Logistic Regression (Further Investigation)"
      ],
      "metadata": {
        "id": "NaZQcfbkGPF3"
      },
      "id": "NaZQcfbkGPF3"
    },
    {
      "cell_type": "markdown",
      "source": [
        "After seeing favorable results with the logistic regression model, we spent more time investigating this model type specifically."
      ],
      "metadata": {
        "id": "XLdOXakoGYX-"
      },
      "id": "XLdOXakoGYX-"
    },
    {
      "cell_type": "markdown",
      "source": [
        "#### Logistic Regression using CountVectorizer"
      ],
      "metadata": {
        "id": "XwUCZUgBzOcg"
      },
      "id": "XwUCZUgBzOcg"
    },
    {
      "cell_type": "code",
      "source": [
        "from sklearn.linear_model import LogisticRegression\n",
        "from sklearn.metrics import precision_score, recall_score, f1_score, accuracy_score, confusion_matrix\n",
        "\n",
        "#fit the model\n",
        "lr_cv = LogisticRegression(\n",
        "                         class_weight ='balanced',random_state=42)\n",
        "lr_cv.fit(cv_train_X, train_y)\n",
        "\n",
        "#predict using the trained model\n",
        "y_pred_cv_lr = lr_cv.predict(cv_test_X)\n",
        "\n",
        "#evaluation metrics\n",
        "lr_cv_acc = accuracy_score(test_y,y_pred_cv_lr)\n",
        "lr_cv_f1 = f1_score(test_y, y_pred_cv_lr)\n",
        "lr_cv_recall = recall_score(test_y, y_pred_cv_lr)\n",
        "lr_cv_precision =  precision_score(test_y, y_pred_cv_lr)\n",
        "tn_cv, fp_cv, fn_cv, tp_cv = confusion_matrix(test_y, y_pred_cv_lr).ravel()"
      ],
      "metadata": {
        "id": "yskJGhVoE-9m"
      },
      "execution_count": null,
      "outputs": [],
      "id": "yskJGhVoE-9m"
    },
    {
      "cell_type": "code",
      "source": [
        "lr_cv_report = (metrics.classification_report(y_test,y_pred_cv_lr,labels=[0,1]))"
      ],
      "metadata": {
        "id": "AOSVbaOvmQYo"
      },
      "id": "AOSVbaOvmQYo",
      "execution_count": null,
      "outputs": []
    },
    {
      "cell_type": "markdown",
      "source": [
        "#### Logistic Regression using Tf-Idf vectorizer"
      ],
      "metadata": {
        "id": "FovjsLvXzZoV"
      },
      "id": "FovjsLvXzZoV"
    },
    {
      "cell_type": "code",
      "source": [
        "#fit the model\n",
        "lr_tv = LogisticRegression(\n",
        "                           class_weight ='balanced',\n",
        "                           random_state=42)\n",
        "lr_tv.fit(tv_train_X, train_y)\n",
        "\n",
        "#predict using trained model\n",
        "y_pred_tv_lr = lr_tv.predict(tv_test_X)\n",
        "\n",
        "#evaluation metrics\n",
        "lr_tv_acc = accuracy_score(test_y,y_pred_tv_lr)\n",
        "lr_tv_f1 = f1_score(test_y, y_pred_tv_lr)\n",
        "lr_tv_recall = recall_score(test_y, y_pred_tv_lr)\n",
        "lr_tv_precision =  precision_score(test_y, y_pred_tv_lr)\n",
        "tn_tv, fp_tv, fn_tv, tp_tv = confusion_matrix(test_y, y_pred_tv_lr).ravel()"
      ],
      "metadata": {
        "id": "VoIMrY6WzdNv"
      },
      "execution_count": null,
      "outputs": [],
      "id": "VoIMrY6WzdNv"
    },
    {
      "cell_type": "code",
      "source": [
        "lr_tv_report = (metrics.classification_report(y_test,y_pred_tv_lr,labels=[0,1]))"
      ],
      "metadata": {
        "id": "aSaXrMgomOoM"
      },
      "id": "aSaXrMgomOoM",
      "execution_count": null,
      "outputs": []
    },
    {
      "cell_type": "markdown",
      "source": [
        "#### Logistic Regression using Word2Vec"
      ],
      "metadata": {
        "id": "OmAe9x1_zdrO"
      },
      "id": "OmAe9x1_zdrO"
    },
    {
      "cell_type": "code",
      "source": [
        "text2vec_train_X = np.array([get_text2vec(word) for word in norm_train_X_token])\n",
        "text2vec_test_X = np.array([get_text2vec(word) for word in norm_test_X_token])"
      ],
      "metadata": {
        "id": "hTKufONt1hvT"
      },
      "execution_count": null,
      "outputs": [],
      "id": "hTKufONt1hvT"
    },
    {
      "cell_type": "code",
      "source": [
        "#fit the model\n",
        "lr_t2v = LogisticRegression(\n",
        "                            class_weight ='balanced',\n",
        "                            random_state=42)\n",
        "lr_t2v.fit(text2vec_train_X, train_y)\n",
        "\n",
        "#predict using the trained model\n",
        "y_pred_t2v_lr = lr_t2v.predict(text2vec_test_X)\n",
        "\n",
        "#evaluation metrics\n",
        "lr_t2v_acc = accuracy_score(test_y,y_pred_t2v_lr)\n",
        "lr_t2v_f1 = f1_score(test_y, y_pred_t2v_lr)\n",
        "lr_t2v_recall = recall_score(test_y, y_pred_t2v_lr)\n",
        "lr_t2v_precision =  precision_score(test_y, y_pred_t2v_lr)\n",
        "tn_t2v, fp_t2v, fn_t2v, tp_t2v = confusion_matrix(test_y, y_pred_t2v_lr).ravel()"
      ],
      "metadata": {
        "id": "DLwieU5BzfYP"
      },
      "execution_count": null,
      "outputs": [],
      "id": "DLwieU5BzfYP"
    },
    {
      "cell_type": "code",
      "source": [
        "lr_t2v_report = (metrics.classification_report(y_test,y_pred_t2v_lr,labels=[0,1]))"
      ],
      "metadata": {
        "id": "Wxuge0x0nKEf"
      },
      "id": "Wxuge0x0nKEf",
      "execution_count": null,
      "outputs": []
    },
    {
      "cell_type": "markdown",
      "source": [
        "#### Logistic Regression CV/TFIDF/W2V Comparison"
      ],
      "metadata": {
        "id": "oiXyJqj8Gzok"
      },
      "id": "oiXyJqj8Gzok"
    },
    {
      "cell_type": "code",
      "source": [
        "pd.DataFrame([\n",
        "              ['Logistic Regression - CountVectorizer',  np.round(lr_cv_acc,4),\n",
        "               np.round(lr_cv_f1,4), np.round(lr_cv_recall,4),np.round(lr_cv_precision,4),tn_cv,fp_cv,fn_cv,tp_cv],\n",
        "              ['Logistic Regression - Tf-Idf Vectorizer', np.round(lr_tv_acc,4),\n",
        "               np.round(lr_tv_f1,4), np.round(lr_tv_recall,4),np.round(lr_tv_precision,4),tn_tv,fp_tv,fn_tv,tp_tv],\n",
        "              ['Logistic Regression - Word2Vec',  np.round(lr_t2v_acc,4),\n",
        "               np.round(lr_t2v_f1,4), np.round(lr_t2v_recall,4),np.round(lr_t2v_precision,4),tn_t2v,fp_t2v,fn_t2v,tp_t2v],\n",
        "              ],\n",
        "             columns=['Model', 'Accuracy Score', 'F1 score', 'Recall','Precision', 'TN','FP','FN','TP'],\n",
        "             ).T"
      ],
      "metadata": {
        "colab": {
          "base_uri": "https://localhost:8080/",
          "height": 332
        },
        "id": "q1zgPH7P0ceO",
        "outputId": "ea8ab25b-f1d1-46b5-f692-a3b7484067ca"
      },
      "execution_count": null,
      "outputs": [
        {
          "output_type": "execute_result",
          "data": {
            "text/plain": [
              "                                                    0  \\\n",
              "Model           Logistic Regression - CountVectorizer   \n",
              "Accuracy Score                                 0.8986   \n",
              "F1 score                                       0.4668   \n",
              "Recall                                         0.3975   \n",
              "Precision                                      0.5655   \n",
              "TN                                               1829   \n",
              "FP                                                 73   \n",
              "FN                                                144   \n",
              "TP                                                 95   \n",
              "\n",
              "                                                      1  \\\n",
              "Model           Logistic Regression - Tf-Idf Vectorizer   \n",
              "Accuracy Score                                   0.8557   \n",
              "F1 score                                         0.4841   \n",
              "Recall                                           0.6067   \n",
              "Precision                                        0.4028   \n",
              "TN                                                 1687   \n",
              "FP                                                  215   \n",
              "FN                                                   94   \n",
              "TP                                                  145   \n",
              "\n",
              "                                             2  \n",
              "Model           Logistic Regression - Word2Vec  \n",
              "Accuracy Score                          0.5955  \n",
              "F1 score                                0.2534  \n",
              "Recall                                  0.6151  \n",
              "Precision                               0.1596  \n",
              "TN                                        1128  \n",
              "FP                                         774  \n",
              "FN                                          92  \n",
              "TP                                         147  "
            ],
            "text/html": [
              "\n",
              "  <div id=\"df-73bf2a9c-c377-4082-b0bc-1d8c3c7c5850\" class=\"colab-df-container\">\n",
              "    <div>\n",
              "<style scoped>\n",
              "    .dataframe tbody tr th:only-of-type {\n",
              "        vertical-align: middle;\n",
              "    }\n",
              "\n",
              "    .dataframe tbody tr th {\n",
              "        vertical-align: top;\n",
              "    }\n",
              "\n",
              "    .dataframe thead th {\n",
              "        text-align: right;\n",
              "    }\n",
              "</style>\n",
              "<table border=\"1\" class=\"dataframe\">\n",
              "  <thead>\n",
              "    <tr style=\"text-align: right;\">\n",
              "      <th></th>\n",
              "      <th>0</th>\n",
              "      <th>1</th>\n",
              "      <th>2</th>\n",
              "    </tr>\n",
              "  </thead>\n",
              "  <tbody>\n",
              "    <tr>\n",
              "      <th>Model</th>\n",
              "      <td>Logistic Regression - CountVectorizer</td>\n",
              "      <td>Logistic Regression - Tf-Idf Vectorizer</td>\n",
              "      <td>Logistic Regression - Word2Vec</td>\n",
              "    </tr>\n",
              "    <tr>\n",
              "      <th>Accuracy Score</th>\n",
              "      <td>0.8986</td>\n",
              "      <td>0.8557</td>\n",
              "      <td>0.5955</td>\n",
              "    </tr>\n",
              "    <tr>\n",
              "      <th>F1 score</th>\n",
              "      <td>0.4668</td>\n",
              "      <td>0.4841</td>\n",
              "      <td>0.2534</td>\n",
              "    </tr>\n",
              "    <tr>\n",
              "      <th>Recall</th>\n",
              "      <td>0.3975</td>\n",
              "      <td>0.6067</td>\n",
              "      <td>0.6151</td>\n",
              "    </tr>\n",
              "    <tr>\n",
              "      <th>Precision</th>\n",
              "      <td>0.5655</td>\n",
              "      <td>0.4028</td>\n",
              "      <td>0.1596</td>\n",
              "    </tr>\n",
              "    <tr>\n",
              "      <th>TN</th>\n",
              "      <td>1829</td>\n",
              "      <td>1687</td>\n",
              "      <td>1128</td>\n",
              "    </tr>\n",
              "    <tr>\n",
              "      <th>FP</th>\n",
              "      <td>73</td>\n",
              "      <td>215</td>\n",
              "      <td>774</td>\n",
              "    </tr>\n",
              "    <tr>\n",
              "      <th>FN</th>\n",
              "      <td>144</td>\n",
              "      <td>94</td>\n",
              "      <td>92</td>\n",
              "    </tr>\n",
              "    <tr>\n",
              "      <th>TP</th>\n",
              "      <td>95</td>\n",
              "      <td>145</td>\n",
              "      <td>147</td>\n",
              "    </tr>\n",
              "  </tbody>\n",
              "</table>\n",
              "</div>\n",
              "    <div class=\"colab-df-buttons\">\n",
              "\n",
              "  <div class=\"colab-df-container\">\n",
              "    <button class=\"colab-df-convert\" onclick=\"convertToInteractive('df-73bf2a9c-c377-4082-b0bc-1d8c3c7c5850')\"\n",
              "            title=\"Convert this dataframe to an interactive table.\"\n",
              "            style=\"display:none;\">\n",
              "\n",
              "  <svg xmlns=\"http://www.w3.org/2000/svg\" height=\"24px\" viewBox=\"0 -960 960 960\">\n",
              "    <path d=\"M120-120v-720h720v720H120Zm60-500h600v-160H180v160Zm220 220h160v-160H400v160Zm0 220h160v-160H400v160ZM180-400h160v-160H180v160Zm440 0h160v-160H620v160ZM180-180h160v-160H180v160Zm440 0h160v-160H620v160Z\"/>\n",
              "  </svg>\n",
              "    </button>\n",
              "\n",
              "  <style>\n",
              "    .colab-df-container {\n",
              "      display:flex;\n",
              "      gap: 12px;\n",
              "    }\n",
              "\n",
              "    .colab-df-convert {\n",
              "      background-color: #E8F0FE;\n",
              "      border: none;\n",
              "      border-radius: 50%;\n",
              "      cursor: pointer;\n",
              "      display: none;\n",
              "      fill: #1967D2;\n",
              "      height: 32px;\n",
              "      padding: 0 0 0 0;\n",
              "      width: 32px;\n",
              "    }\n",
              "\n",
              "    .colab-df-convert:hover {\n",
              "      background-color: #E2EBFA;\n",
              "      box-shadow: 0px 1px 2px rgba(60, 64, 67, 0.3), 0px 1px 3px 1px rgba(60, 64, 67, 0.15);\n",
              "      fill: #174EA6;\n",
              "    }\n",
              "\n",
              "    .colab-df-buttons div {\n",
              "      margin-bottom: 4px;\n",
              "    }\n",
              "\n",
              "    [theme=dark] .colab-df-convert {\n",
              "      background-color: #3B4455;\n",
              "      fill: #D2E3FC;\n",
              "    }\n",
              "\n",
              "    [theme=dark] .colab-df-convert:hover {\n",
              "      background-color: #434B5C;\n",
              "      box-shadow: 0px 1px 3px 1px rgba(0, 0, 0, 0.15);\n",
              "      filter: drop-shadow(0px 1px 2px rgba(0, 0, 0, 0.3));\n",
              "      fill: #FFFFFF;\n",
              "    }\n",
              "  </style>\n",
              "\n",
              "    <script>\n",
              "      const buttonEl =\n",
              "        document.querySelector('#df-73bf2a9c-c377-4082-b0bc-1d8c3c7c5850 button.colab-df-convert');\n",
              "      buttonEl.style.display =\n",
              "        google.colab.kernel.accessAllowed ? 'block' : 'none';\n",
              "\n",
              "      async function convertToInteractive(key) {\n",
              "        const element = document.querySelector('#df-73bf2a9c-c377-4082-b0bc-1d8c3c7c5850');\n",
              "        const dataTable =\n",
              "          await google.colab.kernel.invokeFunction('convertToInteractive',\n",
              "                                                    [key], {});\n",
              "        if (!dataTable) return;\n",
              "\n",
              "        const docLinkHtml = 'Like what you see? Visit the ' +\n",
              "          '<a target=\"_blank\" href=https://colab.research.google.com/notebooks/data_table.ipynb>data table notebook</a>'\n",
              "          + ' to learn more about interactive tables.';\n",
              "        element.innerHTML = '';\n",
              "        dataTable['output_type'] = 'display_data';\n",
              "        await google.colab.output.renderOutput(dataTable, element);\n",
              "        const docLink = document.createElement('div');\n",
              "        docLink.innerHTML = docLinkHtml;\n",
              "        element.appendChild(docLink);\n",
              "      }\n",
              "    </script>\n",
              "  </div>\n",
              "\n",
              "\n",
              "<div id=\"df-8ac4fab1-e71c-48bd-aa7c-78cdee997bfd\">\n",
              "  <button class=\"colab-df-quickchart\" onclick=\"quickchart('df-8ac4fab1-e71c-48bd-aa7c-78cdee997bfd')\"\n",
              "            title=\"Suggest charts\"\n",
              "            style=\"display:none;\">\n",
              "\n",
              "<svg xmlns=\"http://www.w3.org/2000/svg\" height=\"24px\"viewBox=\"0 0 24 24\"\n",
              "     width=\"24px\">\n",
              "    <g>\n",
              "        <path d=\"M19 3H5c-1.1 0-2 .9-2 2v14c0 1.1.9 2 2 2h14c1.1 0 2-.9 2-2V5c0-1.1-.9-2-2-2zM9 17H7v-7h2v7zm4 0h-2V7h2v10zm4 0h-2v-4h2v4z\"/>\n",
              "    </g>\n",
              "</svg>\n",
              "  </button>\n",
              "\n",
              "<style>\n",
              "  .colab-df-quickchart {\n",
              "      --bg-color: #E8F0FE;\n",
              "      --fill-color: #1967D2;\n",
              "      --hover-bg-color: #E2EBFA;\n",
              "      --hover-fill-color: #174EA6;\n",
              "      --disabled-fill-color: #AAA;\n",
              "      --disabled-bg-color: #DDD;\n",
              "  }\n",
              "\n",
              "  [theme=dark] .colab-df-quickchart {\n",
              "      --bg-color: #3B4455;\n",
              "      --fill-color: #D2E3FC;\n",
              "      --hover-bg-color: #434B5C;\n",
              "      --hover-fill-color: #FFFFFF;\n",
              "      --disabled-bg-color: #3B4455;\n",
              "      --disabled-fill-color: #666;\n",
              "  }\n",
              "\n",
              "  .colab-df-quickchart {\n",
              "    background-color: var(--bg-color);\n",
              "    border: none;\n",
              "    border-radius: 50%;\n",
              "    cursor: pointer;\n",
              "    display: none;\n",
              "    fill: var(--fill-color);\n",
              "    height: 32px;\n",
              "    padding: 0;\n",
              "    width: 32px;\n",
              "  }\n",
              "\n",
              "  .colab-df-quickchart:hover {\n",
              "    background-color: var(--hover-bg-color);\n",
              "    box-shadow: 0 1px 2px rgba(60, 64, 67, 0.3), 0 1px 3px 1px rgba(60, 64, 67, 0.15);\n",
              "    fill: var(--button-hover-fill-color);\n",
              "  }\n",
              "\n",
              "  .colab-df-quickchart-complete:disabled,\n",
              "  .colab-df-quickchart-complete:disabled:hover {\n",
              "    background-color: var(--disabled-bg-color);\n",
              "    fill: var(--disabled-fill-color);\n",
              "    box-shadow: none;\n",
              "  }\n",
              "\n",
              "  .colab-df-spinner {\n",
              "    border: 2px solid var(--fill-color);\n",
              "    border-color: transparent;\n",
              "    border-bottom-color: var(--fill-color);\n",
              "    animation:\n",
              "      spin 1s steps(1) infinite;\n",
              "  }\n",
              "\n",
              "  @keyframes spin {\n",
              "    0% {\n",
              "      border-color: transparent;\n",
              "      border-bottom-color: var(--fill-color);\n",
              "      border-left-color: var(--fill-color);\n",
              "    }\n",
              "    20% {\n",
              "      border-color: transparent;\n",
              "      border-left-color: var(--fill-color);\n",
              "      border-top-color: var(--fill-color);\n",
              "    }\n",
              "    30% {\n",
              "      border-color: transparent;\n",
              "      border-left-color: var(--fill-color);\n",
              "      border-top-color: var(--fill-color);\n",
              "      border-right-color: var(--fill-color);\n",
              "    }\n",
              "    40% {\n",
              "      border-color: transparent;\n",
              "      border-right-color: var(--fill-color);\n",
              "      border-top-color: var(--fill-color);\n",
              "    }\n",
              "    60% {\n",
              "      border-color: transparent;\n",
              "      border-right-color: var(--fill-color);\n",
              "    }\n",
              "    80% {\n",
              "      border-color: transparent;\n",
              "      border-right-color: var(--fill-color);\n",
              "      border-bottom-color: var(--fill-color);\n",
              "    }\n",
              "    90% {\n",
              "      border-color: transparent;\n",
              "      border-bottom-color: var(--fill-color);\n",
              "    }\n",
              "  }\n",
              "</style>\n",
              "\n",
              "  <script>\n",
              "    async function quickchart(key) {\n",
              "      const quickchartButtonEl =\n",
              "        document.querySelector('#' + key + ' button');\n",
              "      quickchartButtonEl.disabled = true;  // To prevent multiple clicks.\n",
              "      quickchartButtonEl.classList.add('colab-df-spinner');\n",
              "      try {\n",
              "        const charts = await google.colab.kernel.invokeFunction(\n",
              "            'suggestCharts', [key], {});\n",
              "      } catch (error) {\n",
              "        console.error('Error during call to suggestCharts:', error);\n",
              "      }\n",
              "      quickchartButtonEl.classList.remove('colab-df-spinner');\n",
              "      quickchartButtonEl.classList.add('colab-df-quickchart-complete');\n",
              "    }\n",
              "    (() => {\n",
              "      let quickchartButtonEl =\n",
              "        document.querySelector('#df-8ac4fab1-e71c-48bd-aa7c-78cdee997bfd button');\n",
              "      quickchartButtonEl.style.display =\n",
              "        google.colab.kernel.accessAllowed ? 'block' : 'none';\n",
              "    })();\n",
              "  </script>\n",
              "</div>\n",
              "    </div>\n",
              "  </div>\n"
            ]
          },
          "metadata": {},
          "execution_count": 118
        }
      ],
      "id": "q1zgPH7P0ceO"
    },
    {
      "cell_type": "markdown",
      "source": [
        "Logistic Regression performs better with Count Vectorizer as the vectorization method among the three and has better accuracy and a very decent F1 score. In terms of true predictions, this model is capable of learning and predicting the true labels on the unseen dataset."
      ],
      "metadata": {
        "id": "hK3PCp8CjNrv"
      },
      "id": "hK3PCp8CjNrv"
    },
    {
      "cell_type": "markdown",
      "source": [
        "### LSTM"
      ],
      "metadata": {
        "id": "J1PXGz0b7DIH"
      },
      "id": "J1PXGz0b7DIH"
    },
    {
      "cell_type": "markdown",
      "source": [
        "### GloVe Word Embedding"
      ],
      "metadata": {
        "id": "NCSLGvUVDIlg"
      },
      "id": "NCSLGvUVDIlg"
    },
    {
      "cell_type": "code",
      "source": [
        "!wget http://downloads.cs.stanford.edu/nlp/data/glove.6B.zip"
      ],
      "metadata": {
        "colab": {
          "base_uri": "https://localhost:8080/"
        },
        "id": "1q1jU3Ja-iU7",
        "outputId": "74b34023-b0ee-476e-f479-99a900573d5f"
      },
      "execution_count": null,
      "outputs": [
        {
          "output_type": "stream",
          "name": "stdout",
          "text": [
            "--2023-11-19 13:14:40--  http://downloads.cs.stanford.edu/nlp/data/glove.6B.zip\n",
            "Resolving downloads.cs.stanford.edu (downloads.cs.stanford.edu)... 171.64.64.22\n",
            "Connecting to downloads.cs.stanford.edu (downloads.cs.stanford.edu)|171.64.64.22|:80... connected.\n",
            "HTTP request sent, awaiting response... 200 OK\n",
            "Length: 862182613 (822M) [application/zip]\n",
            "Saving to: ‘glove.6B.zip’\n",
            "\n",
            "glove.6B.zip        100%[===================>] 822.24M  4.97MB/s    in 2m 40s  \n",
            "\n",
            "2023-11-19 13:17:20 (5.14 MB/s) - ‘glove.6B.zip’ saved [862182613/862182613]\n",
            "\n"
          ]
        }
      ],
      "id": "1q1jU3Ja-iU7"
    },
    {
      "cell_type": "code",
      "source": [
        "!unzip glove.6B.zip"
      ],
      "metadata": {
        "colab": {
          "base_uri": "https://localhost:8080/"
        },
        "id": "iEy5PHjT-sp2",
        "outputId": "03c13501-674f-493e-d447-cfdf60c5d698"
      },
      "execution_count": null,
      "outputs": [
        {
          "output_type": "stream",
          "name": "stdout",
          "text": [
            "Archive:  glove.6B.zip\n",
            "  inflating: glove.6B.50d.txt        \n",
            "  inflating: glove.6B.100d.txt       \n",
            "  inflating: glove.6B.200d.txt       \n",
            "  inflating: glove.6B.300d.txt       \n"
          ]
        }
      ],
      "id": "iEy5PHjT-sp2"
    },
    {
      "cell_type": "code",
      "source": [
        "words = dict()\n",
        "\n",
        "def add_to_dict(d, filename):\n",
        "  with open(filename,'r') as f:\n",
        "    for line in f.readlines():\n",
        "      line = line.split(' ')\n",
        "\n",
        "      try:\n",
        "        d[line[0]] = np.array(line[1:], dtype=float)\n",
        "      except:\n",
        "        continue\n",
        "\n",
        "add_to_dict(words,'glove.6B.50d.txt')"
      ],
      "metadata": {
        "id": "QkypBi_c-uam"
      },
      "execution_count": null,
      "outputs": [],
      "id": "QkypBi_c-uam"
    },
    {
      "cell_type": "code",
      "source": [
        "nltk.download('wordnet')"
      ],
      "metadata": {
        "colab": {
          "base_uri": "https://localhost:8080/"
        },
        "id": "gaPuyFjR_J1i",
        "outputId": "b190b5b6-1048-41cb-fbad-398efc62e1d6"
      },
      "execution_count": null,
      "outputs": [
        {
          "output_type": "stream",
          "name": "stderr",
          "text": [
            "[nltk_data] Downloading package wordnet to /root/nltk_data...\n"
          ]
        },
        {
          "output_type": "execute_result",
          "data": {
            "text/plain": [
              "True"
            ]
          },
          "metadata": {},
          "execution_count": 122
        }
      ],
      "id": "gaPuyFjR_J1i"
    },
    {
      "cell_type": "code",
      "source": [
        "from nltk.stem import WordNetLemmatizer\n",
        "\n",
        "lem = WordNetLemmatizer()\n",
        "\n",
        "def mes_token_list(s):\n",
        "  tokens = tokenizer.tokenize(s)\n",
        "  low_tokens = [t.lower() for t in tokens]\n",
        "  lem_tokens = [lem.lemmatize(x) for x in low_tokens]\n",
        "  tks = [x for x in lem_tokens if x in words]\n",
        "  return tks\n",
        "\n",
        "def mes_word_vector(mes, word_dict=words):\n",
        "  lt_of_tks = mes_token_list(mes)\n",
        "  vts = []\n",
        "  for t in lt_of_tks:\n",
        "    if t not in word_dict:\n",
        "      continue\n",
        "\n",
        "    vts.append(word_dict[t])\n",
        "  return np.array(vts, dtype=float)"
      ],
      "metadata": {
        "id": "h8cP62G3_MTh"
      },
      "execution_count": null,
      "outputs": [],
      "id": "h8cP62G3_MTh"
    },
    {
      "cell_type": "code",
      "source": [
        "mes_word_vector('No wonder young people ca n\\'t get jobs .').shape"
      ],
      "metadata": {
        "colab": {
          "base_uri": "https://localhost:8080/"
        },
        "id": "_Afold2l_mkZ",
        "outputId": "240b27b8-8e00-4e7b-dac6-c2980666871a"
      },
      "execution_count": null,
      "outputs": [
        {
          "output_type": "execute_result",
          "data": {
            "text/plain": [
              "(11, 50)"
            ]
          },
          "metadata": {},
          "execution_count": 124
        }
      ],
      "id": "_Afold2l_mkZ"
    },
    {
      "cell_type": "code",
      "source": [
        "def to_X(np_arr):\n",
        "  seqs = []\n",
        "  for mes in np_arr:\n",
        "    mes_vt = mes_word_vector(mes)\n",
        "    if mes_vt.shape[0]==0:\n",
        "      mes_vt = np.zeros(shape=(1,50))\n",
        "    seqs.append(mes_vt)\n",
        "  return seqs"
      ],
      "metadata": {
        "id": "WnBuATYK_zFS"
      },
      "execution_count": null,
      "outputs": [],
      "id": "WnBuATYK_zFS"
    },
    {
      "cell_type": "code",
      "source": [
        "X_train, X_test, y_train, y_test = train_test_split(hate_df['text'], hate_df['label'], test_size=0.1, random_state=42,shuffle=True, stratify=hate_df['label'])\n",
        "\n",
        "print(pd.DataFrame(y_train).value_counts())\n",
        "print(pd.DataFrame(y_test).value_counts())"
      ],
      "metadata": {
        "colab": {
          "base_uri": "https://localhost:8080/"
        },
        "id": "h_OugBTwDzOB",
        "outputId": "a8a86b66-d9d4-4a2f-95c0-aad7c0d4e148"
      },
      "execution_count": null,
      "outputs": [
        {
          "output_type": "stream",
          "name": "stdout",
          "text": [
            "label\n",
            "0        8556\n",
            "1        1076\n",
            "dtype: int64\n",
            "label\n",
            "0        951\n",
            "1        120\n",
            "dtype: int64\n"
          ]
        }
      ],
      "id": "h_OugBTwDzOB"
    },
    {
      "cell_type": "code",
      "source": [
        "X_train = to_X(X_train)\n",
        "X_test = to_X(X_test)"
      ],
      "metadata": {
        "id": "TGEIcvVg_2WE"
      },
      "execution_count": null,
      "outputs": [],
      "id": "TGEIcvVg_2WE"
    },
    {
      "cell_type": "code",
      "source": [
        "print(\"length of X train: \", len(X_train))"
      ],
      "metadata": {
        "colab": {
          "base_uri": "https://localhost:8080/"
        },
        "id": "ih5h5KdM_2aa",
        "outputId": "bbcdc737-e55c-4fc7-a53f-338fe7bf0130"
      },
      "execution_count": null,
      "outputs": [
        {
          "output_type": "stream",
          "name": "stdout",
          "text": [
            "length of X train:  9632\n"
          ]
        }
      ],
      "id": "ih5h5KdM_2aa"
    },
    {
      "cell_type": "code",
      "source": [
        "seq_lens = []\n",
        "for i in range(len(X_train)):\n",
        "  seq_lens.append(len(X_train[i]))\n",
        "\n",
        "import matplotlib.pyplot as plt\n",
        "\n",
        "plt.hist(seq_lens)"
      ],
      "metadata": {
        "colab": {
          "base_uri": "https://localhost:8080/",
          "height": 517
        },
        "id": "yhBeM8gpA8hx",
        "outputId": "54c258fb-919e-403f-b0a1-291b46c0f5cd"
      },
      "execution_count": null,
      "outputs": [
        {
          "output_type": "execute_result",
          "data": {
            "text/plain": [
              "(array([8.801e+03, 7.520e+02, 5.500e+01, 1.800e+01, 2.000e+00, 2.000e+00,\n",
              "        0.000e+00, 1.000e+00, 0.000e+00, 1.000e+00]),\n",
              " array([  1. ,  34.9,  68.8, 102.7, 136.6, 170.5, 204.4, 238.3, 272.2,\n",
              "        306.1, 340. ]),\n",
              " <BarContainer object of 10 artists>)"
            ]
          },
          "metadata": {},
          "execution_count": 129
        },
        {
          "output_type": "display_data",
          "data": {
            "text/plain": [
              "<Figure size 640x480 with 1 Axes>"
            ],
            "image/png": "[encoded data removed]"
          },
          "metadata": {}
        }
      ],
      "id": "yhBeM8gpA8hx"
    },
    {
      "cell_type": "code",
      "source": [
        "pd.Series(seq_lens).describe()"
      ],
      "metadata": {
        "colab": {
          "base_uri": "https://localhost:8080/"
        },
        "id": "6Krfjv_EBFfZ",
        "outputId": "613ff393-8c2e-4e6d-a14e-1a53ab78798b"
      },
      "execution_count": null,
      "outputs": [
        {
          "output_type": "execute_result",
          "data": {
            "text/plain": [
              "count    9632.000000\n",
              "mean       18.302533\n",
              "std        13.925482\n",
              "min         1.000000\n",
              "25%         9.000000\n",
              "50%        16.000000\n",
              "75%        25.000000\n",
              "max       340.000000\n",
              "dtype: float64"
            ]
          },
          "metadata": {},
          "execution_count": 130
        }
      ],
      "id": "6Krfjv_EBFfZ"
    },
    {
      "cell_type": "code",
      "source": [
        "from copy import deepcopy\n",
        "\n",
        "def pad0(X, seq_len=340):\n",
        "  X_copy = deepcopy(X)\n",
        "\n",
        "  for i,x in enumerate(X):\n",
        "    x_seq_len = x.shape[0]\n",
        "    seq_len_diff = seq_len - x_seq_len\n",
        "\n",
        "    pad = np.zeros(shape=(seq_len_diff,50))\n",
        "    X_copy[i] = np.concatenate([x,pad])\n",
        "\n",
        "  return np.array(X_copy).astype(float)"
      ],
      "metadata": {
        "id": "ls48B8-PBFiw"
      },
      "execution_count": null,
      "outputs": [],
      "id": "ls48B8-PBFiw"
    },
    {
      "cell_type": "code",
      "source": [
        "X_train = pad0(X_train)\n",
        "X_test = pad0(X_test)\n",
        "print(X_train.shape)\n",
        "print(X_test.shape)"
      ],
      "metadata": {
        "colab": {
          "base_uri": "https://localhost:8080/"
        },
        "id": "Ue6-x-PY_2ek",
        "outputId": "2e25f57a-324e-413a-b4ac-b8a26fce7cc7"
      },
      "execution_count": null,
      "outputs": [
        {
          "output_type": "stream",
          "name": "stdout",
          "text": [
            "(9632, 340, 50)\n",
            "(1071, 340, 50)\n"
          ]
        }
      ],
      "id": "Ue6-x-PY_2ek"
    },
    {
      "cell_type": "markdown",
      "source": [
        "### LSTM model training"
      ],
      "metadata": {
        "id": "s1n32d1VDStk"
      },
      "id": "s1n32d1VDStk"
    },
    {
      "cell_type": "code",
      "source": [
        "from tensorflow.keras import layers\n",
        "from tensorflow.keras.models import Sequential\n",
        "\n",
        "model = Sequential([])\n",
        "model.add(layers.Input(shape=(340,50)))\n",
        "model.add(layers.LSTM(128,return_sequences=True))\n",
        "model.add(layers.Dropout(0.2))\n",
        "model.add(layers.LSTM(128,return_sequences=True))\n",
        "model.add(layers.Dropout(0.2))\n",
        "model.add(layers.LSTM(64,return_sequences=True))\n",
        "model.add(layers.Dropout(0.2))\n",
        "model.add(layers.Flatten())\n",
        "model.add(layers.Dense(1, activation='sigmoid'))"
      ],
      "metadata": {
        "id": "srk3j-ayByw8"
      },
      "execution_count": null,
      "outputs": [],
      "id": "srk3j-ayByw8"
    },
    {
      "cell_type": "code",
      "source": [
        "model.summary()"
      ],
      "metadata": {
        "colab": {
          "base_uri": "https://localhost:8080/"
        },
        "id": "tg00LEMMBy0P",
        "outputId": "f0e74551-808d-460b-c090-b555b1d80a81"
      },
      "execution_count": null,
      "outputs": [
        {
          "output_type": "stream",
          "name": "stdout",
          "text": [
            "Model: \"sequential\"\n",
            "_________________________________________________________________\n",
            " Layer (type)                Output Shape              Param #   \n",
            "=================================================================\n",
            " lstm (LSTM)                 (None, 340, 128)          91648     \n",
            "                                                                 \n",
            " dropout (Dropout)           (None, 340, 128)          0         \n",
            "                                                                 \n",
            " lstm_1 (LSTM)               (None, 340, 128)          131584    \n",
            "                                                                 \n",
            " dropout_1 (Dropout)         (None, 340, 128)          0         \n",
            "                                                                 \n",
            " lstm_2 (LSTM)               (None, 340, 64)           49408     \n",
            "                                                                 \n",
            " dropout_2 (Dropout)         (None, 340, 64)           0         \n",
            "                                                                 \n",
            " flatten (Flatten)           (None, 21760)             0         \n",
            "                                                                 \n",
            " dense (Dense)               (None, 1)                 21761     \n",
            "                                                                 \n",
            "=================================================================\n",
            "Total params: 294401 (1.12 MB)\n",
            "Trainable params: 294401 (1.12 MB)\n",
            "Non-trainable params: 0 (0.00 Byte)\n",
            "_________________________________________________________________\n"
          ]
        }
      ],
      "id": "tg00LEMMBy0P"
    },
    {
      "cell_type": "code",
      "source": [
        "from tensorflow.keras.losses import BinaryCrossentropy\n",
        "from tensorflow.keras.optimizers import Adam\n",
        "from tensorflow.keras.metrics import AUC\n",
        "from tensorflow.keras.callbacks import ModelCheckpoint\n",
        "\n",
        "cp = ModelCheckpoint('model/', save_best_only=True)\n",
        "\n",
        "model.compile(optimizer=Adam(learning_rate=0.0001),loss=BinaryCrossentropy(),\n",
        "              metrics=['accuracy',AUC(name='auc')])"
      ],
      "metadata": {
        "id": "JElcPV7xBy3X"
      },
      "execution_count": null,
      "outputs": [],
      "id": "JElcPV7xBy3X"
    },
    {
      "cell_type": "code",
      "source": [
        "freq = pd.DataFrame(y_train).value_counts()\n",
        "weights = {0: freq.sum()/freq[0], 1: freq.sum()/freq[1]}\n",
        "print(freq)\n",
        "print(weights)"
      ],
      "metadata": {
        "colab": {
          "base_uri": "https://localhost:8080/"
        },
        "id": "VBePa1QpBy6Y",
        "outputId": "f132c9c7-cec9-4b3b-ec4f-1e5d2e399611"
      },
      "execution_count": null,
      "outputs": [
        {
          "output_type": "stream",
          "name": "stdout",
          "text": [
            "label\n",
            "0        8556\n",
            "1        1076\n",
            "dtype: int64\n",
            "{0: 1.125759700794764, 1: 8.951672862453531}\n"
          ]
        }
      ],
      "id": "VBePa1QpBy6Y"
    },
    {
      "cell_type": "code",
      "source": [
        "model.fit(X_train, y_train, validation_data=(X_test,y_test),epochs=15,callbacks=[cp],class_weight=weights)"
      ],
      "metadata": {
        "colab": {
          "base_uri": "https://localhost:8080/"
        },
        "id": "levxTP66By9d",
        "outputId": "f9972e61-02de-46a2-b963-c9f9e7b48ec5"
      },
      "execution_count": null,
      "outputs": [
        {
          "output_type": "stream",
          "name": "stdout",
          "text": [
            "Epoch 1/15\n",
            "301/301 [==============================] - 434s 1s/step - loss: 1.2536 - accuracy: 0.5972 - auc: 0.7102 - val_loss: 0.5273 - val_accuracy: 0.7582 - val_auc: 0.8061\n",
            "Epoch 2/15\n",
            "301/301 [==============================] - 429s 1s/step - loss: 1.0708 - accuracy: 0.7249 - auc: 0.8071 - val_loss: 0.3346 - val_accuracy: 0.8581 - val_auc: 0.8293\n",
            "Epoch 3/15\n",
            "301/301 [==============================] - 420s 1s/step - loss: 1.0324 - accuracy: 0.7303 - auc: 0.8228 - val_loss: 0.5034 - val_accuracy: 0.7283 - val_auc: 0.8246\n",
            "Epoch 4/15\n",
            "301/301 [==============================] - 413s 1s/step - loss: 1.0077 - accuracy: 0.7403 - auc: 0.8317 - val_loss: 0.5349 - val_accuracy: 0.7255 - val_auc: 0.8350\n",
            "Epoch 5/15\n",
            "301/301 [==============================] - 415s 1s/step - loss: 0.9829 - accuracy: 0.7403 - auc: 0.8399 - val_loss: 0.7222 - val_accuracy: 0.6536 - val_auc: 0.8397\n",
            "Epoch 6/15\n",
            "301/301 [==============================] - 415s 1s/step - loss: 0.9765 - accuracy: 0.7503 - auc: 0.8433 - val_loss: 0.4422 - val_accuracy: 0.7843 - val_auc: 0.8390\n",
            "Epoch 7/15\n",
            "301/301 [==============================] - 417s 1s/step - loss: 0.9609 - accuracy: 0.7532 - auc: 0.8484 - val_loss: 0.6512 - val_accuracy: 0.6246 - val_auc: 0.8368\n",
            "Epoch 8/15\n",
            "301/301 [==============================] - 416s 1s/step - loss: 0.9505 - accuracy: 0.7551 - auc: 0.8527 - val_loss: 0.4632 - val_accuracy: 0.7656 - val_auc: 0.8456\n",
            "Epoch 9/15\n",
            "301/301 [==============================] - 416s 1s/step - loss: 0.9470 - accuracy: 0.7544 - auc: 0.8529 - val_loss: 0.7065 - val_accuracy: 0.6181 - val_auc: 0.8446\n",
            "Epoch 10/15\n",
            "301/301 [==============================] - 415s 1s/step - loss: 0.9231 - accuracy: 0.7597 - auc: 0.8609 - val_loss: 0.4156 - val_accuracy: 0.7927 - val_auc: 0.8478\n",
            "Epoch 11/15\n",
            "301/301 [==============================] - 416s 1s/step - loss: 0.9153 - accuracy: 0.7638 - auc: 0.8639 - val_loss: 0.8427 - val_accuracy: 0.5752 - val_auc: 0.8444\n",
            "Epoch 12/15\n",
            "301/301 [==============================] - 415s 1s/step - loss: 0.9041 - accuracy: 0.7646 - auc: 0.8668 - val_loss: 0.3932 - val_accuracy: 0.8086 - val_auc: 0.8466\n",
            "Epoch 13/15\n",
            "301/301 [==============================] - 415s 1s/step - loss: 0.9026 - accuracy: 0.7696 - auc: 0.8672 - val_loss: 0.4864 - val_accuracy: 0.7638 - val_auc: 0.8488\n",
            "Epoch 14/15\n",
            "301/301 [==============================] - 415s 1s/step - loss: 0.8855 - accuracy: 0.7765 - auc: 0.8735 - val_loss: 0.4436 - val_accuracy: 0.7890 - val_auc: 0.8516\n",
            "Epoch 15/15\n",
            "301/301 [==============================] - 415s 1s/step - loss: 0.8710 - accuracy: 0.7790 - auc: 0.8773 - val_loss: 0.5504 - val_accuracy: 0.7227 - val_auc: 0.8473\n"
          ]
        },
        {
          "output_type": "execute_result",
          "data": {
            "text/plain": [
              "<keras.src.callbacks.History at 0x7c302fa0e110>"
            ]
          },
          "metadata": {},
          "execution_count": 137
        }
      ],
      "id": "levxTP66By9d"
    },
    {
      "cell_type": "markdown",
      "source": [
        "### LSTM Evaluation"
      ],
      "metadata": {
        "id": "MbVUm897DfI8"
      },
      "id": "MbVUm897DfI8"
    },
    {
      "cell_type": "code",
      "source": [
        "from tensorflow.keras.models import load_model\n",
        "\n",
        "best_model = load_model('model/')"
      ],
      "metadata": {
        "id": "4UflIaZvClZX"
      },
      "execution_count": null,
      "outputs": [],
      "id": "4UflIaZvClZX"
    },
    {
      "cell_type": "code",
      "source": [
        "train_pred = (best_model.predict(X_train)>0.5).astype(int)\n",
        "test_pred = (best_model.predict(X_test)>0.5).astype(int)"
      ],
      "metadata": {
        "colab": {
          "base_uri": "https://localhost:8080/"
        },
        "id": "jzG30aTZClhQ",
        "outputId": "00c8fa21-8be2-4e2e-ce9b-acbc1f2dd591"
      },
      "execution_count": null,
      "outputs": [
        {
          "output_type": "stream",
          "name": "stdout",
          "text": [
            "301/301 [==============================] - 143s 463ms/step\n",
            "34/34 [==============================] - 18s 511ms/step\n"
          ]
        }
      ],
      "id": "jzG30aTZClhQ"
    },
    {
      "cell_type": "code",
      "source": [
        "from sklearn.metrics import classification_report\n",
        "print(classification_report(y_train,train_pred))\n",
        "lstm_test_report = classification_report(y_test,test_pred)\n",
        "print(lstm_test_report)"
      ],
      "metadata": {
        "colab": {
          "base_uri": "https://localhost:8080/"
        },
        "id": "pYVZnFxSBy_3",
        "outputId": "c9a28792-13aa-446d-ba5c-8d1a2ac6b564"
      },
      "execution_count": null,
      "outputs": [
        {
          "output_type": "stream",
          "name": "stdout",
          "text": [
            "              precision    recall  f1-score   support\n",
            "\n",
            "           0       0.94      0.89      0.91      8556\n",
            "           1       0.37      0.51      0.43      1076\n",
            "\n",
            "    accuracy                           0.85      9632\n",
            "   macro avg       0.65      0.70      0.67      9632\n",
            "weighted avg       0.87      0.85      0.86      9632\n",
            "\n",
            "              precision    recall  f1-score   support\n",
            "\n",
            "           0       0.93      0.91      0.92       951\n",
            "           1       0.39      0.48      0.43       120\n",
            "\n",
            "    accuracy                           0.86      1071\n",
            "   macro avg       0.66      0.69      0.68      1071\n",
            "weighted avg       0.87      0.86      0.86      1071\n",
            "\n"
          ]
        }
      ],
      "id": "pYVZnFxSBy_3"
    },
    {
      "cell_type": "markdown",
      "source": [
        " ## Model Evaluation"
      ],
      "metadata": {
        "id": "Eb9OAELHO_8V"
      },
      "id": "Eb9OAELHO_8V"
    },
    {
      "cell_type": "code",
      "source": [
        "print('MNB Model Test Performance')\n",
        "print('-'*30)\n",
        "print(mnb_cv_test_report)\n",
        "print('-'*60)\n",
        "print('SGDC Model Test Performance')\n",
        "print('-'*30)\n",
        "print(sgdc_cv_test_report)\n",
        "print('-'*60)\n",
        "print('SVC Model Test Performance')\n",
        "print('-'*30)\n",
        "print(svc_test_report)\n",
        "print('-'*60)\n",
        "print('Tuned LR Model Test Performance')\n",
        "print('-'*30)\n",
        "print(lr_test_report)\n",
        "print('-'*60)\n",
        "print('CV LR Model Test Performance')\n",
        "print('-'*30)\n",
        "print(lr_cv_report)\n",
        "print('-'*60)\n",
        "print('Tfidf LR Model Test Performance')\n",
        "print('-'*30)\n",
        "print(lr_tv_report)\n",
        "print('-'*60)\n",
        "print('W2V LR Model Test Performance')\n",
        "print('-'*30)\n",
        "print(lr_t2v_report)\n",
        "print('-'*60)\n",
        "print('LSTM Model Test Performance')\n",
        "print('-'*30)\n",
        "print(lstm_test_report)\n",
        "print('-'*60)"
      ],
      "metadata": {
        "id": "KEVFz-bqryVf",
        "colab": {
          "base_uri": "https://localhost:8080/"
        },
        "outputId": "7dcc478b-f75d-4b37-f50b-07acad22cf74"
      },
      "id": "KEVFz-bqryVf",
      "execution_count": null,
      "outputs": [
        {
          "output_type": "stream",
          "name": "stdout",
          "text": [
            "MNB Model Test Performance\n",
            "------------------------------\n",
            "              precision    recall  f1-score   support\n",
            "\n",
            "           0       0.91      0.95      0.93      1902\n",
            "           1       0.35      0.24      0.29       239\n",
            "\n",
            "    accuracy                           0.87      2141\n",
            "   macro avg       0.63      0.59      0.61      2141\n",
            "weighted avg       0.85      0.87      0.85      2141\n",
            "\n",
            "------------------------------------------------------------\n",
            "SGDC Model Test Performance\n",
            "------------------------------\n",
            "              precision    recall  f1-score   support\n",
            "\n",
            "           0       0.92      0.96      0.94      1902\n",
            "           1       0.53      0.34      0.41       239\n",
            "\n",
            "    accuracy                           0.89      2141\n",
            "   macro avg       0.72      0.65      0.68      2141\n",
            "weighted avg       0.88      0.89      0.88      2141\n",
            "\n",
            "------------------------------------------------------------\n",
            "SVC Model Test Performance\n",
            "------------------------------\n",
            "              precision    recall  f1-score   support\n",
            "\n",
            "           0       0.92      0.98      0.95      1902\n",
            "           1       0.68      0.28      0.39       239\n",
            "\n",
            "    accuracy                           0.90      2141\n",
            "   macro avg       0.80      0.63      0.67      2141\n",
            "weighted avg       0.89      0.90      0.89      2141\n",
            "\n",
            "------------------------------------------------------------\n",
            "Tuned LR Model Test Performance\n",
            "------------------------------\n",
            "              precision    recall  f1-score   support\n",
            "\n",
            "           0       0.92      0.98      0.95      1902\n",
            "           1       0.65      0.30      0.41       239\n",
            "\n",
            "    accuracy                           0.90      2141\n",
            "   macro avg       0.78      0.64      0.68      2141\n",
            "weighted avg       0.89      0.90      0.89      2141\n",
            "\n",
            "------------------------------------------------------------\n",
            "CV LR Model Test Performance\n",
            "------------------------------\n",
            "              precision    recall  f1-score   support\n",
            "\n",
            "           0       0.93      0.96      0.94      1902\n",
            "           1       0.57      0.40      0.47       239\n",
            "\n",
            "    accuracy                           0.90      2141\n",
            "   macro avg       0.75      0.68      0.71      2141\n",
            "weighted avg       0.89      0.90      0.89      2141\n",
            "\n",
            "------------------------------------------------------------\n",
            "Tfidf LR Model Test Performance\n",
            "------------------------------\n",
            "              precision    recall  f1-score   support\n",
            "\n",
            "           0       0.95      0.89      0.92      1902\n",
            "           1       0.40      0.61      0.48       239\n",
            "\n",
            "    accuracy                           0.86      2141\n",
            "   macro avg       0.67      0.75      0.70      2141\n",
            "weighted avg       0.89      0.86      0.87      2141\n",
            "\n",
            "------------------------------------------------------------\n",
            "W2V LR Model Test Performance\n",
            "------------------------------\n",
            "              precision    recall  f1-score   support\n",
            "\n",
            "           0       0.92      0.59      0.72      1902\n",
            "           1       0.16      0.62      0.25       239\n",
            "\n",
            "    accuracy                           0.60      2141\n",
            "   macro avg       0.54      0.60      0.49      2141\n",
            "weighted avg       0.84      0.60      0.67      2141\n",
            "\n",
            "------------------------------------------------------------\n",
            "LSTM Model Test Performance\n",
            "------------------------------\n",
            "              precision    recall  f1-score   support\n",
            "\n",
            "           0       0.93      0.91      0.92       951\n",
            "           1       0.39      0.48      0.43       120\n",
            "\n",
            "    accuracy                           0.86      1071\n",
            "   macro avg       0.66      0.69      0.68      1071\n",
            "weighted avg       0.87      0.86      0.86      1071\n",
            "\n",
            "------------------------------------------------------------\n"
          ]
        }
      ]
    },
    {
      "cell_type": "markdown",
      "source": [
        "## Classification test using best model (LR - CV)"
      ],
      "metadata": {
        "id": "aI8wtDnrHw0e"
      },
      "id": "aI8wtDnrHw0e"
    },
    {
      "cell_type": "markdown",
      "source": [
        "After comparing metrics from the above model types, we determined that the logistic regression model using count vectorization performed best at hate speech classification. The Tfidf approach for logistic regression performed similarly well, but we thought it more important to choose a model with fewer false positive hate speech assignments.\n",
        "\n",
        "This model is what we will end up using in the web app during part 3 of the project."
      ],
      "metadata": {
        "id": "g3m7njmcInBF"
      },
      "id": "g3m7njmcInBF"
    },
    {
      "cell_type": "code",
      "source": [
        "#normalize input text and convert features into vectors\n",
        "text_sample=[\"new foreigners , who reckon they can live amongest superiour , pagan blood\"]\n",
        "\n",
        "norm_text = normalize_text(text_sample)\n",
        "\n",
        "cv_text = cv.transform(norm_text)\n",
        "scores = lr_cv.predict_proba(cv_text)"
      ],
      "metadata": {
        "colab": {
          "base_uri": "https://localhost:8080/"
        },
        "id": "si59kmrbHw0e",
        "outputId": "07305955-1073-4bc4-abac-c2f5fd711652"
      },
      "execution_count": null,
      "outputs": [
        {
          "output_type": "stream",
          "name": "stderr",
          "text": [
            "/usr/local/lib/python3.10/dist-packages/sklearn/base.py:439: UserWarning: X does not have valid feature names, but LogisticRegression was fitted with feature names\n",
            "  warnings.warn(\n"
          ]
        }
      ],
      "id": "si59kmrbHw0e"
    },
    {
      "cell_type": "code",
      "source": [
        "print(text_sample)\n",
        "if scores[:,1] > 0.5:\n",
        "  print(\"This comment contains hate\")\n",
        "else:\n",
        "  print(\"Not a hate comment\")"
      ],
      "metadata": {
        "colab": {
          "base_uri": "https://localhost:8080/"
        },
        "outputId": "5542c403-479c-4ed7-85e4-7cf43bc29177",
        "id": "J95DtN8EHw0e"
      },
      "execution_count": null,
      "outputs": [
        {
          "output_type": "stream",
          "name": "stdout",
          "text": [
            "['new foreigners , who reckon they can live amongest superiour , pagan blood']\n",
            "This comment contains hate\n"
          ]
        }
      ],
      "id": "J95DtN8EHw0e"
    },
    {
      "cell_type": "code",
      "source": [
        "#normalize input text and convert features into vectors\n",
        "text_sample=[\"This whole situation starts to become really bizarre .\"]\n",
        "\n",
        "norm_text = normalize_text(text_sample)\n",
        "\n",
        "cv_text = cv.transform(norm_text)\n",
        "scores = lr_cv.predict_proba(cv_text)"
      ],
      "metadata": {
        "id": "v1G7hvBuHw0f"
      },
      "execution_count": null,
      "outputs": [],
      "id": "v1G7hvBuHw0f"
    },
    {
      "cell_type": "code",
      "source": [
        "print(text_sample)\n",
        "if scores[:,1] > 0.5:\n",
        "  print(\"This comment contains hate\")\n",
        "else:\n",
        "  print(\"Not a hate comment\")"
      ],
      "metadata": {
        "colab": {
          "base_uri": "https://localhost:8080/"
        },
        "outputId": "da93f1d2-db0b-49c0-cec4-2ba566253016",
        "id": "l2OYd_JSHw0f"
      },
      "execution_count": null,
      "outputs": [
        {
          "output_type": "stream",
          "name": "stdout",
          "text": [
            "['This whole situation starts to become really bizarre .']\n",
            "Not a hate comment\n"
          ]
        }
      ],
      "id": "l2OYd_JSHw0f"
    },
    {
      "cell_type": "markdown",
      "source": [
        "## References\n",
        "\n",
        "1. \"Twitter Sentiment Analysis Tutorial in Python w/ GloVe Word Embedding Vectors & LSTM Neural Networks.\" Youtube, uploaded by Greg Hogg, www.youtube.com/watch?v=e0WW5w13V64\n",
        "\n",
        "2. https://www.linkedin.com/pulse/count-vectorizers-vs-tfidf-natural-language-processing-sheel-saket\n",
        "\n",
        "3. https://www.kaggle.com/code/nitin194/twitter-sentiment-analysis-word2vec-doc2vec\n",
        "\n"
      ],
      "metadata": {
        "id": "TEqGYAyb6Q3O"
      },
      "id": "TEqGYAyb6Q3O"
    },
    {
      "cell_type": "markdown",
      "source": [
        "## Contribution Statements\n",
        "\n",
        "Binh Bui: Performed text cleaning and normalization, vectorization, and LSTM parts\n",
        "\n",
        "Pooja Rajan: Trained Logistic Regression with different vectorizers to select the best among the different models for classification based on the evaluation metrics.\n",
        "\n",
        "Alexander Watkins: Trained MultinomailNB, SGDC, SVC, and initial Logistic Regression models. Compared model performances using evaluation metrics. Organized separate individual scripts into final deliverable."
      ],
      "metadata": {
        "id": "k-kvkQ3LJ2Dy"
      },
      "id": "k-kvkQ3LJ2Dy"
    }
  ],
  "metadata": {
    "kernelspec": {
      "display_name": "Python 3",
      "name": "python3"
    },
    "language_info": {
      "codemirror_mode": {
        "name": "ipython",
        "version": 3
      },
      "file_extension": ".py",
      "mimetype": "text/x-python",
      "name": "python",
      "nbconvert_exporter": "python",
      "pygments_lexer": "ipython3",
      "version": "3.8.8"
    },
    "colab": {
      "provenance": [],
      "toc_visible": true,
      "gpuType": "T4",
      "include_colab_link": true
    },
    "accelerator": "GPU",
    "widgets": {
      "application/vnd.jupyter.widget-state+json": {
        "cf32a85595a3460c83cd67e745bcb579": {
          "model_module": "@jupyter-widgets/controls",
          "model_name": "HBoxModel",
          "model_module_version": "1.5.0",
          "state": {
            "_dom_classes": [],
            "_model_module": "@jupyter-widgets/controls",
            "_model_module_version": "1.5.0",
            "_model_name": "HBoxModel",
            "_view_count": null,
            "_view_module": "@jupyter-widgets/controls",
            "_view_module_version": "1.5.0",
            "_view_name": "HBoxView",
            "box_style": "",
            "children": [
              "IPY_MODEL_1fd58715fe87430fb681b459eeab2ec7",
              "IPY_MODEL_4cd6278367254552ac855e30577abc5a",
              "IPY_MODEL_c2bc5f5093ad45d3a265cbd88904aa9d"
            ],
            "layout": "IPY_MODEL_2ef2e871a97e40caa92028e05be9903f"
          }
        },
        "1fd58715fe87430fb681b459eeab2ec7": {
          "model_module": "@jupyter-widgets/controls",
          "model_name": "HTMLModel",
          "model_module_version": "1.5.0",
          "state": {
            "_dom_classes": [],
            "_model_module": "@jupyter-widgets/controls",
            "_model_module_version": "1.5.0",
            "_model_name": "HTMLModel",
            "_view_count": null,
            "_view_module": "@jupyter-widgets/controls",
            "_view_module_version": "1.5.0",
            "_view_name": "HTMLView",
            "description": "",
            "description_tooltip": null,
            "layout": "IPY_MODEL_dfd70226de044fe3b59574ca22dc2c55",
            "placeholder": "​",
            "style": "IPY_MODEL_d3bc86b48b864023828a3d323bf52b47",
            "value": "Downloading builder script: 100%"
          }
        },
        "4cd6278367254552ac855e30577abc5a": {
          "model_module": "@jupyter-widgets/controls",
          "model_name": "FloatProgressModel",
          "model_module_version": "1.5.0",
          "state": {
            "_dom_classes": [],
            "_model_module": "@jupyter-widgets/controls",
            "_model_module_version": "1.5.0",
            "_model_name": "FloatProgressModel",
            "_view_count": null,
            "_view_module": "@jupyter-widgets/controls",
            "_view_module_version": "1.5.0",
            "_view_name": "ProgressView",
            "bar_style": "success",
            "description": "",
            "description_tooltip": null,
            "layout": "IPY_MODEL_65140105b3ad438caf86a149d7791460",
            "max": 3412,
            "min": 0,
            "orientation": "horizontal",
            "style": "IPY_MODEL_8ae18c966c21436b8d7f02c2cf28470b",
            "value": 3412
          }
        },
        "c2bc5f5093ad45d3a265cbd88904aa9d": {
          "model_module": "@jupyter-widgets/controls",
          "model_name": "HTMLModel",
          "model_module_version": "1.5.0",
          "state": {
            "_dom_classes": [],
            "_model_module": "@jupyter-widgets/controls",
            "_model_module_version": "1.5.0",
            "_model_name": "HTMLModel",
            "_view_count": null,
            "_view_module": "@jupyter-widgets/controls",
            "_view_module_version": "1.5.0",
            "_view_name": "HTMLView",
            "description": "",
            "description_tooltip": null,
            "layout": "IPY_MODEL_a5ce8ee9b052414b9b762f545dc7d035",
            "placeholder": "​",
            "style": "IPY_MODEL_77a2a152ec824af7b9bcaacb2a9976cd",
            "value": " 3.41k/3.41k [00:00&lt;00:00, 100kB/s]"
          }
        },
        "2ef2e871a97e40caa92028e05be9903f": {
          "model_module": "@jupyter-widgets/base",
          "model_name": "LayoutModel",
          "model_module_version": "1.2.0",
          "state": {
            "_model_module": "@jupyter-widgets/base",
            "_model_module_version": "1.2.0",
            "_model_name": "LayoutModel",
            "_view_count": null,
            "_view_module": "@jupyter-widgets/base",
            "_view_module_version": "1.2.0",
            "_view_name": "LayoutView",
            "align_content": null,
            "align_items": null,
            "align_self": null,
            "border": null,
            "bottom": null,
            "display": null,
            "flex": null,
            "flex_flow": null,
            "grid_area": null,
            "grid_auto_columns": null,
            "grid_auto_flow": null,
            "grid_auto_rows": null,
            "grid_column": null,
            "grid_gap": null,
            "grid_row": null,
            "grid_template_areas": null,
            "grid_template_columns": null,
            "grid_template_rows": null,
            "height": null,
            "justify_content": null,
            "justify_items": null,
            "left": null,
            "margin": null,
            "max_height": null,
            "max_width": null,
            "min_height": null,
            "min_width": null,
            "object_fit": null,
            "object_position": null,
            "order": null,
            "overflow": null,
            "overflow_x": null,
            "overflow_y": null,
            "padding": null,
            "right": null,
            "top": null,
            "visibility": null,
            "width": null
          }
        },
        "dfd70226de044fe3b59574ca22dc2c55": {
          "model_module": "@jupyter-widgets/base",
          "model_name": "LayoutModel",
          "model_module_version": "1.2.0",
          "state": {
            "_model_module": "@jupyter-widgets/base",
            "_model_module_version": "1.2.0",
            "_model_name": "LayoutModel",
            "_view_count": null,
            "_view_module": "@jupyter-widgets/base",
            "_view_module_version": "1.2.0",
            "_view_name": "LayoutView",
            "align_content": null,
            "align_items": null,
            "align_self": null,
            "border": null,
            "bottom": null,
            "display": null,
            "flex": null,
            "flex_flow": null,
            "grid_area": null,
            "grid_auto_columns": null,
            "grid_auto_flow": null,
            "grid_auto_rows": null,
            "grid_column": null,
            "grid_gap": null,
            "grid_row": null,
            "grid_template_areas": null,
            "grid_template_columns": null,
            "grid_template_rows": null,
            "height": null,
            "justify_content": null,
            "justify_items": null,
            "left": null,
            "margin": null,
            "max_height": null,
            "max_width": null,
            "min_height": null,
            "min_width": null,
            "object_fit": null,
            "object_position": null,
            "order": null,
            "overflow": null,
            "overflow_x": null,
            "overflow_y": null,
            "padding": null,
            "right": null,
            "top": null,
            "visibility": null,
            "width": null
          }
        },
        "d3bc86b48b864023828a3d323bf52b47": {
          "model_module": "@jupyter-widgets/controls",
          "model_name": "DescriptionStyleModel",
          "model_module_version": "1.5.0",
          "state": {
            "_model_module": "@jupyter-widgets/controls",
            "_model_module_version": "1.5.0",
            "_model_name": "DescriptionStyleModel",
            "_view_count": null,
            "_view_module": "@jupyter-widgets/base",
            "_view_module_version": "1.2.0",
            "_view_name": "StyleView",
            "description_width": ""
          }
        },
        "65140105b3ad438caf86a149d7791460": {
          "model_module": "@jupyter-widgets/base",
          "model_name": "LayoutModel",
          "model_module_version": "1.2.0",
          "state": {
            "_model_module": "@jupyter-widgets/base",
            "_model_module_version": "1.2.0",
            "_model_name": "LayoutModel",
            "_view_count": null,
            "_view_module": "@jupyter-widgets/base",
            "_view_module_version": "1.2.0",
            "_view_name": "LayoutView",
            "align_content": null,
            "align_items": null,
            "align_self": null,
            "border": null,
            "bottom": null,
            "display": null,
            "flex": null,
            "flex_flow": null,
            "grid_area": null,
            "grid_auto_columns": null,
            "grid_auto_flow": null,
            "grid_auto_rows": null,
            "grid_column": null,
            "grid_gap": null,
            "grid_row": null,
            "grid_template_areas": null,
            "grid_template_columns": null,
            "grid_template_rows": null,
            "height": null,
            "justify_content": null,
            "justify_items": null,
            "left": null,
            "margin": null,
            "max_height": null,
            "max_width": null,
            "min_height": null,
            "min_width": null,
            "object_fit": null,
            "object_position": null,
            "order": null,
            "overflow": null,
            "overflow_x": null,
            "overflow_y": null,
            "padding": null,
            "right": null,
            "top": null,
            "visibility": null,
            "width": null
          }
        },
        "8ae18c966c21436b8d7f02c2cf28470b": {
          "model_module": "@jupyter-widgets/controls",
          "model_name": "ProgressStyleModel",
          "model_module_version": "1.5.0",
          "state": {
            "_model_module": "@jupyter-widgets/controls",
            "_model_module_version": "1.5.0",
            "_model_name": "ProgressStyleModel",
            "_view_count": null,
            "_view_module": "@jupyter-widgets/base",
            "_view_module_version": "1.2.0",
            "_view_name": "StyleView",
            "bar_color": null,
            "description_width": ""
          }
        },
        "a5ce8ee9b052414b9b762f545dc7d035": {
          "model_module": "@jupyter-widgets/base",
          "model_name": "LayoutModel",
          "model_module_version": "1.2.0",
          "state": {
            "_model_module": "@jupyter-widgets/base",
            "_model_module_version": "1.2.0",
            "_model_name": "LayoutModel",
            "_view_count": null,
            "_view_module": "@jupyter-widgets/base",
            "_view_module_version": "1.2.0",
            "_view_name": "LayoutView",
            "align_content": null,
            "align_items": null,
            "align_self": null,
            "border": null,
            "bottom": null,
            "display": null,
            "flex": null,
            "flex_flow": null,
            "grid_area": null,
            "grid_auto_columns": null,
            "grid_auto_flow": null,
            "grid_auto_rows": null,
            "grid_column": null,
            "grid_gap": null,
            "grid_row": null,
            "grid_template_areas": null,
            "grid_template_columns": null,
            "grid_template_rows": null,
            "height": null,
            "justify_content": null,
            "justify_items": null,
            "left": null,
            "margin": null,
            "max_height": null,
            "max_width": null,
            "min_height": null,
            "min_width": null,
            "object_fit": null,
            "object_position": null,
            "order": null,
            "overflow": null,
            "overflow_x": null,
            "overflow_y": null,
            "padding": null,
            "right": null,
            "top": null,
            "visibility": null,
            "width": null
          }
        },
        "77a2a152ec824af7b9bcaacb2a9976cd": {
          "model_module": "@jupyter-widgets/controls",
          "model_name": "DescriptionStyleModel",
          "model_module_version": "1.5.0",
          "state": {
            "_model_module": "@jupyter-widgets/controls",
            "_model_module_version": "1.5.0",
            "_model_name": "DescriptionStyleModel",
            "_view_count": null,
            "_view_module": "@jupyter-widgets/base",
            "_view_module_version": "1.2.0",
            "_view_name": "StyleView",
            "description_width": ""
          }
        },
        "e9e4bf40f5e04ca4ab1a6ab320a3b859": {
          "model_module": "@jupyter-widgets/controls",
          "model_name": "HBoxModel",
          "model_module_version": "1.5.0",
          "state": {
            "_dom_classes": [],
            "_model_module": "@jupyter-widgets/controls",
            "_model_module_version": "1.5.0",
            "_model_name": "HBoxModel",
            "_view_count": null,
            "_view_module": "@jupyter-widgets/controls",
            "_view_module_version": "1.5.0",
            "_view_name": "HBoxView",
            "box_style": "",
            "children": [
              "IPY_MODEL_675d880def3e4c85b7b4d36b3842136d",
              "IPY_MODEL_4c122dfd70a44bcc90ef507e408f59be",
              "IPY_MODEL_eb64509b7fde4fb9a71a4d9aff2ff0e8"
            ],
            "layout": "IPY_MODEL_74ec75ac7da54d00af773cab46852849"
          }
        },
        "675d880def3e4c85b7b4d36b3842136d": {
          "model_module": "@jupyter-widgets/controls",
          "model_name": "HTMLModel",
          "model_module_version": "1.5.0",
          "state": {
            "_dom_classes": [],
            "_model_module": "@jupyter-widgets/controls",
            "_model_module_version": "1.5.0",
            "_model_name": "HTMLModel",
            "_view_count": null,
            "_view_module": "@jupyter-widgets/controls",
            "_view_module_version": "1.5.0",
            "_view_name": "HTMLView",
            "description": "",
            "description_tooltip": null,
            "layout": "IPY_MODEL_5774c25c1d7246d588e43a853cabf695",
            "placeholder": "​",
            "style": "IPY_MODEL_882c27573bba4c2d9744b8eab91eeb8a",
            "value": "Downloading metadata: 100%"
          }
        },
        "4c122dfd70a44bcc90ef507e408f59be": {
          "model_module": "@jupyter-widgets/controls",
          "model_name": "FloatProgressModel",
          "model_module_version": "1.5.0",
          "state": {
            "_dom_classes": [],
            "_model_module": "@jupyter-widgets/controls",
            "_model_module_version": "1.5.0",
            "_model_name": "FloatProgressModel",
            "_view_count": null,
            "_view_module": "@jupyter-widgets/controls",
            "_view_module_version": "1.5.0",
            "_view_name": "ProgressView",
            "bar_style": "success",
            "description": "",
            "description_tooltip": null,
            "layout": "IPY_MODEL_88aa90c73c1a44c293e7531b6d91b5b5",
            "max": 2039,
            "min": 0,
            "orientation": "horizontal",
            "style": "IPY_MODEL_e4ff98d57ae8426dbe5e51cc292345fe",
            "value": 2039
          }
        },
        "eb64509b7fde4fb9a71a4d9aff2ff0e8": {
          "model_module": "@jupyter-widgets/controls",
          "model_name": "HTMLModel",
          "model_module_version": "1.5.0",
          "state": {
            "_dom_classes": [],
            "_model_module": "@jupyter-widgets/controls",
            "_model_module_version": "1.5.0",
            "_model_name": "HTMLModel",
            "_view_count": null,
            "_view_module": "@jupyter-widgets/controls",
            "_view_module_version": "1.5.0",
            "_view_name": "HTMLView",
            "description": "",
            "description_tooltip": null,
            "layout": "IPY_MODEL_171a3d8b8d734fdd9643e1163549ab6f",
            "placeholder": "​",
            "style": "IPY_MODEL_44616496433a4193b0f50175642d8873",
            "value": " 2.04k/2.04k [00:00&lt;00:00, 84.8kB/s]"
          }
        },
        "74ec75ac7da54d00af773cab46852849": {
          "model_module": "@jupyter-widgets/base",
          "model_name": "LayoutModel",
          "model_module_version": "1.2.0",
          "state": {
            "_model_module": "@jupyter-widgets/base",
            "_model_module_version": "1.2.0",
            "_model_name": "LayoutModel",
            "_view_count": null,
            "_view_module": "@jupyter-widgets/base",
            "_view_module_version": "1.2.0",
            "_view_name": "LayoutView",
            "align_content": null,
            "align_items": null,
            "align_self": null,
            "border": null,
            "bottom": null,
            "display": null,
            "flex": null,
            "flex_flow": null,
            "grid_area": null,
            "grid_auto_columns": null,
            "grid_auto_flow": null,
            "grid_auto_rows": null,
            "grid_column": null,
            "grid_gap": null,
            "grid_row": null,
            "grid_template_areas": null,
            "grid_template_columns": null,
            "grid_template_rows": null,
            "height": null,
            "justify_content": null,
            "justify_items": null,
            "left": null,
            "margin": null,
            "max_height": null,
            "max_width": null,
            "min_height": null,
            "min_width": null,
            "object_fit": null,
            "object_position": null,
            "order": null,
            "overflow": null,
            "overflow_x": null,
            "overflow_y": null,
            "padding": null,
            "right": null,
            "top": null,
            "visibility": null,
            "width": null
          }
        },
        "5774c25c1d7246d588e43a853cabf695": {
          "model_module": "@jupyter-widgets/base",
          "model_name": "LayoutModel",
          "model_module_version": "1.2.0",
          "state": {
            "_model_module": "@jupyter-widgets/base",
            "_model_module_version": "1.2.0",
            "_model_name": "LayoutModel",
            "_view_count": null,
            "_view_module": "@jupyter-widgets/base",
            "_view_module_version": "1.2.0",
            "_view_name": "LayoutView",
            "align_content": null,
            "align_items": null,
            "align_self": null,
            "border": null,
            "bottom": null,
            "display": null,
            "flex": null,
            "flex_flow": null,
            "grid_area": null,
            "grid_auto_columns": null,
            "grid_auto_flow": null,
            "grid_auto_rows": null,
            "grid_column": null,
            "grid_gap": null,
            "grid_row": null,
            "grid_template_areas": null,
            "grid_template_columns": null,
            "grid_template_rows": null,
            "height": null,
            "justify_content": null,
            "justify_items": null,
            "left": null,
            "margin": null,
            "max_height": null,
            "max_width": null,
            "min_height": null,
            "min_width": null,
            "object_fit": null,
            "object_position": null,
            "order": null,
            "overflow": null,
            "overflow_x": null,
            "overflow_y": null,
            "padding": null,
            "right": null,
            "top": null,
            "visibility": null,
            "width": null
          }
        },
        "882c27573bba4c2d9744b8eab91eeb8a": {
          "model_module": "@jupyter-widgets/controls",
          "model_name": "DescriptionStyleModel",
          "model_module_version": "1.5.0",
          "state": {
            "_model_module": "@jupyter-widgets/controls",
            "_model_module_version": "1.5.0",
            "_model_name": "DescriptionStyleModel",
            "_view_count": null,
            "_view_module": "@jupyter-widgets/base",
            "_view_module_version": "1.2.0",
            "_view_name": "StyleView",
            "description_width": ""
          }
        },
        "88aa90c73c1a44c293e7531b6d91b5b5": {
          "model_module": "@jupyter-widgets/base",
          "model_name": "LayoutModel",
          "model_module_version": "1.2.0",
          "state": {
            "_model_module": "@jupyter-widgets/base",
            "_model_module_version": "1.2.0",
            "_model_name": "LayoutModel",
            "_view_count": null,
            "_view_module": "@jupyter-widgets/base",
            "_view_module_version": "1.2.0",
            "_view_name": "LayoutView",
            "align_content": null,
            "align_items": null,
            "align_self": null,
            "border": null,
            "bottom": null,
            "display": null,
            "flex": null,
            "flex_flow": null,
            "grid_area": null,
            "grid_auto_columns": null,
            "grid_auto_flow": null,
            "grid_auto_rows": null,
            "grid_column": null,
            "grid_gap": null,
            "grid_row": null,
            "grid_template_areas": null,
            "grid_template_columns": null,
            "grid_template_rows": null,
            "height": null,
            "justify_content": null,
            "justify_items": null,
            "left": null,
            "margin": null,
            "max_height": null,
            "max_width": null,
            "min_height": null,
            "min_width": null,
            "object_fit": null,
            "object_position": null,
            "order": null,
            "overflow": null,
            "overflow_x": null,
            "overflow_y": null,
            "padding": null,
            "right": null,
            "top": null,
            "visibility": null,
            "width": null
          }
        },
        "e4ff98d57ae8426dbe5e51cc292345fe": {
          "model_module": "@jupyter-widgets/controls",
          "model_name": "ProgressStyleModel",
          "model_module_version": "1.5.0",
          "state": {
            "_model_module": "@jupyter-widgets/controls",
            "_model_module_version": "1.5.0",
            "_model_name": "ProgressStyleModel",
            "_view_count": null,
            "_view_module": "@jupyter-widgets/base",
            "_view_module_version": "1.2.0",
            "_view_name": "StyleView",
            "bar_color": null,
            "description_width": ""
          }
        },
        "171a3d8b8d734fdd9643e1163549ab6f": {
          "model_module": "@jupyter-widgets/base",
          "model_name": "LayoutModel",
          "model_module_version": "1.2.0",
          "state": {
            "_model_module": "@jupyter-widgets/base",
            "_model_module_version": "1.2.0",
            "_model_name": "LayoutModel",
            "_view_count": null,
            "_view_module": "@jupyter-widgets/base",
            "_view_module_version": "1.2.0",
            "_view_name": "LayoutView",
            "align_content": null,
            "align_items": null,
            "align_self": null,
            "border": null,
            "bottom": null,
            "display": null,
            "flex": null,
            "flex_flow": null,
            "grid_area": null,
            "grid_auto_columns": null,
            "grid_auto_flow": null,
            "grid_auto_rows": null,
            "grid_column": null,
            "grid_gap": null,
            "grid_row": null,
            "grid_template_areas": null,
            "grid_template_columns": null,
            "grid_template_rows": null,
            "height": null,
            "justify_content": null,
            "justify_items": null,
            "left": null,
            "margin": null,
            "max_height": null,
            "max_width": null,
            "min_height": null,
            "min_width": null,
            "object_fit": null,
            "object_position": null,
            "order": null,
            "overflow": null,
            "overflow_x": null,
            "overflow_y": null,
            "padding": null,
            "right": null,
            "top": null,
            "visibility": null,
            "width": null
          }
        },
        "44616496433a4193b0f50175642d8873": {
          "model_module": "@jupyter-widgets/controls",
          "model_name": "DescriptionStyleModel",
          "model_module_version": "1.5.0",
          "state": {
            "_model_module": "@jupyter-widgets/controls",
            "_model_module_version": "1.5.0",
            "_model_name": "DescriptionStyleModel",
            "_view_count": null,
            "_view_module": "@jupyter-widgets/base",
            "_view_module_version": "1.2.0",
            "_view_name": "StyleView",
            "description_width": ""
          }
        },
        "83374668902042beb36889aeec69fcbf": {
          "model_module": "@jupyter-widgets/controls",
          "model_name": "HBoxModel",
          "model_module_version": "1.5.0",
          "state": {
            "_dom_classes": [],
            "_model_module": "@jupyter-widgets/controls",
            "_model_module_version": "1.5.0",
            "_model_name": "HBoxModel",
            "_view_count": null,
            "_view_module": "@jupyter-widgets/controls",
            "_view_module_version": "1.5.0",
            "_view_name": "HBoxView",
            "box_style": "",
            "children": [
              "IPY_MODEL_2d9018b5d422440b884eb417384d7469",
              "IPY_MODEL_3a1fbf08e3d4415db4bd1f90ca8507c4",
              "IPY_MODEL_0682bb5b8bd24b629efac58ce1632534"
            ],
            "layout": "IPY_MODEL_abd9fa5487554bb6b9db47bb1d4206a8"
          }
        },
        "2d9018b5d422440b884eb417384d7469": {
          "model_module": "@jupyter-widgets/controls",
          "model_name": "HTMLModel",
          "model_module_version": "1.5.0",
          "state": {
            "_dom_classes": [],
            "_model_module": "@jupyter-widgets/controls",
            "_model_module_version": "1.5.0",
            "_model_name": "HTMLModel",
            "_view_count": null,
            "_view_module": "@jupyter-widgets/controls",
            "_view_module_version": "1.5.0",
            "_view_name": "HTMLView",
            "description": "",
            "description_tooltip": null,
            "layout": "IPY_MODEL_93208433f376441e9dcb3d2df19d6b8f",
            "placeholder": "​",
            "style": "IPY_MODEL_42b2821329f24e08b46246b470270989",
            "value": "Downloading readme: 100%"
          }
        },
        "3a1fbf08e3d4415db4bd1f90ca8507c4": {
          "model_module": "@jupyter-widgets/controls",
          "model_name": "FloatProgressModel",
          "model_module_version": "1.5.0",
          "state": {
            "_dom_classes": [],
            "_model_module": "@jupyter-widgets/controls",
            "_model_module_version": "1.5.0",
            "_model_name": "FloatProgressModel",
            "_view_count": null,
            "_view_module": "@jupyter-widgets/controls",
            "_view_module_version": "1.5.0",
            "_view_name": "ProgressView",
            "bar_style": "success",
            "description": "",
            "description_tooltip": null,
            "layout": "IPY_MODEL_23b9ec4b73ab4504a0ea42fdb69d0a20",
            "max": 5610,
            "min": 0,
            "orientation": "horizontal",
            "style": "IPY_MODEL_9db8d6c046d24ba08d4cef00524c5704",
            "value": 5610
          }
        },
        "0682bb5b8bd24b629efac58ce1632534": {
          "model_module": "@jupyter-widgets/controls",
          "model_name": "HTMLModel",
          "model_module_version": "1.5.0",
          "state": {
            "_dom_classes": [],
            "_model_module": "@jupyter-widgets/controls",
            "_model_module_version": "1.5.0",
            "_model_name": "HTMLModel",
            "_view_count": null,
            "_view_module": "@jupyter-widgets/controls",
            "_view_module_version": "1.5.0",
            "_view_name": "HTMLView",
            "description": "",
            "description_tooltip": null,
            "layout": "IPY_MODEL_5738abdd758b4be59bc09b2ee84c084f",
            "placeholder": "​",
            "style": "IPY_MODEL_9db47ddd4a7a4435a2b51c99e522b978",
            "value": " 5.61k/5.61k [00:00&lt;00:00, 96.1kB/s]"
          }
        },
        "abd9fa5487554bb6b9db47bb1d4206a8": {
          "model_module": "@jupyter-widgets/base",
          "model_name": "LayoutModel",
          "model_module_version": "1.2.0",
          "state": {
            "_model_module": "@jupyter-widgets/base",
            "_model_module_version": "1.2.0",
            "_model_name": "LayoutModel",
            "_view_count": null,
            "_view_module": "@jupyter-widgets/base",
            "_view_module_version": "1.2.0",
            "_view_name": "LayoutView",
            "align_content": null,
            "align_items": null,
            "align_self": null,
            "border": null,
            "bottom": null,
            "display": null,
            "flex": null,
            "flex_flow": null,
            "grid_area": null,
            "grid_auto_columns": null,
            "grid_auto_flow": null,
            "grid_auto_rows": null,
            "grid_column": null,
            "grid_gap": null,
            "grid_row": null,
            "grid_template_areas": null,
            "grid_template_columns": null,
            "grid_template_rows": null,
            "height": null,
            "justify_content": null,
            "justify_items": null,
            "left": null,
            "margin": null,
            "max_height": null,
            "max_width": null,
            "min_height": null,
            "min_width": null,
            "object_fit": null,
            "object_position": null,
            "order": null,
            "overflow": null,
            "overflow_x": null,
            "overflow_y": null,
            "padding": null,
            "right": null,
            "top": null,
            "visibility": null,
            "width": null
          }
        },
        "93208433f376441e9dcb3d2df19d6b8f": {
          "model_module": "@jupyter-widgets/base",
          "model_name": "LayoutModel",
          "model_module_version": "1.2.0",
          "state": {
            "_model_module": "@jupyter-widgets/base",
            "_model_module_version": "1.2.0",
            "_model_name": "LayoutModel",
            "_view_count": null,
            "_view_module": "@jupyter-widgets/base",
            "_view_module_version": "1.2.0",
            "_view_name": "LayoutView",
            "align_content": null,
            "align_items": null,
            "align_self": null,
            "border": null,
            "bottom": null,
            "display": null,
            "flex": null,
            "flex_flow": null,
            "grid_area": null,
            "grid_auto_columns": null,
            "grid_auto_flow": null,
            "grid_auto_rows": null,
            "grid_column": null,
            "grid_gap": null,
            "grid_row": null,
            "grid_template_areas": null,
            "grid_template_columns": null,
            "grid_template_rows": null,
            "height": null,
            "justify_content": null,
            "justify_items": null,
            "left": null,
            "margin": null,
            "max_height": null,
            "max_width": null,
            "min_height": null,
            "min_width": null,
            "object_fit": null,
            "object_position": null,
            "order": null,
            "overflow": null,
            "overflow_x": null,
            "overflow_y": null,
            "padding": null,
            "right": null,
            "top": null,
            "visibility": null,
            "width": null
          }
        },
        "42b2821329f24e08b46246b470270989": {
          "model_module": "@jupyter-widgets/controls",
          "model_name": "DescriptionStyleModel",
          "model_module_version": "1.5.0",
          "state": {
            "_model_module": "@jupyter-widgets/controls",
            "_model_module_version": "1.5.0",
            "_model_name": "DescriptionStyleModel",
            "_view_count": null,
            "_view_module": "@jupyter-widgets/base",
            "_view_module_version": "1.2.0",
            "_view_name": "StyleView",
            "description_width": ""
          }
        },
        "23b9ec4b73ab4504a0ea42fdb69d0a20": {
          "model_module": "@jupyter-widgets/base",
          "model_name": "LayoutModel",
          "model_module_version": "1.2.0",
          "state": {
            "_model_module": "@jupyter-widgets/base",
            "_model_module_version": "1.2.0",
            "_model_name": "LayoutModel",
            "_view_count": null,
            "_view_module": "@jupyter-widgets/base",
            "_view_module_version": "1.2.0",
            "_view_name": "LayoutView",
            "align_content": null,
            "align_items": null,
            "align_self": null,
            "border": null,
            "bottom": null,
            "display": null,
            "flex": null,
            "flex_flow": null,
            "grid_area": null,
            "grid_auto_columns": null,
            "grid_auto_flow": null,
            "grid_auto_rows": null,
            "grid_column": null,
            "grid_gap": null,
            "grid_row": null,
            "grid_template_areas": null,
            "grid_template_columns": null,
            "grid_template_rows": null,
            "height": null,
            "justify_content": null,
            "justify_items": null,
            "left": null,
            "margin": null,
            "max_height": null,
            "max_width": null,
            "min_height": null,
            "min_width": null,
            "object_fit": null,
            "object_position": null,
            "order": null,
            "overflow": null,
            "overflow_x": null,
            "overflow_y": null,
            "padding": null,
            "right": null,
            "top": null,
            "visibility": null,
            "width": null
          }
        },
        "9db8d6c046d24ba08d4cef00524c5704": {
          "model_module": "@jupyter-widgets/controls",
          "model_name": "ProgressStyleModel",
          "model_module_version": "1.5.0",
          "state": {
            "_model_module": "@jupyter-widgets/controls",
            "_model_module_version": "1.5.0",
            "_model_name": "ProgressStyleModel",
            "_view_count": null,
            "_view_module": "@jupyter-widgets/base",
            "_view_module_version": "1.2.0",
            "_view_name": "StyleView",
            "bar_color": null,
            "description_width": ""
          }
        },
        "5738abdd758b4be59bc09b2ee84c084f": {
          "model_module": "@jupyter-widgets/base",
          "model_name": "LayoutModel",
          "model_module_version": "1.2.0",
          "state": {
            "_model_module": "@jupyter-widgets/base",
            "_model_module_version": "1.2.0",
            "_model_name": "LayoutModel",
            "_view_count": null,
            "_view_module": "@jupyter-widgets/base",
            "_view_module_version": "1.2.0",
            "_view_name": "LayoutView",
            "align_content": null,
            "align_items": null,
            "align_self": null,
            "border": null,
            "bottom": null,
            "display": null,
            "flex": null,
            "flex_flow": null,
            "grid_area": null,
            "grid_auto_columns": null,
            "grid_auto_flow": null,
            "grid_auto_rows": null,
            "grid_column": null,
            "grid_gap": null,
            "grid_row": null,
            "grid_template_areas": null,
            "grid_template_columns": null,
            "grid_template_rows": null,
            "height": null,
            "justify_content": null,
            "justify_items": null,
            "left": null,
            "margin": null,
            "max_height": null,
            "max_width": null,
            "min_height": null,
            "min_width": null,
            "object_fit": null,
            "object_position": null,
            "order": null,
            "overflow": null,
            "overflow_x": null,
            "overflow_y": null,
            "padding": null,
            "right": null,
            "top": null,
            "visibility": null,
            "width": null
          }
        },
        "9db47ddd4a7a4435a2b51c99e522b978": {
          "model_module": "@jupyter-widgets/controls",
          "model_name": "DescriptionStyleModel",
          "model_module_version": "1.5.0",
          "state": {
            "_model_module": "@jupyter-widgets/controls",
            "_model_module_version": "1.5.0",
            "_model_name": "DescriptionStyleModel",
            "_view_count": null,
            "_view_module": "@jupyter-widgets/base",
            "_view_module_version": "1.2.0",
            "_view_name": "StyleView",
            "description_width": ""
          }
        },
        "ad04c9e67e1441fca3b56bde469c5adf": {
          "model_module": "@jupyter-widgets/controls",
          "model_name": "HBoxModel",
          "model_module_version": "1.5.0",
          "state": {
            "_dom_classes": [],
            "_model_module": "@jupyter-widgets/controls",
            "_model_module_version": "1.5.0",
            "_model_name": "HBoxModel",
            "_view_count": null,
            "_view_module": "@jupyter-widgets/controls",
            "_view_module_version": "1.5.0",
            "_view_name": "HBoxView",
            "box_style": "",
            "children": [
              "IPY_MODEL_3170c7121f2243b883b4076c1cf48f54",
              "IPY_MODEL_9e91b8c1492d43e384d28ca1bb080e9c",
              "IPY_MODEL_0905c4a066944b18bf3ff28c129e044a"
            ],
            "layout": "IPY_MODEL_45ab91f294cc455f9d45f7df38011f63"
          }
        },
        "3170c7121f2243b883b4076c1cf48f54": {
          "model_module": "@jupyter-widgets/controls",
          "model_name": "HTMLModel",
          "model_module_version": "1.5.0",
          "state": {
            "_dom_classes": [],
            "_model_module": "@jupyter-widgets/controls",
            "_model_module_version": "1.5.0",
            "_model_name": "HTMLModel",
            "_view_count": null,
            "_view_module": "@jupyter-widgets/controls",
            "_view_module_version": "1.5.0",
            "_view_name": "HTMLView",
            "description": "",
            "description_tooltip": null,
            "layout": "IPY_MODEL_192a450dfe264736aaeec146dc5b76f4",
            "placeholder": "​",
            "style": "IPY_MODEL_d27def55b85f46709ee6f9f2a6f8f998",
            "value": "Downloading data: 100%"
          }
        },
        "9e91b8c1492d43e384d28ca1bb080e9c": {
          "model_module": "@jupyter-widgets/controls",
          "model_name": "FloatProgressModel",
          "model_module_version": "1.5.0",
          "state": {
            "_dom_classes": [],
            "_model_module": "@jupyter-widgets/controls",
            "_model_module_version": "1.5.0",
            "_model_name": "FloatProgressModel",
            "_view_count": null,
            "_view_module": "@jupyter-widgets/controls",
            "_view_module_version": "1.5.0",
            "_view_name": "ProgressView",
            "bar_style": "success",
            "description": "",
            "description_tooltip": null,
            "layout": "IPY_MODEL_9c49e8ffd61a4d419ff559be8632cd55",
            "max": 3185028,
            "min": 0,
            "orientation": "horizontal",
            "style": "IPY_MODEL_c9acb080e66f4a41bdc0d31d37ea8d9f",
            "value": 3185028
          }
        },
        "0905c4a066944b18bf3ff28c129e044a": {
          "model_module": "@jupyter-widgets/controls",
          "model_name": "HTMLModel",
          "model_module_version": "1.5.0",
          "state": {
            "_dom_classes": [],
            "_model_module": "@jupyter-widgets/controls",
            "_model_module_version": "1.5.0",
            "_model_name": "HTMLModel",
            "_view_count": null,
            "_view_module": "@jupyter-widgets/controls",
            "_view_module_version": "1.5.0",
            "_view_name": "HTMLView",
            "description": "",
            "description_tooltip": null,
            "layout": "IPY_MODEL_5110f7a1a0e7431486bd4623abd23200",
            "placeholder": "​",
            "style": "IPY_MODEL_995a14da72d74089b9b9c2a458aebba1",
            "value": " 3.19M/3.19M [00:00&lt;00:00, 6.70MB/s]"
          }
        },
        "45ab91f294cc455f9d45f7df38011f63": {
          "model_module": "@jupyter-widgets/base",
          "model_name": "LayoutModel",
          "model_module_version": "1.2.0",
          "state": {
            "_model_module": "@jupyter-widgets/base",
            "_model_module_version": "1.2.0",
            "_model_name": "LayoutModel",
            "_view_count": null,
            "_view_module": "@jupyter-widgets/base",
            "_view_module_version": "1.2.0",
            "_view_name": "LayoutView",
            "align_content": null,
            "align_items": null,
            "align_self": null,
            "border": null,
            "bottom": null,
            "display": null,
            "flex": null,
            "flex_flow": null,
            "grid_area": null,
            "grid_auto_columns": null,
            "grid_auto_flow": null,
            "grid_auto_rows": null,
            "grid_column": null,
            "grid_gap": null,
            "grid_row": null,
            "grid_template_areas": null,
            "grid_template_columns": null,
            "grid_template_rows": null,
            "height": null,
            "justify_content": null,
            "justify_items": null,
            "left": null,
            "margin": null,
            "max_height": null,
            "max_width": null,
            "min_height": null,
            "min_width": null,
            "object_fit": null,
            "object_position": null,
            "order": null,
            "overflow": null,
            "overflow_x": null,
            "overflow_y": null,
            "padding": null,
            "right": null,
            "top": null,
            "visibility": null,
            "width": null
          }
        },
        "192a450dfe264736aaeec146dc5b76f4": {
          "model_module": "@jupyter-widgets/base",
          "model_name": "LayoutModel",
          "model_module_version": "1.2.0",
          "state": {
            "_model_module": "@jupyter-widgets/base",
            "_model_module_version": "1.2.0",
            "_model_name": "LayoutModel",
            "_view_count": null,
            "_view_module": "@jupyter-widgets/base",
            "_view_module_version": "1.2.0",
            "_view_name": "LayoutView",
            "align_content": null,
            "align_items": null,
            "align_self": null,
            "border": null,
            "bottom": null,
            "display": null,
            "flex": null,
            "flex_flow": null,
            "grid_area": null,
            "grid_auto_columns": null,
            "grid_auto_flow": null,
            "grid_auto_rows": null,
            "grid_column": null,
            "grid_gap": null,
            "grid_row": null,
            "grid_template_areas": null,
            "grid_template_columns": null,
            "grid_template_rows": null,
            "height": null,
            "justify_content": null,
            "justify_items": null,
            "left": null,
            "margin": null,
            "max_height": null,
            "max_width": null,
            "min_height": null,
            "min_width": null,
            "object_fit": null,
            "object_position": null,
            "order": null,
            "overflow": null,
            "overflow_x": null,
            "overflow_y": null,
            "padding": null,
            "right": null,
            "top": null,
            "visibility": null,
            "width": null
          }
        },
        "d27def55b85f46709ee6f9f2a6f8f998": {
          "model_module": "@jupyter-widgets/controls",
          "model_name": "DescriptionStyleModel",
          "model_module_version": "1.5.0",
          "state": {
            "_model_module": "@jupyter-widgets/controls",
            "_model_module_version": "1.5.0",
            "_model_name": "DescriptionStyleModel",
            "_view_count": null,
            "_view_module": "@jupyter-widgets/base",
            "_view_module_version": "1.2.0",
            "_view_name": "StyleView",
            "description_width": ""
          }
        },
        "9c49e8ffd61a4d419ff559be8632cd55": {
          "model_module": "@jupyter-widgets/base",
          "model_name": "LayoutModel",
          "model_module_version": "1.2.0",
          "state": {
            "_model_module": "@jupyter-widgets/base",
            "_model_module_version": "1.2.0",
            "_model_name": "LayoutModel",
            "_view_count": null,
            "_view_module": "@jupyter-widgets/base",
            "_view_module_version": "1.2.0",
            "_view_name": "LayoutView",
            "align_content": null,
            "align_items": null,
            "align_self": null,
            "border": null,
            "bottom": null,
            "display": null,
            "flex": null,
            "flex_flow": null,
            "grid_area": null,
            "grid_auto_columns": null,
            "grid_auto_flow": null,
            "grid_auto_rows": null,
            "grid_column": null,
            "grid_gap": null,
            "grid_row": null,
            "grid_template_areas": null,
            "grid_template_columns": null,
            "grid_template_rows": null,
            "height": null,
            "justify_content": null,
            "justify_items": null,
            "left": null,
            "margin": null,
            "max_height": null,
            "max_width": null,
            "min_height": null,
            "min_width": null,
            "object_fit": null,
            "object_position": null,
            "order": null,
            "overflow": null,
            "overflow_x": null,
            "overflow_y": null,
            "padding": null,
            "right": null,
            "top": null,
            "visibility": null,
            "width": null
          }
        },
        "c9acb080e66f4a41bdc0d31d37ea8d9f": {
          "model_module": "@jupyter-widgets/controls",
          "model_name": "ProgressStyleModel",
          "model_module_version": "1.5.0",
          "state": {
            "_model_module": "@jupyter-widgets/controls",
            "_model_module_version": "1.5.0",
            "_model_name": "ProgressStyleModel",
            "_view_count": null,
            "_view_module": "@jupyter-widgets/base",
            "_view_module_version": "1.2.0",
            "_view_name": "StyleView",
            "bar_color": null,
            "description_width": ""
          }
        },
        "5110f7a1a0e7431486bd4623abd23200": {
          "model_module": "@jupyter-widgets/base",
          "model_name": "LayoutModel",
          "model_module_version": "1.2.0",
          "state": {
            "_model_module": "@jupyter-widgets/base",
            "_model_module_version": "1.2.0",
            "_model_name": "LayoutModel",
            "_view_count": null,
            "_view_module": "@jupyter-widgets/base",
            "_view_module_version": "1.2.0",
            "_view_name": "LayoutView",
            "align_content": null,
            "align_items": null,
            "align_self": null,
            "border": null,
            "bottom": null,
            "display": null,
            "flex": null,
            "flex_flow": null,
            "grid_area": null,
            "grid_auto_columns": null,
            "grid_auto_flow": null,
            "grid_auto_rows": null,
            "grid_column": null,
            "grid_gap": null,
            "grid_row": null,
            "grid_template_areas": null,
            "grid_template_columns": null,
            "grid_template_rows": null,
            "height": null,
            "justify_content": null,
            "justify_items": null,
            "left": null,
            "margin": null,
            "max_height": null,
            "max_width": null,
            "min_height": null,
            "min_width": null,
            "object_fit": null,
            "object_position": null,
            "order": null,
            "overflow": null,
            "overflow_x": null,
            "overflow_y": null,
            "padding": null,
            "right": null,
            "top": null,
            "visibility": null,
            "width": null
          }
        },
        "995a14da72d74089b9b9c2a458aebba1": {
          "model_module": "@jupyter-widgets/controls",
          "model_name": "DescriptionStyleModel",
          "model_module_version": "1.5.0",
          "state": {
            "_model_module": "@jupyter-widgets/controls",
            "_model_module_version": "1.5.0",
            "_model_name": "DescriptionStyleModel",
            "_view_count": null,
            "_view_module": "@jupyter-widgets/base",
            "_view_module_version": "1.2.0",
            "_view_name": "StyleView",
            "description_width": ""
          }
        },
        "90d93b555c3e45668622471882da6b17": {
          "model_module": "@jupyter-widgets/controls",
          "model_name": "HBoxModel",
          "model_module_version": "1.5.0",
          "state": {
            "_dom_classes": [],
            "_model_module": "@jupyter-widgets/controls",
            "_model_module_version": "1.5.0",
            "_model_name": "HBoxModel",
            "_view_count": null,
            "_view_module": "@jupyter-widgets/controls",
            "_view_module_version": "1.5.0",
            "_view_name": "HBoxView",
            "box_style": "",
            "children": [
              "IPY_MODEL_f84756c6f7b6454fb350a1643765cd2e",
              "IPY_MODEL_e9864812860d43d6a313d8de54d699c0",
              "IPY_MODEL_65726d5d803b4c76a47405bf908b2440"
            ],
            "layout": "IPY_MODEL_b4981bc2158d4b13a74d813654bc8528"
          }
        },
        "f84756c6f7b6454fb350a1643765cd2e": {
          "model_module": "@jupyter-widgets/controls",
          "model_name": "HTMLModel",
          "model_module_version": "1.5.0",
          "state": {
            "_dom_classes": [],
            "_model_module": "@jupyter-widgets/controls",
            "_model_module_version": "1.5.0",
            "_model_name": "HTMLModel",
            "_view_count": null,
            "_view_module": "@jupyter-widgets/controls",
            "_view_module_version": "1.5.0",
            "_view_name": "HTMLView",
            "description": "",
            "description_tooltip": null,
            "layout": "IPY_MODEL_801ac196e1d14c37b9fe5d0c0fd81d98",
            "placeholder": "​",
            "style": "IPY_MODEL_5a05b2a9a0ef4aadac511eec22dd716b",
            "value": "Generating train split: 100%"
          }
        },
        "e9864812860d43d6a313d8de54d699c0": {
          "model_module": "@jupyter-widgets/controls",
          "model_name": "FloatProgressModel",
          "model_module_version": "1.5.0",
          "state": {
            "_dom_classes": [],
            "_model_module": "@jupyter-widgets/controls",
            "_model_module_version": "1.5.0",
            "_model_name": "FloatProgressModel",
            "_view_count": null,
            "_view_module": "@jupyter-widgets/controls",
            "_view_module_version": "1.5.0",
            "_view_name": "ProgressView",
            "bar_style": "success",
            "description": "",
            "description_tooltip": null,
            "layout": "IPY_MODEL_529c716e09594e48b99b49fba938ecc4",
            "max": 10944,
            "min": 0,
            "orientation": "horizontal",
            "style": "IPY_MODEL_479afb6f88f145ccae5000a698f3b3fa",
            "value": 10944
          }
        },
        "65726d5d803b4c76a47405bf908b2440": {
          "model_module": "@jupyter-widgets/controls",
          "model_name": "HTMLModel",
          "model_module_version": "1.5.0",
          "state": {
            "_dom_classes": [],
            "_model_module": "@jupyter-widgets/controls",
            "_model_module_version": "1.5.0",
            "_model_name": "HTMLModel",
            "_view_count": null,
            "_view_module": "@jupyter-widgets/controls",
            "_view_module_version": "1.5.0",
            "_view_name": "HTMLView",
            "description": "",
            "description_tooltip": null,
            "layout": "IPY_MODEL_0c4e22c7ea31437da959dfc42a31a10f",
            "placeholder": "​",
            "style": "IPY_MODEL_ded22a148167421bad56b6addcff7ba5",
            "value": " 10944/10944 [00:05&lt;00:00, 2501.84 examples/s]"
          }
        },
        "b4981bc2158d4b13a74d813654bc8528": {
          "model_module": "@jupyter-widgets/base",
          "model_name": "LayoutModel",
          "model_module_version": "1.2.0",
          "state": {
            "_model_module": "@jupyter-widgets/base",
            "_model_module_version": "1.2.0",
            "_model_name": "LayoutModel",
            "_view_count": null,
            "_view_module": "@jupyter-widgets/base",
            "_view_module_version": "1.2.0",
            "_view_name": "LayoutView",
            "align_content": null,
            "align_items": null,
            "align_self": null,
            "border": null,
            "bottom": null,
            "display": null,
            "flex": null,
            "flex_flow": null,
            "grid_area": null,
            "grid_auto_columns": null,
            "grid_auto_flow": null,
            "grid_auto_rows": null,
            "grid_column": null,
            "grid_gap": null,
            "grid_row": null,
            "grid_template_areas": null,
            "grid_template_columns": null,
            "grid_template_rows": null,
            "height": null,
            "justify_content": null,
            "justify_items": null,
            "left": null,
            "margin": null,
            "max_height": null,
            "max_width": null,
            "min_height": null,
            "min_width": null,
            "object_fit": null,
            "object_position": null,
            "order": null,
            "overflow": null,
            "overflow_x": null,
            "overflow_y": null,
            "padding": null,
            "right": null,
            "top": null,
            "visibility": null,
            "width": null
          }
        },
        "801ac196e1d14c37b9fe5d0c0fd81d98": {
          "model_module": "@jupyter-widgets/base",
          "model_name": "LayoutModel",
          "model_module_version": "1.2.0",
          "state": {
            "_model_module": "@jupyter-widgets/base",
            "_model_module_version": "1.2.0",
            "_model_name": "LayoutModel",
            "_view_count": null,
            "_view_module": "@jupyter-widgets/base",
            "_view_module_version": "1.2.0",
            "_view_name": "LayoutView",
            "align_content": null,
            "align_items": null,
            "align_self": null,
            "border": null,
            "bottom": null,
            "display": null,
            "flex": null,
            "flex_flow": null,
            "grid_area": null,
            "grid_auto_columns": null,
            "grid_auto_flow": null,
            "grid_auto_rows": null,
            "grid_column": null,
            "grid_gap": null,
            "grid_row": null,
            "grid_template_areas": null,
            "grid_template_columns": null,
            "grid_template_rows": null,
            "height": null,
            "justify_content": null,
            "justify_items": null,
            "left": null,
            "margin": null,
            "max_height": null,
            "max_width": null,
            "min_height": null,
            "min_width": null,
            "object_fit": null,
            "object_position": null,
            "order": null,
            "overflow": null,
            "overflow_x": null,
            "overflow_y": null,
            "padding": null,
            "right": null,
            "top": null,
            "visibility": null,
            "width": null
          }
        },
        "5a05b2a9a0ef4aadac511eec22dd716b": {
          "model_module": "@jupyter-widgets/controls",
          "model_name": "DescriptionStyleModel",
          "model_module_version": "1.5.0",
          "state": {
            "_model_module": "@jupyter-widgets/controls",
            "_model_module_version": "1.5.0",
            "_model_name": "DescriptionStyleModel",
            "_view_count": null,
            "_view_module": "@jupyter-widgets/base",
            "_view_module_version": "1.2.0",
            "_view_name": "StyleView",
            "description_width": ""
          }
        },
        "529c716e09594e48b99b49fba938ecc4": {
          "model_module": "@jupyter-widgets/base",
          "model_name": "LayoutModel",
          "model_module_version": "1.2.0",
          "state": {
            "_model_module": "@jupyter-widgets/base",
            "_model_module_version": "1.2.0",
            "_model_name": "LayoutModel",
            "_view_count": null,
            "_view_module": "@jupyter-widgets/base",
            "_view_module_version": "1.2.0",
            "_view_name": "LayoutView",
            "align_content": null,
            "align_items": null,
            "align_self": null,
            "border": null,
            "bottom": null,
            "display": null,
            "flex": null,
            "flex_flow": null,
            "grid_area": null,
            "grid_auto_columns": null,
            "grid_auto_flow": null,
            "grid_auto_rows": null,
            "grid_column": null,
            "grid_gap": null,
            "grid_row": null,
            "grid_template_areas": null,
            "grid_template_columns": null,
            "grid_template_rows": null,
            "height": null,
            "justify_content": null,
            "justify_items": null,
            "left": null,
            "margin": null,
            "max_height": null,
            "max_width": null,
            "min_height": null,
            "min_width": null,
            "object_fit": null,
            "object_position": null,
            "order": null,
            "overflow": null,
            "overflow_x": null,
            "overflow_y": null,
            "padding": null,
            "right": null,
            "top": null,
            "visibility": null,
            "width": null
          }
        },
        "479afb6f88f145ccae5000a698f3b3fa": {
          "model_module": "@jupyter-widgets/controls",
          "model_name": "ProgressStyleModel",
          "model_module_version": "1.5.0",
          "state": {
            "_model_module": "@jupyter-widgets/controls",
            "_model_module_version": "1.5.0",
            "_model_name": "ProgressStyleModel",
            "_view_count": null,
            "_view_module": "@jupyter-widgets/base",
            "_view_module_version": "1.2.0",
            "_view_name": "StyleView",
            "bar_color": null,
            "description_width": ""
          }
        },
        "0c4e22c7ea31437da959dfc42a31a10f": {
          "model_module": "@jupyter-widgets/base",
          "model_name": "LayoutModel",
          "model_module_version": "1.2.0",
          "state": {
            "_model_module": "@jupyter-widgets/base",
            "_model_module_version": "1.2.0",
            "_model_name": "LayoutModel",
            "_view_count": null,
            "_view_module": "@jupyter-widgets/base",
            "_view_module_version": "1.2.0",
            "_view_name": "LayoutView",
            "align_content": null,
            "align_items": null,
            "align_self": null,
            "border": null,
            "bottom": null,
            "display": null,
            "flex": null,
            "flex_flow": null,
            "grid_area": null,
            "grid_auto_columns": null,
            "grid_auto_flow": null,
            "grid_auto_rows": null,
            "grid_column": null,
            "grid_gap": null,
            "grid_row": null,
            "grid_template_areas": null,
            "grid_template_columns": null,
            "grid_template_rows": null,
            "height": null,
            "justify_content": null,
            "justify_items": null,
            "left": null,
            "margin": null,
            "max_height": null,
            "max_width": null,
            "min_height": null,
            "min_width": null,
            "object_fit": null,
            "object_position": null,
            "order": null,
            "overflow": null,
            "overflow_x": null,
            "overflow_y": null,
            "padding": null,
            "right": null,
            "top": null,
            "visibility": null,
            "width": null
          }
        },
        "ded22a148167421bad56b6addcff7ba5": {
          "model_module": "@jupyter-widgets/controls",
          "model_name": "DescriptionStyleModel",
          "model_module_version": "1.5.0",
          "state": {
            "_model_module": "@jupyter-widgets/controls",
            "_model_module_version": "1.5.0",
            "_model_name": "DescriptionStyleModel",
            "_view_count": null,
            "_view_module": "@jupyter-widgets/base",
            "_view_module_version": "1.2.0",
            "_view_name": "StyleView",
            "description_width": ""
          }
        }
      }
    }
  },
  "nbformat": 4,
  "nbformat_minor": 5
}